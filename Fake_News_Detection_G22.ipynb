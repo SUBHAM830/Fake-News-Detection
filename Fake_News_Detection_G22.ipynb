{
  "cells": [
    {
      "cell_type": "markdown",
      "metadata": {
        "id": "view-in-github",
        "colab_type": "text"
      },
      "source": [
        "<a href=\"https://colab.research.google.com/github/SUBHAM830/Fake-News-Detection/blob/main/Fake_News_Detection_G22.ipynb\" target=\"_parent\"><img src=\"https://colab.research.google.com/assets/colab-badge.svg\" alt=\"Open In Colab\"/></a>"
      ]
    },
    {
      "cell_type": "code",
      "execution_count": null,
      "metadata": {
        "id": "dpHd11tTTi0n"
      },
      "outputs": [],
      "source": [
        "# Let us import the required libraries\n",
        "import numpy as np\n",
        "import pandas as pd\n",
        "import re\n",
        "from nltk.corpus import stopwords\n",
        "from nltk.stem.porter import PorterStemmer\n",
        "from sklearn.feature_extraction.text import TfidfVectorizer\n",
        "from sklearn.model_selection import train_test_split\n",
        "from sklearn.linear_model import LogisticRegression\n",
        "from sklearn.metrics import accuracy_score"
      ]
    },
    {
      "cell_type": "code",
      "execution_count": null,
      "metadata": {
        "colab": {
          "base_uri": "https://localhost:8080/"
        },
        "id": "pc2A2o3vtJRe",
        "outputId": "074e01f5-c4b4-43a9-f7cd-d468ee5a8e61"
      },
      "outputs": [
        {
          "output_type": "stream",
          "name": "stdout",
          "text": [
            "[nltk_data] Downloading package stopwords to /root/nltk_data...\n",
            "[nltk_data]   Unzipping corpora/stopwords.zip.\n"
          ]
        },
        {
          "output_type": "execute_result",
          "data": {
            "text/plain": [
              "True"
            ]
          },
          "metadata": {},
          "execution_count": 2
        }
      ],
      "source": [
        "# Stopwords\n",
        "import nltk\n",
        "nltk.download('stopwords')"
      ]
    },
    {
      "cell_type": "code",
      "execution_count": null,
      "metadata": {
        "id": "tyoqoQ7_tRWi"
      },
      "outputs": [],
      "source": [
        ""
      ]
    },
    {
      "cell_type": "markdown",
      "metadata": {
        "id": "IVRvZVbjtd53"
      },
      "source": [
        "About the Dataset:\n",
        "\n",
        "1.id: unique id for a news article\n",
        "\n",
        "2.title: the title of a news article\n",
        "\n",
        "3.author: author of the news article\n",
        "\n",
        "4.text: the text of the article; could be incomplete\n",
        "\n",
        "5.label: a label that marks whether the news article is real or fake:\n",
        "\n",
        "1 For Fake News \n",
        "\n",
        "0 For True News\n"
      ]
    },
    {
      "cell_type": "code",
      "execution_count": null,
      "metadata": {
        "colab": {
          "base_uri": "https://localhost:8080/"
        },
        "id": "04gu6rHR04lg",
        "outputId": "9b723ce6-0b21-44c7-f994-1df24589a321"
      },
      "outputs": [
        {
          "output_type": "stream",
          "name": "stdout",
          "text": [
            "Mounted at /content/drive\n"
          ]
        }
      ],
      "source": [
        "#mount\n",
        "from google.colab import drive\n",
        "drive.mount('/content/drive')"
      ]
    },
    {
      "cell_type": "code",
      "execution_count": null,
      "metadata": {
        "colab": {
          "base_uri": "https://localhost:8080/"
        },
        "id": "Jpm5aC1Zt6c7",
        "outputId": "0cde1bee-a0d0-4f42-adaa-b5b6f211ab96"
      },
      "outputs": [
        {
          "output_type": "stream",
          "name": "stdout",
          "text": [
            "['i', 'me', 'my', 'myself', 'we', 'our', 'ours', 'ourselves', 'you', \"you're\", \"you've\", \"you'll\", \"you'd\", 'your', 'yours', 'yourself', 'yourselves', 'he', 'him', 'his', 'himself', 'she', \"she's\", 'her', 'hers', 'herself', 'it', \"it's\", 'its', 'itself', 'they', 'them', 'their', 'theirs', 'themselves', 'what', 'which', 'who', 'whom', 'this', 'that', \"that'll\", 'these', 'those', 'am', 'is', 'are', 'was', 'were', 'be', 'been', 'being', 'have', 'has', 'had', 'having', 'do', 'does', 'did', 'doing', 'a', 'an', 'the', 'and', 'but', 'if', 'or', 'because', 'as', 'until', 'while', 'of', 'at', 'by', 'for', 'with', 'about', 'against', 'between', 'into', 'through', 'during', 'before', 'after', 'above', 'below', 'to', 'from', 'up', 'down', 'in', 'out', 'on', 'off', 'over', 'under', 'again', 'further', 'then', 'once', 'here', 'there', 'when', 'where', 'why', 'how', 'all', 'any', 'both', 'each', 'few', 'more', 'most', 'other', 'some', 'such', 'no', 'nor', 'not', 'only', 'own', 'same', 'so', 'than', 'too', 'very', 's', 't', 'can', 'will', 'just', 'don', \"don't\", 'should', \"should've\", 'now', 'd', 'll', 'm', 'o', 're', 've', 'y', 'ain', 'aren', \"aren't\", 'couldn', \"couldn't\", 'didn', \"didn't\", 'doesn', \"doesn't\", 'hadn', \"hadn't\", 'hasn', \"hasn't\", 'haven', \"haven't\", 'isn', \"isn't\", 'ma', 'mightn', \"mightn't\", 'mustn', \"mustn't\", 'needn', \"needn't\", 'shan', \"shan't\", 'shouldn', \"shouldn't\", 'wasn', \"wasn't\", 'weren', \"weren't\", 'won', \"won't\", 'wouldn', \"wouldn't\"]\n"
          ]
        }
      ],
      "source": [
        "# printing the stopwords in English\n",
        "print(stopwords.words('english'))"
      ]
    },
    {
      "cell_type": "code",
      "execution_count": null,
      "metadata": {
        "id": "J_5sRP6Vt2ua"
      },
      "outputs": [],
      "source": [
        "\n",
        "\n"
      ]
    },
    {
      "cell_type": "code",
      "execution_count": null,
      "metadata": {
        "id": "NlDTW9LTFDap"
      },
      "outputs": [],
      "source": [
        "# Now Loading the dataset\n",
        "DataSet=pd.read_csv('/content/drive/My Drive/FakeNewsDetection/Dataset/train.csv')"
      ]
    },
    {
      "cell_type": "code",
      "execution_count": null,
      "metadata": {
        "colab": {
          "base_uri": "https://localhost:8080/"
        },
        "id": "hu2dPDwatwRl",
        "outputId": "86daa309-18b9-48b6-bdd2-950e5408193a"
      },
      "outputs": [
        {
          "output_type": "execute_result",
          "data": {
            "text/plain": [
              "(20800, 5)"
            ]
          },
          "metadata": {},
          "execution_count": 6
        }
      ],
      "source": [
        "# Let us check the shape of the dataset\n",
        "DataSet.shape"
      ]
    },
    {
      "cell_type": "code",
      "execution_count": null,
      "metadata": {
        "colab": {
          "base_uri": "https://localhost:8080/",
          "height": 363
        },
        "id": "CISCsyhavsDK",
        "outputId": "9f6dca8a-7ad7-42f1-8d0c-a26a8b8d0a4c"
      },
      "outputs": [
        {
          "output_type": "execute_result",
          "data": {
            "text/plain": [
              "   id                                              title  \\\n",
              "0   0  House Dem Aide: We Didn’t Even See Comey’s Let...   \n",
              "1   1  FLYNN: Hillary Clinton, Big Woman on Campus - ...   \n",
              "2   2                  Why the Truth Might Get You Fired   \n",
              "3   3  15 Civilians Killed In Single US Airstrike Hav...   \n",
              "4   4  Iranian woman jailed for fictional unpublished...   \n",
              "5   5  Jackie Mason: Hollywood Would Love Trump if He...   \n",
              "6   6  Life: Life Of Luxury: Elton John’s 6 Favorite ...   \n",
              "7   7  Benoît Hamon Wins French Socialist Party’s Pre...   \n",
              "8   8  Excerpts From a Draft Script for Donald Trump’...   \n",
              "9   9  A Back-Channel Plan for Ukraine and Russia, Co...   \n",
              "\n",
              "                         author  \\\n",
              "0                 Darrell Lucus   \n",
              "1               Daniel J. Flynn   \n",
              "2            Consortiumnews.com   \n",
              "3               Jessica Purkiss   \n",
              "4                Howard Portnoy   \n",
              "5               Daniel Nussbaum   \n",
              "6                           NaN   \n",
              "7               Alissa J. Rubin   \n",
              "8                           NaN   \n",
              "9  Megan Twohey and Scott Shane   \n",
              "\n",
              "                                                text  label  \n",
              "0  House Dem Aide: We Didn’t Even See Comey’s Let...      1  \n",
              "1  Ever get the feeling your life circles the rou...      0  \n",
              "2  Why the Truth Might Get You Fired October 29, ...      1  \n",
              "3  Videos 15 Civilians Killed In Single US Airstr...      1  \n",
              "4  Print \\nAn Iranian woman has been sentenced to...      1  \n",
              "5  In these trying times, Jackie Mason is the Voi...      0  \n",
              "6  Ever wonder how Britain’s most iconic pop pian...      1  \n",
              "7  PARIS  —   France chose an idealistic, traditi...      0  \n",
              "8  Donald J. Trump is scheduled to make a highly ...      0  \n",
              "9  A week before Michael T. Flynn resigned as nat...      0  "
            ],
            "text/html": [
              "\n",
              "  <div id=\"df-050e77a8-5cf9-45ab-b527-663abcab977f\">\n",
              "    <div class=\"colab-df-container\">\n",
              "      <div>\n",
              "<style scoped>\n",
              "    .dataframe tbody tr th:only-of-type {\n",
              "        vertical-align: middle;\n",
              "    }\n",
              "\n",
              "    .dataframe tbody tr th {\n",
              "        vertical-align: top;\n",
              "    }\n",
              "\n",
              "    .dataframe thead th {\n",
              "        text-align: right;\n",
              "    }\n",
              "</style>\n",
              "<table border=\"1\" class=\"dataframe\">\n",
              "  <thead>\n",
              "    <tr style=\"text-align: right;\">\n",
              "      <th></th>\n",
              "      <th>id</th>\n",
              "      <th>title</th>\n",
              "      <th>author</th>\n",
              "      <th>text</th>\n",
              "      <th>label</th>\n",
              "    </tr>\n",
              "  </thead>\n",
              "  <tbody>\n",
              "    <tr>\n",
              "      <th>0</th>\n",
              "      <td>0</td>\n",
              "      <td>House Dem Aide: We Didn’t Even See Comey’s Let...</td>\n",
              "      <td>Darrell Lucus</td>\n",
              "      <td>House Dem Aide: We Didn’t Even See Comey’s Let...</td>\n",
              "      <td>1</td>\n",
              "    </tr>\n",
              "    <tr>\n",
              "      <th>1</th>\n",
              "      <td>1</td>\n",
              "      <td>FLYNN: Hillary Clinton, Big Woman on Campus - ...</td>\n",
              "      <td>Daniel J. Flynn</td>\n",
              "      <td>Ever get the feeling your life circles the rou...</td>\n",
              "      <td>0</td>\n",
              "    </tr>\n",
              "    <tr>\n",
              "      <th>2</th>\n",
              "      <td>2</td>\n",
              "      <td>Why the Truth Might Get You Fired</td>\n",
              "      <td>Consortiumnews.com</td>\n",
              "      <td>Why the Truth Might Get You Fired October 29, ...</td>\n",
              "      <td>1</td>\n",
              "    </tr>\n",
              "    <tr>\n",
              "      <th>3</th>\n",
              "      <td>3</td>\n",
              "      <td>15 Civilians Killed In Single US Airstrike Hav...</td>\n",
              "      <td>Jessica Purkiss</td>\n",
              "      <td>Videos 15 Civilians Killed In Single US Airstr...</td>\n",
              "      <td>1</td>\n",
              "    </tr>\n",
              "    <tr>\n",
              "      <th>4</th>\n",
              "      <td>4</td>\n",
              "      <td>Iranian woman jailed for fictional unpublished...</td>\n",
              "      <td>Howard Portnoy</td>\n",
              "      <td>Print \\nAn Iranian woman has been sentenced to...</td>\n",
              "      <td>1</td>\n",
              "    </tr>\n",
              "    <tr>\n",
              "      <th>5</th>\n",
              "      <td>5</td>\n",
              "      <td>Jackie Mason: Hollywood Would Love Trump if He...</td>\n",
              "      <td>Daniel Nussbaum</td>\n",
              "      <td>In these trying times, Jackie Mason is the Voi...</td>\n",
              "      <td>0</td>\n",
              "    </tr>\n",
              "    <tr>\n",
              "      <th>6</th>\n",
              "      <td>6</td>\n",
              "      <td>Life: Life Of Luxury: Elton John’s 6 Favorite ...</td>\n",
              "      <td>NaN</td>\n",
              "      <td>Ever wonder how Britain’s most iconic pop pian...</td>\n",
              "      <td>1</td>\n",
              "    </tr>\n",
              "    <tr>\n",
              "      <th>7</th>\n",
              "      <td>7</td>\n",
              "      <td>Benoît Hamon Wins French Socialist Party’s Pre...</td>\n",
              "      <td>Alissa J. Rubin</td>\n",
              "      <td>PARIS  —   France chose an idealistic, traditi...</td>\n",
              "      <td>0</td>\n",
              "    </tr>\n",
              "    <tr>\n",
              "      <th>8</th>\n",
              "      <td>8</td>\n",
              "      <td>Excerpts From a Draft Script for Donald Trump’...</td>\n",
              "      <td>NaN</td>\n",
              "      <td>Donald J. Trump is scheduled to make a highly ...</td>\n",
              "      <td>0</td>\n",
              "    </tr>\n",
              "    <tr>\n",
              "      <th>9</th>\n",
              "      <td>9</td>\n",
              "      <td>A Back-Channel Plan for Ukraine and Russia, Co...</td>\n",
              "      <td>Megan Twohey and Scott Shane</td>\n",
              "      <td>A week before Michael T. Flynn resigned as nat...</td>\n",
              "      <td>0</td>\n",
              "    </tr>\n",
              "  </tbody>\n",
              "</table>\n",
              "</div>\n",
              "      <button class=\"colab-df-convert\" onclick=\"convertToInteractive('df-050e77a8-5cf9-45ab-b527-663abcab977f')\"\n",
              "              title=\"Convert this dataframe to an interactive table.\"\n",
              "              style=\"display:none;\">\n",
              "        \n",
              "  <svg xmlns=\"http://www.w3.org/2000/svg\" height=\"24px\"viewBox=\"0 0 24 24\"\n",
              "       width=\"24px\">\n",
              "    <path d=\"M0 0h24v24H0V0z\" fill=\"none\"/>\n",
              "    <path d=\"M18.56 5.44l.94 2.06.94-2.06 2.06-.94-2.06-.94-.94-2.06-.94 2.06-2.06.94zm-11 1L8.5 8.5l.94-2.06 2.06-.94-2.06-.94L8.5 2.5l-.94 2.06-2.06.94zm10 10l.94 2.06.94-2.06 2.06-.94-2.06-.94-.94-2.06-.94 2.06-2.06.94z\"/><path d=\"M17.41 7.96l-1.37-1.37c-.4-.4-.92-.59-1.43-.59-.52 0-1.04.2-1.43.59L10.3 9.45l-7.72 7.72c-.78.78-.78 2.05 0 2.83L4 21.41c.39.39.9.59 1.41.59.51 0 1.02-.2 1.41-.59l7.78-7.78 2.81-2.81c.8-.78.8-2.07 0-2.86zM5.41 20L4 18.59l7.72-7.72 1.47 1.35L5.41 20z\"/>\n",
              "  </svg>\n",
              "      </button>\n",
              "      \n",
              "  <style>\n",
              "    .colab-df-container {\n",
              "      display:flex;\n",
              "      flex-wrap:wrap;\n",
              "      gap: 12px;\n",
              "    }\n",
              "\n",
              "    .colab-df-convert {\n",
              "      background-color: #E8F0FE;\n",
              "      border: none;\n",
              "      border-radius: 50%;\n",
              "      cursor: pointer;\n",
              "      display: none;\n",
              "      fill: #1967D2;\n",
              "      height: 32px;\n",
              "      padding: 0 0 0 0;\n",
              "      width: 32px;\n",
              "    }\n",
              "\n",
              "    .colab-df-convert:hover {\n",
              "      background-color: #E2EBFA;\n",
              "      box-shadow: 0px 1px 2px rgba(60, 64, 67, 0.3), 0px 1px 3px 1px rgba(60, 64, 67, 0.15);\n",
              "      fill: #174EA6;\n",
              "    }\n",
              "\n",
              "    [theme=dark] .colab-df-convert {\n",
              "      background-color: #3B4455;\n",
              "      fill: #D2E3FC;\n",
              "    }\n",
              "\n",
              "    [theme=dark] .colab-df-convert:hover {\n",
              "      background-color: #434B5C;\n",
              "      box-shadow: 0px 1px 3px 1px rgba(0, 0, 0, 0.15);\n",
              "      filter: drop-shadow(0px 1px 2px rgba(0, 0, 0, 0.3));\n",
              "      fill: #FFFFFF;\n",
              "    }\n",
              "  </style>\n",
              "\n",
              "      <script>\n",
              "        const buttonEl =\n",
              "          document.querySelector('#df-050e77a8-5cf9-45ab-b527-663abcab977f button.colab-df-convert');\n",
              "        buttonEl.style.display =\n",
              "          google.colab.kernel.accessAllowed ? 'block' : 'none';\n",
              "\n",
              "        async function convertToInteractive(key) {\n",
              "          const element = document.querySelector('#df-050e77a8-5cf9-45ab-b527-663abcab977f');\n",
              "          const dataTable =\n",
              "            await google.colab.kernel.invokeFunction('convertToInteractive',\n",
              "                                                     [key], {});\n",
              "          if (!dataTable) return;\n",
              "\n",
              "          const docLinkHtml = 'Like what you see? Visit the ' +\n",
              "            '<a target=\"_blank\" href=https://colab.research.google.com/notebooks/data_table.ipynb>data table notebook</a>'\n",
              "            + ' to learn more about interactive tables.';\n",
              "          element.innerHTML = '';\n",
              "          dataTable['output_type'] = 'display_data';\n",
              "          await google.colab.output.renderOutput(dataTable, element);\n",
              "          const docLink = document.createElement('div');\n",
              "          docLink.innerHTML = docLinkHtml;\n",
              "          element.appendChild(docLink);\n",
              "        }\n",
              "      </script>\n",
              "    </div>\n",
              "  </div>\n",
              "  "
            ]
          },
          "metadata": {},
          "execution_count": 7
        }
      ],
      "source": [
        "#Let us check first 10 records of the dataset\n",
        "DataSet.head(10)"
      ]
    },
    {
      "cell_type": "markdown",
      "metadata": {
        "id": "IrRAWJWmxZHl"
      },
      "source": [
        "Data Pre-processing"
      ]
    },
    {
      "cell_type": "code",
      "execution_count": null,
      "metadata": {
        "colab": {
          "base_uri": "https://localhost:8080/",
          "height": 300
        },
        "id": "-sAWEmyaVdEy",
        "outputId": "de45a17c-51d5-44f9-e572-f3a0837645a8"
      },
      "outputs": [
        {
          "output_type": "execute_result",
          "data": {
            "text/plain": [
              "                 id         label\n",
              "count  20800.000000  20800.000000\n",
              "mean   10399.500000      0.500625\n",
              "std     6004.587135      0.500012\n",
              "min        0.000000      0.000000\n",
              "25%     5199.750000      0.000000\n",
              "50%    10399.500000      1.000000\n",
              "75%    15599.250000      1.000000\n",
              "max    20799.000000      1.000000"
            ],
            "text/html": [
              "\n",
              "  <div id=\"df-cdbf3bdf-4663-4082-a899-f13b81ad0734\">\n",
              "    <div class=\"colab-df-container\">\n",
              "      <div>\n",
              "<style scoped>\n",
              "    .dataframe tbody tr th:only-of-type {\n",
              "        vertical-align: middle;\n",
              "    }\n",
              "\n",
              "    .dataframe tbody tr th {\n",
              "        vertical-align: top;\n",
              "    }\n",
              "\n",
              "    .dataframe thead th {\n",
              "        text-align: right;\n",
              "    }\n",
              "</style>\n",
              "<table border=\"1\" class=\"dataframe\">\n",
              "  <thead>\n",
              "    <tr style=\"text-align: right;\">\n",
              "      <th></th>\n",
              "      <th>id</th>\n",
              "      <th>label</th>\n",
              "    </tr>\n",
              "  </thead>\n",
              "  <tbody>\n",
              "    <tr>\n",
              "      <th>count</th>\n",
              "      <td>20800.000000</td>\n",
              "      <td>20800.000000</td>\n",
              "    </tr>\n",
              "    <tr>\n",
              "      <th>mean</th>\n",
              "      <td>10399.500000</td>\n",
              "      <td>0.500625</td>\n",
              "    </tr>\n",
              "    <tr>\n",
              "      <th>std</th>\n",
              "      <td>6004.587135</td>\n",
              "      <td>0.500012</td>\n",
              "    </tr>\n",
              "    <tr>\n",
              "      <th>min</th>\n",
              "      <td>0.000000</td>\n",
              "      <td>0.000000</td>\n",
              "    </tr>\n",
              "    <tr>\n",
              "      <th>25%</th>\n",
              "      <td>5199.750000</td>\n",
              "      <td>0.000000</td>\n",
              "    </tr>\n",
              "    <tr>\n",
              "      <th>50%</th>\n",
              "      <td>10399.500000</td>\n",
              "      <td>1.000000</td>\n",
              "    </tr>\n",
              "    <tr>\n",
              "      <th>75%</th>\n",
              "      <td>15599.250000</td>\n",
              "      <td>1.000000</td>\n",
              "    </tr>\n",
              "    <tr>\n",
              "      <th>max</th>\n",
              "      <td>20799.000000</td>\n",
              "      <td>1.000000</td>\n",
              "    </tr>\n",
              "  </tbody>\n",
              "</table>\n",
              "</div>\n",
              "      <button class=\"colab-df-convert\" onclick=\"convertToInteractive('df-cdbf3bdf-4663-4082-a899-f13b81ad0734')\"\n",
              "              title=\"Convert this dataframe to an interactive table.\"\n",
              "              style=\"display:none;\">\n",
              "        \n",
              "  <svg xmlns=\"http://www.w3.org/2000/svg\" height=\"24px\"viewBox=\"0 0 24 24\"\n",
              "       width=\"24px\">\n",
              "    <path d=\"M0 0h24v24H0V0z\" fill=\"none\"/>\n",
              "    <path d=\"M18.56 5.44l.94 2.06.94-2.06 2.06-.94-2.06-.94-.94-2.06-.94 2.06-2.06.94zm-11 1L8.5 8.5l.94-2.06 2.06-.94-2.06-.94L8.5 2.5l-.94 2.06-2.06.94zm10 10l.94 2.06.94-2.06 2.06-.94-2.06-.94-.94-2.06-.94 2.06-2.06.94z\"/><path d=\"M17.41 7.96l-1.37-1.37c-.4-.4-.92-.59-1.43-.59-.52 0-1.04.2-1.43.59L10.3 9.45l-7.72 7.72c-.78.78-.78 2.05 0 2.83L4 21.41c.39.39.9.59 1.41.59.51 0 1.02-.2 1.41-.59l7.78-7.78 2.81-2.81c.8-.78.8-2.07 0-2.86zM5.41 20L4 18.59l7.72-7.72 1.47 1.35L5.41 20z\"/>\n",
              "  </svg>\n",
              "      </button>\n",
              "      \n",
              "  <style>\n",
              "    .colab-df-container {\n",
              "      display:flex;\n",
              "      flex-wrap:wrap;\n",
              "      gap: 12px;\n",
              "    }\n",
              "\n",
              "    .colab-df-convert {\n",
              "      background-color: #E8F0FE;\n",
              "      border: none;\n",
              "      border-radius: 50%;\n",
              "      cursor: pointer;\n",
              "      display: none;\n",
              "      fill: #1967D2;\n",
              "      height: 32px;\n",
              "      padding: 0 0 0 0;\n",
              "      width: 32px;\n",
              "    }\n",
              "\n",
              "    .colab-df-convert:hover {\n",
              "      background-color: #E2EBFA;\n",
              "      box-shadow: 0px 1px 2px rgba(60, 64, 67, 0.3), 0px 1px 3px 1px rgba(60, 64, 67, 0.15);\n",
              "      fill: #174EA6;\n",
              "    }\n",
              "\n",
              "    [theme=dark] .colab-df-convert {\n",
              "      background-color: #3B4455;\n",
              "      fill: #D2E3FC;\n",
              "    }\n",
              "\n",
              "    [theme=dark] .colab-df-convert:hover {\n",
              "      background-color: #434B5C;\n",
              "      box-shadow: 0px 1px 3px 1px rgba(0, 0, 0, 0.15);\n",
              "      filter: drop-shadow(0px 1px 2px rgba(0, 0, 0, 0.3));\n",
              "      fill: #FFFFFF;\n",
              "    }\n",
              "  </style>\n",
              "\n",
              "      <script>\n",
              "        const buttonEl =\n",
              "          document.querySelector('#df-cdbf3bdf-4663-4082-a899-f13b81ad0734 button.colab-df-convert');\n",
              "        buttonEl.style.display =\n",
              "          google.colab.kernel.accessAllowed ? 'block' : 'none';\n",
              "\n",
              "        async function convertToInteractive(key) {\n",
              "          const element = document.querySelector('#df-cdbf3bdf-4663-4082-a899-f13b81ad0734');\n",
              "          const dataTable =\n",
              "            await google.colab.kernel.invokeFunction('convertToInteractive',\n",
              "                                                     [key], {});\n",
              "          if (!dataTable) return;\n",
              "\n",
              "          const docLinkHtml = 'Like what you see? Visit the ' +\n",
              "            '<a target=\"_blank\" href=https://colab.research.google.com/notebooks/data_table.ipynb>data table notebook</a>'\n",
              "            + ' to learn more about interactive tables.';\n",
              "          element.innerHTML = '';\n",
              "          dataTable['output_type'] = 'display_data';\n",
              "          await google.colab.output.renderOutput(dataTable, element);\n",
              "          const docLink = document.createElement('div');\n",
              "          docLink.innerHTML = docLinkHtml;\n",
              "          element.appendChild(docLink);\n",
              "        }\n",
              "      </script>\n",
              "    </div>\n",
              "  </div>\n",
              "  "
            ]
          },
          "metadata": {},
          "execution_count": 8
        }
      ],
      "source": [
        "#descriptive statistics\n",
        "DataSet.describe()"
      ]
    },
    {
      "cell_type": "code",
      "execution_count": null,
      "metadata": {
        "colab": {
          "base_uri": "https://localhost:8080/"
        },
        "id": "BHqdcLp3v8Pj",
        "outputId": "20861e17-7d28-460c-e55b-24a784073640"
      },
      "outputs": [
        {
          "output_type": "execute_result",
          "data": {
            "text/plain": [
              "id           0\n",
              "title      558\n",
              "author    1957\n",
              "text        39\n",
              "label        0\n",
              "dtype: int64"
            ]
          },
          "metadata": {},
          "execution_count": 7
        }
      ],
      "source": [
        "#Now check the missing values\n",
        "DataSet.isnull().sum()"
      ]
    },
    {
      "cell_type": "code",
      "execution_count": null,
      "metadata": {
        "id": "uzLJCw9OwA1w"
      },
      "outputs": [],
      "source": [
        "#Now let us replace the null values with empty string\n",
        "DataSet=DataSet.fillna('')"
      ]
    },
    {
      "cell_type": "code",
      "execution_count": null,
      "metadata": {
        "colab": {
          "base_uri": "https://localhost:8080/"
        },
        "id": "u5rBtxtCwH0b",
        "outputId": "3fa4250e-df4a-47aa-c710-319748cb969c"
      },
      "outputs": [
        {
          "output_type": "execute_result",
          "data": {
            "text/plain": [
              "id        0\n",
              "title     0\n",
              "author    0\n",
              "text      0\n",
              "label     0\n",
              "dtype: int64"
            ]
          },
          "metadata": {},
          "execution_count": 9
        }
      ],
      "source": [
        "#Now let us check null value again \n",
        "DataSet.isnull().sum()"
      ]
    },
    {
      "cell_type": "code",
      "execution_count": null,
      "metadata": {
        "id": "xHxfN5V4wO8s"
      },
      "outputs": [],
      "source": [
        "# merging the author name and news title\n",
        "DataSet['content'] =DataSet['author']+' '+DataSet['title']"
      ]
    },
    {
      "cell_type": "code",
      "execution_count": null,
      "metadata": {
        "colab": {
          "base_uri": "https://localhost:8080/"
        },
        "id": "KqVdC0k2w9hH",
        "outputId": "fb2c2c92-3b2a-4408-a9ee-ead0abb21aae"
      },
      "outputs": [
        {
          "output_type": "stream",
          "name": "stdout",
          "text": [
            "0        Darrell Lucus House Dem Aide: We Didn’t Even S...\n",
            "1        Daniel J. Flynn FLYNN: Hillary Clinton, Big Wo...\n",
            "2        Consortiumnews.com Why the Truth Might Get You...\n",
            "3        Jessica Purkiss 15 Civilians Killed In Single ...\n",
            "4        Howard Portnoy Iranian woman jailed for fictio...\n",
            "                               ...                        \n",
            "20795    Jerome Hudson Rapper T.I.: Trump a ’Poster Chi...\n",
            "20796    Benjamin Hoffman N.F.L. Playoffs: Schedule, Ma...\n",
            "20797    Michael J. de la Merced and Rachel Abrams Macy...\n",
            "20798    Alex Ansary NATO, Russia To Hold Parallel Exer...\n",
            "20799              David Swanson What Keeps the F-35 Alive\n",
            "Name: content, Length: 20800, dtype: object\n"
          ]
        }
      ],
      "source": [
        "print(DataSet['content'])"
      ]
    },
    {
      "cell_type": "code",
      "execution_count": null,
      "metadata": {
        "id": "mGlEWiKfxBxg"
      },
      "outputs": [],
      "source": [
        ""
      ]
    },
    {
      "cell_type": "markdown",
      "metadata": {
        "id": "hxKWMAE6xrE_"
      },
      "source": [
        "Now Performing Stemming"
      ]
    },
    {
      "cell_type": "code",
      "execution_count": null,
      "metadata": {
        "id": "-KdlL9aJxvCM"
      },
      "outputs": [],
      "source": [
        "port_stem = PorterStemmer()"
      ]
    },
    {
      "cell_type": "code",
      "execution_count": null,
      "metadata": {
        "id": "nmvAy4MXxzyQ"
      },
      "outputs": [],
      "source": [
        "def stemming(content):\n",
        "    stemmed_content = re.sub('[^a-zA-Z]',' ',content)\n",
        "    stemmed_content = stemmed_content.lower()\n",
        "    stemmed_content = stemmed_content.split()\n",
        "    stemmed_content = [port_stem.stem(word) for word in stemmed_content if not word in stopwords.words('english')]\n",
        "    stemmed_content = ' '.join(stemmed_content)\n",
        "    return stemmed_content"
      ]
    },
    {
      "cell_type": "code",
      "execution_count": null,
      "metadata": {
        "id": "xPvMmxA3x5ZT"
      },
      "outputs": [],
      "source": [
        "DataSet['content'] = DataSet['content'].apply(stemming)"
      ]
    },
    {
      "cell_type": "code",
      "execution_count": null,
      "metadata": {
        "colab": {
          "base_uri": "https://localhost:8080/"
        },
        "id": "CSp4UsmhyEXw",
        "outputId": "136196b0-d678-4404-f531-3fbfd4276f97"
      },
      "outputs": [
        {
          "output_type": "stream",
          "name": "stdout",
          "text": [
            "0        darrel lucu hous dem aid even see comey letter...\n",
            "1        daniel j flynn flynn hillari clinton big woman...\n",
            "2                   consortiumnew com truth might get fire\n",
            "3        jessica purkiss civilian kill singl us airstri...\n",
            "4        howard portnoy iranian woman jail fiction unpu...\n",
            "                               ...                        \n",
            "20795    jerom hudson rapper trump poster child white s...\n",
            "20796    benjamin hoffman n f l playoff schedul matchup...\n",
            "20797    michael j de la merc rachel abram maci said re...\n",
            "20798    alex ansari nato russia hold parallel exercis ...\n",
            "20799                            david swanson keep f aliv\n",
            "Name: content, Length: 20800, dtype: object\n"
          ]
        }
      ],
      "source": [
        "print(DataSet['content'])"
      ]
    },
    {
      "cell_type": "code",
      "execution_count": null,
      "metadata": {
        "id": "E5AYVMG1yU-6"
      },
      "outputs": [],
      "source": [
        "#separating the data and label\n",
        "X = DataSet['content'].values\n",
        "Y = DataSet['label'].values"
      ]
    },
    {
      "cell_type": "code",
      "execution_count": null,
      "metadata": {
        "id": "LSgoc-NVyapX"
      },
      "outputs": [],
      "source": [
        "# converting the textual data to numerical data\n",
        "vectorizer = TfidfVectorizer()\n",
        "vectorizer.fit(X)\n",
        "\n",
        "X = vectorizer.transform(X)"
      ]
    },
    {
      "cell_type": "markdown",
      "metadata": {
        "id": "wvQy_Vsyym1N"
      },
      "source": [
        "Split the dataset in Train Test form"
      ]
    },
    {
      "cell_type": "code",
      "execution_count": null,
      "metadata": {
        "id": "mNBDV70JyrRA"
      },
      "outputs": [],
      "source": [
        "X_train, X_test, Y_train, Y_test = train_test_split(X, Y, test_size = 0.3, stratify=Y, random_state=2)"
      ]
    },
    {
      "cell_type": "code",
      "execution_count": null,
      "metadata": {
        "id": "o88D9jyqywRJ"
      },
      "outputs": [],
      "source": [
        ""
      ]
    },
    {
      "cell_type": "markdown",
      "metadata": {
        "id": "8FZg3G8YzAfp"
      },
      "source": [
        "Appliying Algoes\n",
        "1. Logistic Regression"
      ]
    },
    {
      "cell_type": "code",
      "execution_count": null,
      "metadata": {
        "id": "2pliMSnBzBuo"
      },
      "outputs": [],
      "source": [
        "LR = LogisticRegression()"
      ]
    },
    {
      "cell_type": "code",
      "execution_count": null,
      "metadata": {
        "colab": {
          "base_uri": "https://localhost:8080/"
        },
        "id": "YSqhG4bkzIFQ",
        "outputId": "2af9273e-0147-41d2-d7ba-28ef8dd53cca"
      },
      "outputs": [
        {
          "output_type": "execute_result",
          "data": {
            "text/plain": [
              "LogisticRegression()"
            ]
          },
          "metadata": {},
          "execution_count": 23
        }
      ],
      "source": [
        "# Fit the model\n",
        "LR.fit(X_train, Y_train)"
      ]
    },
    {
      "cell_type": "code",
      "execution_count": null,
      "metadata": {
        "id": "QpqhCxrMzQmC"
      },
      "outputs": [],
      "source": [
        "# accuracy score on the training data\n",
        "X_train_prediction = LR.predict(X_train)\n",
        "training_data_accuracy = accuracy_score(X_train_prediction, Y_train)"
      ]
    },
    {
      "cell_type": "code",
      "execution_count": null,
      "metadata": {
        "colab": {
          "base_uri": "https://localhost:8080/"
        },
        "id": "IDE5xPfHy9aR",
        "outputId": "6df59aad-85f0-415f-8566-e7eed474a255"
      },
      "outputs": [
        {
          "output_type": "stream",
          "name": "stdout",
          "text": [
            "Accuracy score of the training data :  0.9850961538461539\n"
          ]
        }
      ],
      "source": [
        "print('Accuracy score of the training data : ', training_data_accuracy)"
      ]
    },
    {
      "cell_type": "code",
      "execution_count": null,
      "metadata": {
        "id": "Fv1HOexlzfK3"
      },
      "outputs": [],
      "source": [
        "# accuracy score on the test data\n",
        "X_test_prediction = LR.predict(X_test)\n",
        "test_data_accuracy = accuracy_score(X_test_prediction, Y_test)"
      ]
    },
    {
      "cell_type": "code",
      "execution_count": null,
      "metadata": {
        "colab": {
          "base_uri": "https://localhost:8080/"
        },
        "id": "CrQjLrE7zk2n",
        "outputId": "0af2659b-0404-4fab-b5f4-36b8ea974f4f"
      },
      "outputs": [
        {
          "output_type": "stream",
          "name": "stdout",
          "text": [
            "Accuracy score of the test data :  0.9743589743589743\n"
          ]
        }
      ],
      "source": [
        "print('Accuracy score of the test data : ', test_data_accuracy)"
      ]
    },
    {
      "cell_type": "markdown",
      "metadata": {
        "id": "NC8JjonR0ABY"
      },
      "source": [
        "2. Decision Tree Classifier"
      ]
    },
    {
      "cell_type": "code",
      "execution_count": null,
      "metadata": {
        "id": "kF3zSvZt0FPb"
      },
      "outputs": [],
      "source": [
        "from sklearn.tree import DecisionTreeClassifier"
      ]
    },
    {
      "cell_type": "code",
      "execution_count": null,
      "metadata": {
        "colab": {
          "base_uri": "https://localhost:8080/"
        },
        "id": "KgsbOYuC0NCf",
        "outputId": "5b34248e-1ced-4072-c209-4cbf70a254bd"
      },
      "outputs": [
        {
          "output_type": "execute_result",
          "data": {
            "text/plain": [
              "DecisionTreeClassifier()"
            ]
          },
          "metadata": {},
          "execution_count": 30
        }
      ],
      "source": [
        "DT = DecisionTreeClassifier()\n",
        "DT.fit(X_train, Y_train)"
      ]
    },
    {
      "cell_type": "code",
      "execution_count": null,
      "metadata": {
        "id": "b8ED4_nV0i2W"
      },
      "outputs": [],
      "source": [
        "# accuracy score on the training data\n",
        "X_train_prediction = DT.predict(X_train)\n",
        "training_data_accuracy = accuracy_score(X_train_prediction, Y_train)"
      ]
    },
    {
      "cell_type": "code",
      "execution_count": null,
      "metadata": {
        "colab": {
          "base_uri": "https://localhost:8080/"
        },
        "id": "Y1req0w62E5W",
        "outputId": "c817252d-2d36-4c3e-b2f0-130c555202f3"
      },
      "outputs": [
        {
          "output_type": "stream",
          "name": "stdout",
          "text": [
            "Accuracy score of the training data :  1.0\n"
          ]
        }
      ],
      "source": [
        "print('Accuracy score of the training data : ', training_data_accuracy)"
      ]
    },
    {
      "cell_type": "code",
      "execution_count": null,
      "metadata": {
        "id": "TXfFSGqv2Jh1"
      },
      "outputs": [],
      "source": [
        "# accuracy score on the test data\n",
        "X_test_prediction = DT.predict(X_test)\n",
        "test_data_accuracy = accuracy_score(X_test_prediction, Y_test)"
      ]
    },
    {
      "cell_type": "code",
      "execution_count": null,
      "metadata": {
        "colab": {
          "base_uri": "https://localhost:8080/"
        },
        "id": "4UgVDT_n2QF3",
        "outputId": "48e50c58-30fa-46fc-a61a-d8987eb6748d"
      },
      "outputs": [
        {
          "output_type": "stream",
          "name": "stdout",
          "text": [
            "Accuracy score of the test data :  0.9932692307692308\n"
          ]
        }
      ],
      "source": [
        "print('Accuracy score of the test data : ', test_data_accuracy)"
      ]
    },
    {
      "cell_type": "markdown",
      "metadata": {
        "id": "m19HMTgs2lbt"
      },
      "source": [
        "3. Gradient Boosting Classifier"
      ]
    },
    {
      "cell_type": "code",
      "execution_count": null,
      "metadata": {
        "id": "Edfx9g3H2T4O"
      },
      "outputs": [],
      "source": [
        "from sklearn.ensemble import GradientBoostingClassifier"
      ]
    },
    {
      "cell_type": "code",
      "execution_count": null,
      "metadata": {
        "colab": {
          "base_uri": "https://localhost:8080/"
        },
        "id": "IqKGKk4M20bN",
        "outputId": "de9ead19-076b-4c81-95d3-4fffe1ba7063"
      },
      "outputs": [
        {
          "data": {
            "text/plain": [
              "GradientBoostingClassifier()"
            ]
          },
          "execution_count": null,
          "metadata": {},
          "output_type": "execute_result"
        }
      ],
      "source": [
        "GB = GradientBoostingClassifier()\n",
        "GB.fit(X_train, Y_train)"
      ]
    },
    {
      "cell_type": "code",
      "execution_count": null,
      "metadata": {
        "id": "qAB8XgWv29NO"
      },
      "outputs": [],
      "source": [
        "# accuracy score on the training data\n",
        "X_train_prediction = GB.predict(X_train)\n",
        "training_data_accuracy = accuracy_score(X_train_prediction, Y_train)"
      ]
    },
    {
      "cell_type": "code",
      "execution_count": null,
      "metadata": {
        "colab": {
          "base_uri": "https://localhost:8080/"
        },
        "id": "oKINIMwd3GAj",
        "outputId": "6929e15b-8afa-4cb1-a1bb-78f56d327c55"
      },
      "outputs": [
        {
          "output_type": "stream",
          "name": "stdout",
          "text": [
            "Accuracy score of the training data :  0.9657967032967033\n"
          ]
        }
      ],
      "source": [
        "print('Accuracy score of the training data : ', training_data_accuracy)"
      ]
    },
    {
      "cell_type": "code",
      "execution_count": null,
      "metadata": {
        "id": "PQC2XGV23Jwx"
      },
      "outputs": [],
      "source": [
        "# accuracy score on the test data\n",
        "X_test_prediction = GB.predict(X_test)\n",
        "test_data_accuracy = accuracy_score(X_test_prediction, Y_test)"
      ]
    },
    {
      "cell_type": "code",
      "execution_count": null,
      "metadata": {
        "colab": {
          "base_uri": "https://localhost:8080/"
        },
        "id": "1ninXnrN3PU7",
        "outputId": "9b0ceb05-56c8-4a6f-9436-f1fee4f492cb"
      },
      "outputs": [
        {
          "output_type": "stream",
          "name": "stdout",
          "text": [
            "Accuracy score of the test data :  0.9628205128205128\n"
          ]
        }
      ],
      "source": [
        "print('Accuracy score of the test data : ', test_data_accuracy)"
      ]
    },
    {
      "cell_type": "markdown",
      "metadata": {
        "id": "RyL_Hqd23Ygs"
      },
      "source": [
        "4. Random Forest Classifier"
      ]
    },
    {
      "cell_type": "code",
      "execution_count": null,
      "metadata": {
        "id": "OkrG53C13dP3"
      },
      "outputs": [],
      "source": [
        "from sklearn.ensemble import RandomForestClassifier"
      ]
    },
    {
      "cell_type": "code",
      "execution_count": null,
      "metadata": {
        "colab": {
          "base_uri": "https://localhost:8080/"
        },
        "id": "OIzmkrpa3k2k",
        "outputId": "f9b1de62-110d-4199-91d4-0cccd4bc79e0"
      },
      "outputs": [
        {
          "output_type": "execute_result",
          "data": {
            "text/plain": [
              "RandomForestClassifier()"
            ]
          },
          "metadata": {},
          "execution_count": 42
        }
      ],
      "source": [
        "RF = RandomForestClassifier()\n",
        "RF.fit(X_train, Y_train)"
      ]
    },
    {
      "cell_type": "code",
      "execution_count": null,
      "metadata": {
        "id": "hnqOhWJZ3sPc"
      },
      "outputs": [],
      "source": [
        "# accuracy score on the training data\n",
        "X_train_prediction = RF.predict(X_train)\n",
        "training_data_accuracy = accuracy_score(X_train_prediction, Y_train)"
      ]
    },
    {
      "cell_type": "code",
      "execution_count": null,
      "metadata": {
        "colab": {
          "base_uri": "https://localhost:8080/"
        },
        "id": "Eggf_p7030PB",
        "outputId": "5e1ab948-59de-49b2-f0c7-ebaf94806142"
      },
      "outputs": [
        {
          "output_type": "stream",
          "name": "stdout",
          "text": [
            "Accuracy score of the training data :  1.0\n"
          ]
        }
      ],
      "source": [
        "print('Accuracy score of the training data : ', training_data_accuracy)"
      ]
    },
    {
      "cell_type": "code",
      "execution_count": null,
      "metadata": {
        "id": "a0OPXWuE3_U2"
      },
      "outputs": [],
      "source": [
        "# accuracy score on the test data\n",
        "X_test_prediction = RF.predict(X_test)\n",
        "test_data_accuracy = accuracy_score(X_test_prediction, Y_test)"
      ]
    },
    {
      "cell_type": "code",
      "execution_count": null,
      "metadata": {
        "colab": {
          "base_uri": "https://localhost:8080/"
        },
        "id": "bZ-YCmKG4FIK",
        "outputId": "c9914938-ee8a-4b4e-a462-de10b8c6d3d9"
      },
      "outputs": [
        {
          "output_type": "stream",
          "name": "stdout",
          "text": [
            "Accuracy score of the test data :  0.9931089743589744\n"
          ]
        }
      ],
      "source": [
        "print('Accuracy score of the test data : ', test_data_accuracy)"
      ]
    },
    {
      "cell_type": "markdown",
      "metadata": {
        "id": "HPLlXEp54jM0"
      },
      "source": [
        "5. Naive Bayes Classifier"
      ]
    },
    {
      "cell_type": "code",
      "execution_count": null,
      "metadata": {
        "id": "p8X8I2n34I6j"
      },
      "outputs": [],
      "source": [
        "from sklearn.naive_bayes import BernoulliNB"
      ]
    },
    {
      "cell_type": "code",
      "execution_count": null,
      "metadata": {
        "colab": {
          "base_uri": "https://localhost:8080/"
        },
        "id": "6wa1xWKi4qrm",
        "outputId": "74ade2db-de78-4ab4-c378-bdc4bce6a6d0"
      },
      "outputs": [
        {
          "output_type": "execute_result",
          "data": {
            "text/plain": [
              "BernoulliNB()"
            ]
          },
          "metadata": {},
          "execution_count": 48
        }
      ],
      "source": [
        "NB = BernoulliNB()\n",
        "NB.fit(X_train, Y_train)"
      ]
    },
    {
      "cell_type": "code",
      "execution_count": null,
      "metadata": {
        "id": "tm59d4bn4wEt"
      },
      "outputs": [],
      "source": [
        "# accuracy score on the training data\n",
        "X_train_prediction = NB.predict(X_train)\n",
        "training_data_accuracy = accuracy_score(X_train_prediction, Y_train)"
      ]
    },
    {
      "cell_type": "code",
      "execution_count": null,
      "metadata": {
        "colab": {
          "base_uri": "https://localhost:8080/"
        },
        "id": "ckpYxkkG460_",
        "outputId": "fdc579c5-93e5-4580-9c85-8337c13b99e3"
      },
      "outputs": [
        {
          "output_type": "stream",
          "name": "stdout",
          "text": [
            "Accuracy score of the training data :  0.9896978021978022\n"
          ]
        }
      ],
      "source": [
        "print('Accuracy score of the training data : ', training_data_accuracy)"
      ]
    },
    {
      "cell_type": "code",
      "execution_count": null,
      "metadata": {
        "id": "57RxGVTe4-n1"
      },
      "outputs": [],
      "source": [
        "# accuracy score on the test data\n",
        "X_test_prediction = NB.predict(X_test)\n",
        "test_data_accuracy = accuracy_score(X_test_prediction, Y_test)"
      ]
    },
    {
      "cell_type": "code",
      "execution_count": null,
      "metadata": {
        "colab": {
          "base_uri": "https://localhost:8080/"
        },
        "id": "mxfX_tOz5DsY",
        "outputId": "dc9766f7-2c6f-4d0b-8a0c-5f99d81ff07d"
      },
      "outputs": [
        {
          "output_type": "stream",
          "name": "stdout",
          "text": [
            "Accuracy score of the test data :  0.9825320512820512\n"
          ]
        }
      ],
      "source": [
        "print('Accuracy score of the test data : ', test_data_accuracy)"
      ]
    },
    {
      "cell_type": "markdown",
      "metadata": {
        "id": "GNCsilAP5eME"
      },
      "source": [
        "6. Support Vector Machine"
      ]
    },
    {
      "cell_type": "code",
      "execution_count": null,
      "metadata": {
        "id": "8eBjUAHD5HNi"
      },
      "outputs": [],
      "source": [
        "from sklearn.svm import SVC"
      ]
    },
    {
      "cell_type": "code",
      "execution_count": null,
      "metadata": {
        "colab": {
          "base_uri": "https://localhost:8080/"
        },
        "id": "Y7diulLF5heS",
        "outputId": "7a4eb072-e13d-46cb-fb8d-1d4072b568b5"
      },
      "outputs": [
        {
          "output_type": "execute_result",
          "data": {
            "text/plain": [
              "SVC(kernel='linear')"
            ]
          },
          "metadata": {},
          "execution_count": 54
        }
      ],
      "source": [
        "SV = SVC(kernel='linear')\n",
        "SV.fit(X_train, Y_train)"
      ]
    },
    {
      "cell_type": "code",
      "execution_count": null,
      "metadata": {
        "id": "Sre_9v3M5rVV"
      },
      "outputs": [],
      "source": [
        "# accuracy score on the training data\n",
        "X_train_prediction = SV.predict(X_train)\n",
        "training_data_accuracy = accuracy_score(X_train_prediction, Y_train)"
      ]
    },
    {
      "cell_type": "code",
      "execution_count": null,
      "metadata": {
        "colab": {
          "base_uri": "https://localhost:8080/"
        },
        "id": "XXc8T4fp5v9v",
        "outputId": "199b96d8-e5b0-408a-bba2-eedc5e1283bf"
      },
      "outputs": [
        {
          "output_type": "stream",
          "name": "stdout",
          "text": [
            "Accuracy score of the training data :  0.9974587912087912\n"
          ]
        }
      ],
      "source": [
        "print('Accuracy score of the training data : ', training_data_accuracy)"
      ]
    },
    {
      "cell_type": "code",
      "execution_count": null,
      "metadata": {
        "id": "yOELmyq65zWx"
      },
      "outputs": [],
      "source": [
        "# accuracy score on the test data\n",
        "X_test_prediction = SV.predict(X_test)\n",
        "test_data_accuracy = accuracy_score(X_test_prediction, Y_test)"
      ]
    },
    {
      "cell_type": "code",
      "execution_count": null,
      "metadata": {
        "colab": {
          "base_uri": "https://localhost:8080/"
        },
        "id": "TqMRnzfH549r",
        "outputId": "b4d4de3d-879c-4201-8851-2e4d80f321d8"
      },
      "outputs": [
        {
          "output_type": "stream",
          "name": "stdout",
          "text": [
            "Accuracy score of the test data :  0.9911858974358975\n"
          ]
        }
      ],
      "source": [
        "print('Accuracy score of the test data : ', test_data_accuracy)"
      ]
    },
    {
      "cell_type": "markdown",
      "metadata": {
        "id": "vNdkURBq6NhC"
      },
      "source": [
        "7. K-Nearest Neighbour"
      ]
    },
    {
      "cell_type": "code",
      "execution_count": null,
      "metadata": {
        "id": "e-d_IwJQ58eq"
      },
      "outputs": [],
      "source": [
        "from sklearn.neighbors import KNeighborsClassifier"
      ]
    },
    {
      "cell_type": "code",
      "execution_count": null,
      "metadata": {
        "colab": {
          "base_uri": "https://localhost:8080/"
        },
        "id": "p6c8MBzv6XaZ",
        "outputId": "399743d7-67a2-4bfb-e6c0-bf49b7eb6e39"
      },
      "outputs": [
        {
          "output_type": "execute_result",
          "data": {
            "text/plain": [
              "KNeighborsClassifier(n_neighbors=2)"
            ]
          },
          "metadata": {},
          "execution_count": 60
        }
      ],
      "source": [
        "KN = KNeighborsClassifier(n_neighbors=2)\n",
        "KN.fit(X_train, Y_train)"
      ]
    },
    {
      "cell_type": "code",
      "execution_count": null,
      "metadata": {
        "id": "wd3fqUlZ6fIY"
      },
      "outputs": [],
      "source": [
        "# accuracy score on the training data\n",
        "X_train_prediction = KN.predict(X_train)\n",
        "training_data_accuracy = accuracy_score(X_train_prediction, Y_train)"
      ]
    },
    {
      "cell_type": "code",
      "execution_count": null,
      "metadata": {
        "colab": {
          "base_uri": "https://localhost:8080/"
        },
        "id": "XW6w0h576muw",
        "outputId": "abded4fc-6573-40ad-b94b-80cfb0bdf6cf"
      },
      "outputs": [
        {
          "output_type": "stream",
          "name": "stdout",
          "text": [
            "Accuracy score of the training data :  0.9993818681318681\n"
          ]
        }
      ],
      "source": [
        "print('Accuracy score of the training data : ', training_data_accuracy)"
      ]
    },
    {
      "cell_type": "code",
      "execution_count": null,
      "metadata": {
        "id": "OFNNa9dQ6qH_"
      },
      "outputs": [],
      "source": [
        "# accuracy score on the test data\n",
        "X_test_prediction = KN.predict(X_test)\n",
        "test_data_accuracy = accuracy_score(X_test_prediction, Y_test)"
      ]
    },
    {
      "cell_type": "code",
      "execution_count": null,
      "metadata": {
        "colab": {
          "base_uri": "https://localhost:8080/"
        },
        "id": "F-oEaDEG6v_Z",
        "outputId": "31def18b-23ca-406b-8de8-8cb9b99548be"
      },
      "outputs": [
        {
          "output_type": "stream",
          "name": "stdout",
          "text": [
            "Accuracy score of the test data :  0.5820512820512821\n"
          ]
        }
      ],
      "source": [
        "print('Accuracy score of the test data : ', test_data_accuracy)"
      ]
    },
    {
      "cell_type": "markdown",
      "metadata": {
        "id": "0-r6HuVe7Pru"
      },
      "source": [
        "8. XG-Boosting Classifier"
      ]
    },
    {
      "cell_type": "code",
      "execution_count": null,
      "metadata": {
        "colab": {
          "base_uri": "https://localhost:8080/"
        },
        "id": "gMc8c7bv6yro",
        "outputId": "5b7b5301-e972-40c6-c864-2cbfa70441f6"
      },
      "outputs": [
        {
          "output_type": "execute_result",
          "data": {
            "text/plain": [
              "XGBClassifier()"
            ]
          },
          "metadata": {},
          "execution_count": 65
        }
      ],
      "source": [
        "# Fitting XGBoost to the training data\n",
        "import xgboost as xgb\n",
        "XGB = xgb.XGBClassifier()\n",
        "XGB.fit(X_train, Y_train)\n",
        "   "
      ]
    },
    {
      "cell_type": "code",
      "execution_count": null,
      "metadata": {
        "id": "ArVBIBJtBBTN"
      },
      "outputs": [],
      "source": [
        "# accuracy score on the training data\n",
        "X_train_prediction = XGB.predict(X_train)\n",
        "training_data_accuracy = accuracy_score(X_train_prediction, Y_train)"
      ]
    },
    {
      "cell_type": "code",
      "execution_count": null,
      "metadata": {
        "colab": {
          "base_uri": "https://localhost:8080/"
        },
        "id": "mdCNzW_qBaCv",
        "outputId": "0f74c514-42f5-4262-dbad-03e0a567107f"
      },
      "outputs": [
        {
          "output_type": "stream",
          "name": "stdout",
          "text": [
            "Accuracy score of the training data :  0.9587912087912088\n"
          ]
        }
      ],
      "source": [
        "print('Accuracy score of the training data : ', training_data_accuracy)"
      ]
    },
    {
      "cell_type": "code",
      "execution_count": null,
      "metadata": {
        "id": "YBEWLOOMBkTL"
      },
      "outputs": [],
      "source": [
        "# accuracy score on the test data\n",
        "X_test_prediction = XGB.predict(X_test)\n",
        "test_data_accuracy = accuracy_score(X_test_prediction, Y_test)"
      ]
    },
    {
      "cell_type": "code",
      "execution_count": null,
      "metadata": {
        "colab": {
          "base_uri": "https://localhost:8080/"
        },
        "id": "E8JeqGCuBuQm",
        "outputId": "0d6c62ef-d530-4f21-8249-64befb7bddf6"
      },
      "outputs": [
        {
          "output_type": "stream",
          "name": "stdout",
          "text": [
            "Accuracy score of the test data :  0.955448717948718\n"
          ]
        }
      ],
      "source": [
        "print('Accuracy score of the test data : ', test_data_accuracy)"
      ]
    },
    {
      "cell_type": "code",
      "execution_count": null,
      "metadata": {
        "id": "_1fzMzAlFHb9"
      },
      "outputs": [],
      "source": [
        ""
      ]
    },
    {
      "cell_type": "markdown",
      "metadata": {
        "id": "2KtFujIaFJO5"
      },
      "source": [
        "Now Comparing The Algoes In Other Parameters"
      ]
    },
    {
      "cell_type": "code",
      "execution_count": null,
      "metadata": {
        "id": "H6izbKnTFYoO"
      },
      "outputs": [],
      "source": [
        "# Define a function to compute Precision, Recall and F1 score\n",
        "\n",
        "from sklearn.metrics import confusion_matrix\n",
        "\n",
        "def get_pre_rec_f1(model_name, model,x_test,y_test):\n",
        "    y_pred = model.predict(x_test)\n",
        "    tn, fp, fn, tp = confusion_matrix(y_test, y_pred).ravel()\n",
        "    \n",
        "    precision = tp / (tp + fp)\n",
        "    recall = tp / (tp + fn)\n",
        "    F1 = 2 * (precision * recall) / (precision + recall)\n",
        "    \n",
        "    return [model_name, precision, recall, F1]\n"
      ]
    },
    {
      "cell_type": "code",
      "execution_count": null,
      "metadata": {
        "colab": {
          "base_uri": "https://localhost:8080/",
          "height": 300
        },
        "id": "eW0xH6XAFdC6",
        "outputId": "c4618717-db0a-49f5-9e82-38ea9888b9bc"
      },
      "outputs": [
        {
          "output_type": "execute_result",
          "data": {
            "text/plain": [
              "                           Model  Precision    Recall        F1\n",
              "0            Logistic Regression   0.957690  0.992638  0.974851\n",
              "1        Decision Tree Classifer   0.993594  0.992958  0.993276\n",
              "2   Gradient Boosting Classifier   0.933453  0.996799  0.964087\n",
              "3       Random Forest Classifier   0.989825  0.996479  0.993141\n",
              "4         Naive Bayes Classifier   0.982091  0.983035  0.982563\n",
              "5         Support Vector Machine   0.989162  0.993278  0.991215\n",
              "6            K-Nearest Neighbour   0.545073  0.998720  0.705244\n",
              "7         XG Boosting Classifier   0.920757  0.996799  0.957270"
            ],
            "text/html": [
              "\n",
              "  <div id=\"df-2943ef54-2a4f-4634-86bd-04fd9597b193\">\n",
              "    <div class=\"colab-df-container\">\n",
              "      <div>\n",
              "<style scoped>\n",
              "    .dataframe tbody tr th:only-of-type {\n",
              "        vertical-align: middle;\n",
              "    }\n",
              "\n",
              "    .dataframe tbody tr th {\n",
              "        vertical-align: top;\n",
              "    }\n",
              "\n",
              "    .dataframe thead th {\n",
              "        text-align: right;\n",
              "    }\n",
              "</style>\n",
              "<table border=\"1\" class=\"dataframe\">\n",
              "  <thead>\n",
              "    <tr style=\"text-align: right;\">\n",
              "      <th></th>\n",
              "      <th>Model</th>\n",
              "      <th>Precision</th>\n",
              "      <th>Recall</th>\n",
              "      <th>F1</th>\n",
              "    </tr>\n",
              "  </thead>\n",
              "  <tbody>\n",
              "    <tr>\n",
              "      <th>0</th>\n",
              "      <td>Logistic Regression</td>\n",
              "      <td>0.957690</td>\n",
              "      <td>0.992638</td>\n",
              "      <td>0.974851</td>\n",
              "    </tr>\n",
              "    <tr>\n",
              "      <th>1</th>\n",
              "      <td>Decision Tree Classifer</td>\n",
              "      <td>0.993594</td>\n",
              "      <td>0.992958</td>\n",
              "      <td>0.993276</td>\n",
              "    </tr>\n",
              "    <tr>\n",
              "      <th>2</th>\n",
              "      <td>Gradient Boosting Classifier</td>\n",
              "      <td>0.933453</td>\n",
              "      <td>0.996799</td>\n",
              "      <td>0.964087</td>\n",
              "    </tr>\n",
              "    <tr>\n",
              "      <th>3</th>\n",
              "      <td>Random Forest Classifier</td>\n",
              "      <td>0.989825</td>\n",
              "      <td>0.996479</td>\n",
              "      <td>0.993141</td>\n",
              "    </tr>\n",
              "    <tr>\n",
              "      <th>4</th>\n",
              "      <td>Naive Bayes Classifier</td>\n",
              "      <td>0.982091</td>\n",
              "      <td>0.983035</td>\n",
              "      <td>0.982563</td>\n",
              "    </tr>\n",
              "    <tr>\n",
              "      <th>5</th>\n",
              "      <td>Support Vector Machine</td>\n",
              "      <td>0.989162</td>\n",
              "      <td>0.993278</td>\n",
              "      <td>0.991215</td>\n",
              "    </tr>\n",
              "    <tr>\n",
              "      <th>6</th>\n",
              "      <td>K-Nearest Neighbour</td>\n",
              "      <td>0.545073</td>\n",
              "      <td>0.998720</td>\n",
              "      <td>0.705244</td>\n",
              "    </tr>\n",
              "    <tr>\n",
              "      <th>7</th>\n",
              "      <td>XG Boosting Classifier</td>\n",
              "      <td>0.920757</td>\n",
              "      <td>0.996799</td>\n",
              "      <td>0.957270</td>\n",
              "    </tr>\n",
              "  </tbody>\n",
              "</table>\n",
              "</div>\n",
              "      <button class=\"colab-df-convert\" onclick=\"convertToInteractive('df-2943ef54-2a4f-4634-86bd-04fd9597b193')\"\n",
              "              title=\"Convert this dataframe to an interactive table.\"\n",
              "              style=\"display:none;\">\n",
              "        \n",
              "  <svg xmlns=\"http://www.w3.org/2000/svg\" height=\"24px\"viewBox=\"0 0 24 24\"\n",
              "       width=\"24px\">\n",
              "    <path d=\"M0 0h24v24H0V0z\" fill=\"none\"/>\n",
              "    <path d=\"M18.56 5.44l.94 2.06.94-2.06 2.06-.94-2.06-.94-.94-2.06-.94 2.06-2.06.94zm-11 1L8.5 8.5l.94-2.06 2.06-.94-2.06-.94L8.5 2.5l-.94 2.06-2.06.94zm10 10l.94 2.06.94-2.06 2.06-.94-2.06-.94-.94-2.06-.94 2.06-2.06.94z\"/><path d=\"M17.41 7.96l-1.37-1.37c-.4-.4-.92-.59-1.43-.59-.52 0-1.04.2-1.43.59L10.3 9.45l-7.72 7.72c-.78.78-.78 2.05 0 2.83L4 21.41c.39.39.9.59 1.41.59.51 0 1.02-.2 1.41-.59l7.78-7.78 2.81-2.81c.8-.78.8-2.07 0-2.86zM5.41 20L4 18.59l7.72-7.72 1.47 1.35L5.41 20z\"/>\n",
              "  </svg>\n",
              "      </button>\n",
              "      \n",
              "  <style>\n",
              "    .colab-df-container {\n",
              "      display:flex;\n",
              "      flex-wrap:wrap;\n",
              "      gap: 12px;\n",
              "    }\n",
              "\n",
              "    .colab-df-convert {\n",
              "      background-color: #E8F0FE;\n",
              "      border: none;\n",
              "      border-radius: 50%;\n",
              "      cursor: pointer;\n",
              "      display: none;\n",
              "      fill: #1967D2;\n",
              "      height: 32px;\n",
              "      padding: 0 0 0 0;\n",
              "      width: 32px;\n",
              "    }\n",
              "\n",
              "    .colab-df-convert:hover {\n",
              "      background-color: #E2EBFA;\n",
              "      box-shadow: 0px 1px 2px rgba(60, 64, 67, 0.3), 0px 1px 3px 1px rgba(60, 64, 67, 0.15);\n",
              "      fill: #174EA6;\n",
              "    }\n",
              "\n",
              "    [theme=dark] .colab-df-convert {\n",
              "      background-color: #3B4455;\n",
              "      fill: #D2E3FC;\n",
              "    }\n",
              "\n",
              "    [theme=dark] .colab-df-convert:hover {\n",
              "      background-color: #434B5C;\n",
              "      box-shadow: 0px 1px 3px 1px rgba(0, 0, 0, 0.15);\n",
              "      filter: drop-shadow(0px 1px 2px rgba(0, 0, 0, 0.3));\n",
              "      fill: #FFFFFF;\n",
              "    }\n",
              "  </style>\n",
              "\n",
              "      <script>\n",
              "        const buttonEl =\n",
              "          document.querySelector('#df-2943ef54-2a4f-4634-86bd-04fd9597b193 button.colab-df-convert');\n",
              "        buttonEl.style.display =\n",
              "          google.colab.kernel.accessAllowed ? 'block' : 'none';\n",
              "\n",
              "        async function convertToInteractive(key) {\n",
              "          const element = document.querySelector('#df-2943ef54-2a4f-4634-86bd-04fd9597b193');\n",
              "          const dataTable =\n",
              "            await google.colab.kernel.invokeFunction('convertToInteractive',\n",
              "                                                     [key], {});\n",
              "          if (!dataTable) return;\n",
              "\n",
              "          const docLinkHtml = 'Like what you see? Visit the ' +\n",
              "            '<a target=\"_blank\" href=https://colab.research.google.com/notebooks/data_table.ipynb>data table notebook</a>'\n",
              "            + ' to learn more about interactive tables.';\n",
              "          element.innerHTML = '';\n",
              "          dataTable['output_type'] = 'display_data';\n",
              "          await google.colab.output.renderOutput(dataTable, element);\n",
              "          const docLink = document.createElement('div');\n",
              "          docLink.innerHTML = docLinkHtml;\n",
              "          element.appendChild(docLink);\n",
              "        }\n",
              "      </script>\n",
              "    </div>\n",
              "  </div>\n",
              "  "
            ]
          },
          "metadata": {},
          "execution_count": 72
        }
      ],
      "source": [
        "   # Logistic Regression model performance on validation data:\n",
        "col_1 = get_pre_rec_f1(\"Logistic Regression\", LR, X_test, Y_test)\n",
        "\n",
        "# Decision Tree Classifer model performance on validation data:\n",
        "col_2 = get_pre_rec_f1(\"Decision Tree Classifer\", DT, X_test, Y_test)\n",
        "\n",
        "# Gradient Boosting Classifier model performance on validation data:\n",
        "col_3 = get_pre_rec_f1(\" Gradient Boosting Classifier\",GB, X_test, Y_test)\n",
        "\n",
        "\n",
        "\n",
        "# Random Forest Classifier model performance on validation data:\n",
        "col_4 = get_pre_rec_f1(\"Random Forest Classifier\",RF, X_test, Y_test)\n",
        "\n",
        "# Naive Bayes Classifier model performance on validation data:\n",
        "col_5 = get_pre_rec_f1(\"Naive Bayes Classifier\",NB, X_test, Y_test)\n",
        "\n",
        "# Support Vector Machine model performance on validation data:\n",
        "col_6 = get_pre_rec_f1(\"Support Vector Machine\",SV, X_test, Y_test)\n",
        "\n",
        "# K-Nearest Neighbour model performance on validation data:\n",
        "col_7 = get_pre_rec_f1(\"K-Nearest Neighbour\",KN, X_test, Y_test)\n",
        "\n",
        "# XG Boosting Classifier model performance on validation data:\n",
        "col_8 = get_pre_rec_f1(\"XG Boosting Classifier\",XGB, X_test, Y_test)\n",
        "\n",
        "result = []\n",
        "result.append(col_1)\n",
        "result.append(col_2)\n",
        "result.append(col_3)\n",
        "result.append(col_4)\n",
        "result.append(col_5)\n",
        "result.append(col_6)\n",
        "result.append(col_7)\n",
        "result.append(col_8)\n",
        "\n",
        "\n",
        "pd.DataFrame(result, columns = [\"Model\", \"Precision\", \"Recall\", \"F1\"]) \n",
        "    \n"
      ]
    },
    {
      "cell_type": "code",
      "source": [
        "import matplotlib.pyplot as plt\n"
      ],
      "metadata": {
        "id": "vlCdCH0LSyy1"
      },
      "execution_count": null,
      "outputs": []
    },
    {
      "cell_type": "code",
      "execution_count": null,
      "metadata": {
        "id": "8el47qKfOvkI",
        "colab": {
          "base_uri": "https://localhost:8080/",
          "height": 665
        },
        "outputId": "9ddc9b70-b489-4d57-c32b-98663d0e5064"
      },
      "outputs": [
        {
          "output_type": "stream",
          "name": "stderr",
          "text": [
            "/usr/local/lib/python3.7/dist-packages/sklearn/utils/deprecation.py:87: FutureWarning: Function plot_roc_curve is deprecated; Function :func:`plot_roc_curve` is deprecated in 1.0 and will be removed in 1.2. Use one of the class methods: :meth:`sklearn.metric.RocCurveDisplay.from_predictions` or :meth:`sklearn.metric.RocCurveDisplay.from_estimator`.\n",
            "  warnings.warn(msg, category=FutureWarning)\n",
            "/usr/local/lib/python3.7/dist-packages/sklearn/utils/deprecation.py:87: FutureWarning: Function plot_roc_curve is deprecated; Function :func:`plot_roc_curve` is deprecated in 1.0 and will be removed in 1.2. Use one of the class methods: :meth:`sklearn.metric.RocCurveDisplay.from_predictions` or :meth:`sklearn.metric.RocCurveDisplay.from_estimator`.\n",
            "  warnings.warn(msg, category=FutureWarning)\n",
            "/usr/local/lib/python3.7/dist-packages/sklearn/utils/deprecation.py:87: FutureWarning: Function plot_roc_curve is deprecated; Function :func:`plot_roc_curve` is deprecated in 1.0 and will be removed in 1.2. Use one of the class methods: :meth:`sklearn.metric.RocCurveDisplay.from_predictions` or :meth:`sklearn.metric.RocCurveDisplay.from_estimator`.\n",
            "  warnings.warn(msg, category=FutureWarning)\n",
            "/usr/local/lib/python3.7/dist-packages/sklearn/utils/deprecation.py:87: FutureWarning: Function plot_roc_curve is deprecated; Function :func:`plot_roc_curve` is deprecated in 1.0 and will be removed in 1.2. Use one of the class methods: :meth:`sklearn.metric.RocCurveDisplay.from_predictions` or :meth:`sklearn.metric.RocCurveDisplay.from_estimator`.\n",
            "  warnings.warn(msg, category=FutureWarning)\n",
            "/usr/local/lib/python3.7/dist-packages/sklearn/utils/deprecation.py:87: FutureWarning: Function plot_roc_curve is deprecated; Function :func:`plot_roc_curve` is deprecated in 1.0 and will be removed in 1.2. Use one of the class methods: :meth:`sklearn.metric.RocCurveDisplay.from_predictions` or :meth:`sklearn.metric.RocCurveDisplay.from_estimator`.\n",
            "  warnings.warn(msg, category=FutureWarning)\n",
            "/usr/local/lib/python3.7/dist-packages/sklearn/utils/deprecation.py:87: FutureWarning: Function plot_roc_curve is deprecated; Function :func:`plot_roc_curve` is deprecated in 1.0 and will be removed in 1.2. Use one of the class methods: :meth:`sklearn.metric.RocCurveDisplay.from_predictions` or :meth:`sklearn.metric.RocCurveDisplay.from_estimator`.\n",
            "  warnings.warn(msg, category=FutureWarning)\n",
            "/usr/local/lib/python3.7/dist-packages/sklearn/utils/deprecation.py:87: FutureWarning: Function plot_roc_curve is deprecated; Function :func:`plot_roc_curve` is deprecated in 1.0 and will be removed in 1.2. Use one of the class methods: :meth:`sklearn.metric.RocCurveDisplay.from_predictions` or :meth:`sklearn.metric.RocCurveDisplay.from_estimator`.\n",
            "  warnings.warn(msg, category=FutureWarning)\n",
            "/usr/local/lib/python3.7/dist-packages/sklearn/utils/deprecation.py:87: FutureWarning: Function plot_roc_curve is deprecated; Function :func:`plot_roc_curve` is deprecated in 1.0 and will be removed in 1.2. Use one of the class methods: :meth:`sklearn.metric.RocCurveDisplay.from_predictions` or :meth:`sklearn.metric.RocCurveDisplay.from_estimator`.\n",
            "  warnings.warn(msg, category=FutureWarning)\n"
          ]
        },
        {
          "output_type": "execute_result",
          "data": {
            "text/plain": [
              "Text(0.5, 1.0, 'ROC/AUC of 8 ML models')"
            ]
          },
          "metadata": {},
          "execution_count": 76
        },
        {
          "output_type": "display_data",
          "data": {
            "text/plain": [
              "<Figure size 720x360 with 1 Axes>"
            ],
            "image/png": "[encoded data removed]"
          },
          "metadata": {
            "needs_background": "light"
          }
        }
      ],
      "source": [
        "# Plot ROC_AUC curve of 8 ML models\n",
        "\n",
        "from sklearn.metrics import roc_auc_score\n",
        "from sklearn.metrics import plot_roc_curve\n",
        "\n",
        "fig,ax=plt.subplots(figsize=(10,5))\n",
        "\n",
        "plot_roc_curve(LR, X_test, Y_test,ax=ax, color=\"blue\",label='Logitic Regression')\n",
        "plot_roc_curve(DT, X_test, Y_test,ax=ax, color=\"black\",label='Decision Tree Classifier')\n",
        "plot_roc_curve(GB, X_test, Y_test,ax=ax, color=\"red\",label='Gradient Boosting Classifier')\n",
        "plot_roc_curve(RF, X_test, Y_test,ax=ax, color=\"green\",label='Random Forest Classifier')\n",
        "plot_roc_curve(NB, X_test, Y_test,ax=ax, color=\"pink\",label='Naive Bayes Classifier')\n",
        "plot_roc_curve(SV, X_test, Y_test,ax=ax, color=\"yellow\",label='Support Vector Machine')\n",
        "plot_roc_curve(KN, X_test, Y_test,ax=ax, color=\"purple\",label='K Neighbour Classifier')\n",
        "plot_roc_curve(XGB, X_test, Y_test,ax=ax, color=\"purple\",label='XG Boosting Classifier')\n",
        "plt.title('ROC/AUC of 8 ML models')\n"
      ]
    },
    {
      "cell_type": "code",
      "source": [
        ""
      ],
      "metadata": {
        "id": "yO0rz5GQE_iI"
      },
      "execution_count": null,
      "outputs": []
    },
    {
      "cell_type": "markdown",
      "source": [
        "Now Performming Deep Learning Algoes"
      ],
      "metadata": {
        "id": "xkVh-oBDN42x"
      }
    },
    {
      "cell_type": "code",
      "source": [
        ""
      ],
      "metadata": {
        "id": "_m7-uuj_N_eN"
      },
      "execution_count": null,
      "outputs": []
    },
    {
      "cell_type": "markdown",
      "source": [
        "Some Preprocessing for DL"
      ],
      "metadata": {
        "id": "HNCTs6XFOBt7"
      }
    },
    {
      "cell_type": "code",
      "source": [
        "Y = DataSet['label'].values"
      ],
      "metadata": {
        "id": "OgMuJjtQOF4h"
      },
      "execution_count": null,
      "outputs": []
    },
    {
      "cell_type": "code",
      "source": [
        "import gensim\n",
        "#it is a python library which is used for represent "
      ],
      "metadata": {
        "id": "DDXW9G1-OWTH"
      },
      "execution_count": null,
      "outputs": []
    },
    {
      "cell_type": "code",
      "source": [
        "X=[d.split() for d in DataSet['content'].tolist()]"
      ],
      "metadata": {
        "id": "vjJsVxCoOZ3_"
      },
      "execution_count": null,
      "outputs": []
    },
    {
      "cell_type": "code",
      "source": [
        "print(X[0])"
      ],
      "metadata": {
        "colab": {
          "base_uri": "https://localhost:8080/"
        },
        "id": "em9rAjmcOdk4",
        "outputId": "79ac986a-9f5a-4ec6-cfcb-06c5519b6fb8"
      },
      "execution_count": null,
      "outputs": [
        {
          "output_type": "stream",
          "name": "stdout",
          "text": [
            "['darrel', 'lucu', 'hous', 'dem', 'aid', 'even', 'see', 'comey', 'letter', 'jason', 'chaffetz', 'tweet']\n"
          ]
        }
      ]
    },
    {
      "cell_type": "code",
      "source": [
        "# Build w2c model\n",
        "DIM=100\n",
        "w2v_model=gensim.models.Word2Vec(sentences=X,size=DIM,window=10,min_count=1)"
      ],
      "metadata": {
        "id": "Jq3bZX3NOj38"
      },
      "execution_count": null,
      "outputs": []
    },
    {
      "cell_type": "code",
      "source": [
        "len(w2v_model.wv.vocab)"
      ],
      "metadata": {
        "colab": {
          "base_uri": "https://localhost:8080/"
        },
        "id": "-2TX2OUsOq4_",
        "outputId": "8edaf934-c684-48b0-f9ce-3d3225eb4248"
      },
      "execution_count": null,
      "outputs": [
        {
          "output_type": "execute_result",
          "data": {
            "text/plain": [
              "17146"
            ]
          },
          "metadata": {},
          "execution_count": 18
        }
      ]
    },
    {
      "cell_type": "code",
      "source": [
        "# for Tokenization\n",
        "from tensorflow.keras.preprocessing.text import Tokenizer"
      ],
      "metadata": {
        "id": "rlT1mgP7O2J7"
      },
      "execution_count": null,
      "outputs": []
    },
    {
      "cell_type": "code",
      "source": [
        "#convert into tokens\n",
        "tokenizer=Tokenizer()\n",
        "tokenizer.fit_on_texts(X)"
      ],
      "metadata": {
        "id": "vufsyRhHOuH4"
      },
      "execution_count": null,
      "outputs": []
    },
    {
      "cell_type": "code",
      "source": [
        "X=tokenizer.texts_to_sequences(X)"
      ],
      "metadata": {
        "id": "nUzSBVwYPNPo"
      },
      "execution_count": null,
      "outputs": []
    },
    {
      "cell_type": "code",
      "source": [
        "tokenizer.word_index"
      ],
      "metadata": {
        "colab": {
          "base_uri": "https://localhost:8080/"
        },
        "id": "WQ7neeVfPRdJ",
        "outputId": "d12e1f21-1070-4be2-f747-a51ecb0d358a"
      },
      "execution_count": null,
      "outputs": [
        {
          "output_type": "execute_result",
          "data": {
            "text/plain": [
              "{'new': 1,\n",
              " 'time': 2,\n",
              " 'york': 3,\n",
              " 'trump': 4,\n",
              " 'breitbart': 5,\n",
              " 'clinton': 6,\n",
              " 'hillari': 7,\n",
              " 'donald': 8,\n",
              " 'news': 9,\n",
              " 'elect': 10,\n",
              " 'u': 11,\n",
              " 'say': 12,\n",
              " 'obama': 13,\n",
              " 'michael': 14,\n",
              " 'john': 15,\n",
              " 'russia': 16,\n",
              " 'com': 17,\n",
              " 'us': 18,\n",
              " 'video': 19,\n",
              " 'presid': 20,\n",
              " 'war': 21,\n",
              " 'state': 22,\n",
              " 'world': 23,\n",
              " 'vote': 24,\n",
              " 'america': 25,\n",
              " 'report': 26,\n",
              " 'american': 27,\n",
              " 'day': 28,\n",
              " 'year': 29,\n",
              " 'attack': 30,\n",
              " 'fbi': 31,\n",
              " 'email': 32,\n",
              " 'comment': 33,\n",
              " 'call': 34,\n",
              " 'admin': 35,\n",
              " 'hous': 36,\n",
              " 'get': 37,\n",
              " 'media': 38,\n",
              " 'kill': 39,\n",
              " 'white': 40,\n",
              " 'blogger': 41,\n",
              " 'norepli': 42,\n",
              " 'david': 43,\n",
              " 'polic': 44,\n",
              " 'bill': 45,\n",
              " 'daniel': 46,\n",
              " 'campaign': 47,\n",
              " 'key': 48,\n",
              " 'plan': 49,\n",
              " 'support': 50,\n",
              " 'protest': 51,\n",
              " 'democrat': 52,\n",
              " 'charli': 53,\n",
              " 'one': 54,\n",
              " 'de': 55,\n",
              " 'make': 56,\n",
              " 'russian': 57,\n",
              " 'first': 58,\n",
              " 'e': 59,\n",
              " 'black': 60,\n",
              " 'syria': 61,\n",
              " 'show': 62,\n",
              " 'win': 63,\n",
              " 'pam': 64,\n",
              " 'robert': 65,\n",
              " 'jame': 66,\n",
              " 'right': 67,\n",
              " 'man': 68,\n",
              " 'mike': 69,\n",
              " 'break': 70,\n",
              " 'brief': 71,\n",
              " 'anti': 72,\n",
              " 'take': 73,\n",
              " 'peopl': 74,\n",
              " 'back': 75,\n",
              " 'nation': 76,\n",
              " 'even': 77,\n",
              " 'b': 78,\n",
              " 'like': 79,\n",
              " 'go': 80,\n",
              " 'watch': 81,\n",
              " 'use': 82,\n",
              " 'j': 83,\n",
              " 'investig': 84,\n",
              " 'paul': 85,\n",
              " 'may': 86,\n",
              " 'million': 87,\n",
              " 'putin': 88,\n",
              " 'n': 89,\n",
              " 'post': 90,\n",
              " 'die': 91,\n",
              " 'polit': 92,\n",
              " 'life': 93,\n",
              " 'wikileak': 94,\n",
              " 'could': 95,\n",
              " 'voter': 96,\n",
              " 'chang': 97,\n",
              " 'ben': 98,\n",
              " 'muslim': 99,\n",
              " 'ian': 100,\n",
              " 'want': 101,\n",
              " 'immigr': 102,\n",
              " 'la': 103,\n",
              " 'find': 104,\n",
              " 'author': 105,\n",
              " 'eric': 106,\n",
              " 'f': 107,\n",
              " 'andrew': 108,\n",
              " 'end': 109,\n",
              " 'c': 110,\n",
              " 'ban': 111,\n",
              " 'offic': 112,\n",
              " 'case': 113,\n",
              " 'isi': 114,\n",
              " 'fight': 115,\n",
              " 'border': 116,\n",
              " 'fire': 117,\n",
              " 'china': 118,\n",
              " 'come': 119,\n",
              " 'mark': 120,\n",
              " 'dr': 121,\n",
              " 'neil': 122,\n",
              " 'women': 123,\n",
              " 'govern': 124,\n",
              " 'hudson': 125,\n",
              " 'fake': 126,\n",
              " 'face': 127,\n",
              " 'p': 128,\n",
              " 'court': 129,\n",
              " 'republican': 130,\n",
              " 'illeg': 131,\n",
              " 'live': 132,\n",
              " 'jerom': 133,\n",
              " 'baker': 134,\n",
              " 'william': 135,\n",
              " 'warn': 136,\n",
              " 'comey': 137,\n",
              " 'health': 138,\n",
              " 'offici': 139,\n",
              " 'law': 140,\n",
              " 'order': 141,\n",
              " 'patrick': 142,\n",
              " 'jason': 143,\n",
              " 'top': 144,\n",
              " 'leader': 145,\n",
              " 'thoma': 146,\n",
              " 'anonym': 147,\n",
              " 'arrest': 148,\n",
              " 'london': 149,\n",
              " 'adam': 150,\n",
              " 'obamacar': 151,\n",
              " 'big': 152,\n",
              " 'tom': 153,\n",
              " 'work': 154,\n",
              " 'ryan': 155,\n",
              " 'open': 156,\n",
              " 'daili': 157,\n",
              " 'help': 158,\n",
              " 'w': 159,\n",
              " 'forc': 160,\n",
              " 'power': 161,\n",
              " 'parti': 162,\n",
              " 'rule': 163,\n",
              " 'claim': 164,\n",
              " 'deal': 165,\n",
              " 'look': 166,\n",
              " 'jeff': 167,\n",
              " 'alan': 168,\n",
              " 'way': 169,\n",
              " 'citi': 170,\n",
              " 'reveal': 171,\n",
              " 'peter': 172,\n",
              " 'wall': 173,\n",
              " 'franc': 174,\n",
              " 'tri': 175,\n",
              " 'israel': 176,\n",
              " 'terror': 177,\n",
              " 'g': 178,\n",
              " 'north': 179,\n",
              " 'bob': 180,\n",
              " 'death': 181,\n",
              " 'price': 182,\n",
              " 'alex': 183,\n",
              " 'hayward': 184,\n",
              " 'alexand': 185,\n",
              " 'maggi': 186,\n",
              " 'richard': 187,\n",
              " 'stand': 188,\n",
              " 'spier': 189,\n",
              " 'need': 190,\n",
              " 'woman': 191,\n",
              " 'un': 192,\n",
              " 'islam': 193,\n",
              " 'stevenson': 194,\n",
              " 'poll': 195,\n",
              " 'haberman': 196,\n",
              " 'california': 197,\n",
              " 'know': 198,\n",
              " 'home': 199,\n",
              " 'migrant': 200,\n",
              " 'famili': 201,\n",
              " 'dan': 202,\n",
              " 'smith': 203,\n",
              " 'chri': 204,\n",
              " 'todd': 205,\n",
              " 'poor': 206,\n",
              " 'charg': 207,\n",
              " 'two': 208,\n",
              " 'stop': 209,\n",
              " 'turn': 210,\n",
              " 'run': 211,\n",
              " 'ami': 212,\n",
              " 'see': 213,\n",
              " 'real': 214,\n",
              " 'editor': 215,\n",
              " 'warner': 216,\n",
              " 'meet': 217,\n",
              " 'scott': 218,\n",
              " 'dave': 219,\n",
              " 'tell': 220,\n",
              " 'leak': 221,\n",
              " 'speech': 222,\n",
              " 'sandra': 223,\n",
              " 'activist': 224,\n",
              " 'conserv': 225,\n",
              " 'katherin': 226,\n",
              " 'rodriguez': 227,\n",
              " 'found': 228,\n",
              " 'move': 229,\n",
              " 'gun': 230,\n",
              " 'ask': 231,\n",
              " 'senat': 232,\n",
              " 'steve': 233,\n",
              " 'control': 234,\n",
              " 'give': 235,\n",
              " 'shoot': 236,\n",
              " 'light': 237,\n",
              " 'would': 238,\n",
              " 'review': 239,\n",
              " 'leav': 240,\n",
              " 'student': 241,\n",
              " 'human': 242,\n",
              " 'school': 243,\n",
              " 'presidenti': 244,\n",
              " 'texa': 245,\n",
              " 'kati': 246,\n",
              " 'polici': 247,\n",
              " 'aleppo': 248,\n",
              " 'matthew': 249,\n",
              " 'jack': 250,\n",
              " 'race': 251,\n",
              " 'global': 252,\n",
              " 'syrian': 253,\n",
              " 'secur': 254,\n",
              " 'job': 255,\n",
              " 'old': 256,\n",
              " 'huston': 257,\n",
              " 'free': 258,\n",
              " 'expos': 259,\n",
              " 'staff': 260,\n",
              " 'hanchett': 261,\n",
              " 'saudi': 262,\n",
              " 'iran': 263,\n",
              " 'joe': 264,\n",
              " 'truth': 265,\n",
              " 'l': 266,\n",
              " 'releas': 267,\n",
              " 'brexit': 268,\n",
              " 'matt': 269,\n",
              " 'le': 270,\n",
              " 'jerusalem': 271,\n",
              " 'talk': 272,\n",
              " 'fund': 273,\n",
              " 'karen': 274,\n",
              " 'nussbaum': 275,\n",
              " 'still': 276,\n",
              " 'public': 277,\n",
              " 'r': 278,\n",
              " 'thing': 279,\n",
              " 'street': 280,\n",
              " 'press': 281,\n",
              " 'joel': 282,\n",
              " 'lose': 283,\n",
              " 'mosul': 284,\n",
              " 'al': 285,\n",
              " 'sean': 286,\n",
              " 'michel': 287,\n",
              " 'accus': 288,\n",
              " 'chief': 289,\n",
              " 'lead': 290,\n",
              " 'european': 291,\n",
              " 'dead': 292,\n",
              " 'secret': 293,\n",
              " 'terrorist': 294,\n",
              " 'union': 295,\n",
              " 'happen': 296,\n",
              " 'cnn': 297,\n",
              " 'gold': 298,\n",
              " 'nuclear': 299,\n",
              " 'tv': 300,\n",
              " 'machin': 301,\n",
              " 'game': 302,\n",
              " 'jonathan': 303,\n",
              " 'sourc': 304,\n",
              " 'today': 305,\n",
              " 'susan': 306,\n",
              " 'strike': 307,\n",
              " 'pollak': 308,\n",
              " 'juli': 309,\n",
              " 'think': 310,\n",
              " 'sex': 311,\n",
              " 'question': 312,\n",
              " 'set': 313,\n",
              " 'crime': 314,\n",
              " 'hawkin': 315,\n",
              " 'nichola': 316,\n",
              " 'star': 317,\n",
              " 'hit': 318,\n",
              " 'ann': 319,\n",
              " 'money': 320,\n",
              " 'south': 321,\n",
              " 'awr': 322,\n",
              " 'king': 323,\n",
              " 'last': 324,\n",
              " 'refuge': 325,\n",
              " 'care': 326,\n",
              " 'k': 327,\n",
              " 'foreign': 328,\n",
              " 'water': 329,\n",
              " 'christian': 330,\n",
              " 'bomb': 331,\n",
              " 'group': 332,\n",
              " 'aaron': 333,\n",
              " 'militari': 334,\n",
              " 'gener': 335,\n",
              " 'lie': 336,\n",
              " 'keep': 337,\n",
              " 'anoth': 338,\n",
              " 'congress': 339,\n",
              " 'celebr': 340,\n",
              " 'trent': 341,\n",
              " 'davi': 342,\n",
              " 'victori': 343,\n",
              " 'eddi': 344,\n",
              " 'rig': 345,\n",
              " 'feder': 346,\n",
              " 'children': 347,\n",
              " 'put': 348,\n",
              " 'facebook': 349,\n",
              " 'pay': 350,\n",
              " 'hope': 351,\n",
              " 'rt': 352,\n",
              " 'former': 353,\n",
              " 'rise': 354,\n",
              " 'christoph': 355,\n",
              " 'tim': 356,\n",
              " 'ralli': 357,\n",
              " 'burn': 358,\n",
              " 'high': 359,\n",
              " 'left': 360,\n",
              " 'fear': 361,\n",
              " 'head': 362,\n",
              " 'dem': 363,\n",
              " 'aid': 364,\n",
              " 'stori': 365,\n",
              " 'tax': 366,\n",
              " 'execut': 367,\n",
              " 'rock': 368,\n",
              " 'team': 369,\n",
              " 'push': 370,\n",
              " 'milo': 371,\n",
              " 'martin': 372,\n",
              " 'close': 373,\n",
              " 'scandal': 374,\n",
              " 'fail': 375,\n",
              " 'alien': 376,\n",
              " 'test': 377,\n",
              " 'part': 378,\n",
              " 'gop': 379,\n",
              " 'director': 380,\n",
              " 'love': 381,\n",
              " 'network': 382,\n",
              " 'judg': 383,\n",
              " 'washington': 384,\n",
              " 'food': 385,\n",
              " 'henri': 386,\n",
              " 'debat': 387,\n",
              " 'histori': 388,\n",
              " 'jennif': 389,\n",
              " 'child': 390,\n",
              " 'threat': 391,\n",
              " 'insid': 392,\n",
              " 'photo': 393,\n",
              " 'confirm': 394,\n",
              " 'final': 395,\n",
              " 'podesta': 396,\n",
              " 'liber': 397,\n",
              " 'hack': 398,\n",
              " 'exclus': 399,\n",
              " 'best': 400,\n",
              " 'start': 401,\n",
              " 'next': 402,\n",
              " 'play': 403,\n",
              " 'sign': 404,\n",
              " 'soro': 405,\n",
              " 'countri': 406,\n",
              " 'charl': 407,\n",
              " 'fraud': 408,\n",
              " 'must': 409,\n",
              " 'pipelin': 410,\n",
              " 'kew': 411,\n",
              " 'veteran': 412,\n",
              " 'shock': 413,\n",
              " 'record': 414,\n",
              " 'korea': 415,\n",
              " 'doc': 416,\n",
              " 'good': 417,\n",
              " 'luca': 418,\n",
              " 'suspect': 419,\n",
              " 'nash': 420,\n",
              " 'drug': 421,\n",
              " 'becom': 422,\n",
              " 'turkey': 423,\n",
              " 'threaten': 424,\n",
              " 'lee': 425,\n",
              " 'rape': 426,\n",
              " 'foundat': 427,\n",
              " 'cut': 428,\n",
              " 'week': 429,\n",
              " 'return': 430,\n",
              " 'market': 431,\n",
              " 'suprem': 432,\n",
              " 'twitter': 433,\n",
              " 'critic': 434,\n",
              " 'church': 435,\n",
              " 'behind': 436,\n",
              " 'violenc': 437,\n",
              " 'liam': 438,\n",
              " 'justic': 439,\n",
              " 'pakalert': 440,\n",
              " 'long': 441,\n",
              " 'amanda': 442,\n",
              " 'cancer': 443,\n",
              " 'hodg': 444,\n",
              " 'lavin': 445,\n",
              " 'georg': 446,\n",
              " 'tie': 447,\n",
              " 'hate': 448,\n",
              " 'starkman': 449,\n",
              " 'great': 450,\n",
              " 'full': 451,\n",
              " 'let': 452,\n",
              " 'murder': 453,\n",
              " 'reason': 454,\n",
              " 'seek': 455,\n",
              " 'demand': 456,\n",
              " 'shear': 457,\n",
              " 'pick': 458,\n",
              " 'ansari': 459,\n",
              " 'unit': 460,\n",
              " 'destroy': 461,\n",
              " 'interview': 462,\n",
              " 'act': 463,\n",
              " 'gillian': 464,\n",
              " 'climat': 465,\n",
              " 'said': 466,\n",
              " 'step': 467,\n",
              " 'cop': 468,\n",
              " 'car': 469,\n",
              " 'europ': 470,\n",
              " 'prepar': 471,\n",
              " 'onion': 472,\n",
              " 'system': 473,\n",
              " 'andrea': 474,\n",
              " 'fox': 475,\n",
              " 'roger': 476,\n",
              " 'nate': 477,\n",
              " 'rachel': 478,\n",
              " 'crisi': 479,\n",
              " 'pro': 480,\n",
              " 'nolan': 481,\n",
              " 'mani': 482,\n",
              " 'bank': 483,\n",
              " 'announc': 484,\n",
              " 'finest': 485,\n",
              " 'name': 486,\n",
              " 'inform': 487,\n",
              " 'prison': 488,\n",
              " 'link': 489,\n",
              " 'blame': 490,\n",
              " 'girl': 491,\n",
              " 'goe': 492,\n",
              " 'save': 493,\n",
              " 'klein': 494,\n",
              " 'dakota': 495,\n",
              " 'caught': 496,\n",
              " 'johnson': 497,\n",
              " 'session': 498,\n",
              " 'candid': 499,\n",
              " 'nick': 500,\n",
              " 'got': 501,\n",
              " 'en': 502,\n",
              " 'futur': 503,\n",
              " 'gay': 504,\n",
              " 'hollywood': 505,\n",
              " 'crash': 506,\n",
              " 'billion': 507,\n",
              " 'der': 508,\n",
              " 'launch': 509,\n",
              " 'caus': 510,\n",
              " 'major': 511,\n",
              " 'virginia': 512,\n",
              " 'kelli': 513,\n",
              " 'men': 514,\n",
              " 'target': 515,\n",
              " 'block': 516,\n",
              " 'saker': 517,\n",
              " 'binder': 518,\n",
              " 'ditz': 519,\n",
              " 'weiner': 520,\n",
              " 'colleg': 521,\n",
              " 'iwb': 522,\n",
              " 'agent': 523,\n",
              " 'administr': 524,\n",
              " 'line': 525,\n",
              " 'legal': 526,\n",
              " 'sanger': 527,\n",
              " 'univers': 528,\n",
              " 'mexico': 529,\n",
              " 'book': 530,\n",
              " 'battl': 531,\n",
              " 'replac': 532,\n",
              " 'peac': 533,\n",
              " 'barenakedislam': 534,\n",
              " 'air': 535,\n",
              " 'continu': 536,\n",
              " 'googl': 537,\n",
              " 'build': 538,\n",
              " 'truthfe': 539,\n",
              " 'writer': 540,\n",
              " 'near': 541,\n",
              " 'troop': 542,\n",
              " 'parker': 543,\n",
              " 'project': 544,\n",
              " 'bannon': 545,\n",
              " 'corrupt': 546,\n",
              " 'french': 547,\n",
              " 'access': 548,\n",
              " 'rais': 549,\n",
              " 'shot': 550,\n",
              " 'hirschfeld': 551,\n",
              " 'inaugur': 552,\n",
              " 'worker': 553,\n",
              " 'hand': 554,\n",
              " 'stephen': 555,\n",
              " 'armi': 556,\n",
              " 'admit': 557,\n",
              " 'west': 558,\n",
              " 'follow': 559,\n",
              " 'jim': 560,\n",
              " 'mind': 561,\n",
              " 'victor': 562,\n",
              " 'starr': 563,\n",
              " 'miss': 564,\n",
              " 'never': 565,\n",
              " 'pari': 566,\n",
              " 'travel': 567,\n",
              " 'steven': 568,\n",
              " 'nato': 569,\n",
              " 'palestinian': 570,\n",
              " 'night': 571,\n",
              " 'penni': 572,\n",
              " 'postillon': 573,\n",
              " 'tech': 574,\n",
              " 'point': 575,\n",
              " 'novemb': 576,\n",
              " 'issu': 577,\n",
              " 'made': 578,\n",
              " 'evid': 579,\n",
              " 'tweet': 580,\n",
              " 'berri': 581,\n",
              " 'kannapel': 582,\n",
              " 'mac': 583,\n",
              " 'moon': 584,\n",
              " 'protect': 585,\n",
              " 'ever': 586,\n",
              " 'wolff': 587,\n",
              " 'edjenn': 588,\n",
              " 'iron': 589,\n",
              " 'social': 590,\n",
              " 'weapon': 591,\n",
              " 'fan': 592,\n",
              " 'refus': 593,\n",
              " 'red': 594,\n",
              " 'ex': 595,\n",
              " 'list': 596,\n",
              " 'bad': 597,\n",
              " 'month': 598,\n",
              " 'uk': 599,\n",
              " 'sarah': 600,\n",
              " 'offer': 601,\n",
              " 'trade': 602,\n",
              " 'ciccotta': 603,\n",
              " 'craig': 604,\n",
              " 'civil': 605,\n",
              " 'slavo': 606,\n",
              " 'stockman': 607,\n",
              " 'assang': 608,\n",
              " 'secretari': 609,\n",
              " 'readi': 610,\n",
              " 'possibl': 611,\n",
              " 'realli': 612,\n",
              " 'minist': 613,\n",
              " 'sheik': 614,\n",
              " 'studi': 615,\n",
              " 'heali': 616,\n",
              " 'econom': 617,\n",
              " 'send': 618,\n",
              " 'begin': 619,\n",
              " 'kaitlyn': 620,\n",
              " 'stegal': 621,\n",
              " 'martel': 622,\n",
              " 'grow': 623,\n",
              " 'landler': 624,\n",
              " 'penc': 625,\n",
              " 'heather': 626,\n",
              " 'guest': 627,\n",
              " 'scientist': 628,\n",
              " 'promis': 629,\n",
              " 'assault': 630,\n",
              " 'vs': 631,\n",
              " 'member': 632,\n",
              " 'danger': 633,\n",
              " 'without': 634,\n",
              " 'uid': 635,\n",
              " 'sander': 636,\n",
              " 'mean': 637,\n",
              " 'friday': 638,\n",
              " 'mother': 639,\n",
              " 'gorsuch': 640,\n",
              " 'rep': 641,\n",
              " 'wrong': 642,\n",
              " 'word': 643,\n",
              " 'deep': 644,\n",
              " 'slam': 645,\n",
              " 'carri': 646,\n",
              " 'usa': 647,\n",
              " 'harri': 648,\n",
              " 'eu': 649,\n",
              " 'bring': 650,\n",
              " 'dog': 651,\n",
              " 'callaghan': 652,\n",
              " 'dylan': 653,\n",
              " 'surpris': 654,\n",
              " 'hold': 655,\n",
              " 'visit': 656,\n",
              " 'blinder': 657,\n",
              " 'victim': 658,\n",
              " 'coulter': 659,\n",
              " 'bodi': 660,\n",
              " 'ph': 661,\n",
              " 'rosenberg': 662,\n",
              " 'zika': 663,\n",
              " 'th': 664,\n",
              " 'jeremi': 665,\n",
              " 'geoffrey': 666,\n",
              " 'grider': 667,\n",
              " 'ad': 668,\n",
              " 'mele': 669,\n",
              " 'rappeport': 670,\n",
              " 'person': 671,\n",
              " 'creat': 672,\n",
              " 'goldman': 673,\n",
              " 'declar': 674,\n",
              " 'st': 675,\n",
              " 'young': 676,\n",
              " 'defeat': 677,\n",
              " 'delingpol': 678,\n",
              " 'consortiumnew': 679,\n",
              " 'berni': 680,\n",
              " 'rate': 681,\n",
              " 'jon': 682,\n",
              " 'read': 683,\n",
              " 'mass': 684,\n",
              " 'everi': 685,\n",
              " 'latest': 686,\n",
              " 'el': 687,\n",
              " 'chines': 688,\n",
              " 'iraq': 689,\n",
              " 'son': 690,\n",
              " 'town': 691,\n",
              " 'fall': 692,\n",
              " 'letter': 693,\n",
              " 'avoid': 694,\n",
              " 'massiv': 695,\n",
              " 'camp': 696,\n",
              " 'cover': 697,\n",
              " 'event': 698,\n",
              " 'deport': 699,\n",
              " 'hear': 700,\n",
              " 'amid': 701,\n",
              " 'problem': 702,\n",
              " 'sinc': 703,\n",
              " 'risk': 704,\n",
              " 'british': 705,\n",
              " 'jone': 706,\n",
              " 'india': 707,\n",
              " 'flegenheim': 708,\n",
              " 'three': 709,\n",
              " 'feel': 710,\n",
              " 'cartel': 711,\n",
              " 'defend': 712,\n",
              " 'eye': 713,\n",
              " 'megyn': 714,\n",
              " 'four': 715,\n",
              " 'interest': 716,\n",
              " 'surviv': 717,\n",
              " 'economi': 718,\n",
              " 'missil': 719,\n",
              " 'hour': 720,\n",
              " 'movi': 721,\n",
              " 'shorti': 722,\n",
              " 'civilian': 723,\n",
              " 'matter': 724,\n",
              " 'urg': 725,\n",
              " 'huma': 726,\n",
              " 'allow': 727,\n",
              " 'expect': 728,\n",
              " 'crimin': 729,\n",
              " 'rich': 730,\n",
              " 'steal': 731,\n",
              " 'brook': 732,\n",
              " 'second': 733,\n",
              " 'remov': 734,\n",
              " 'freedom': 735,\n",
              " 'drop': 736,\n",
              " 'land': 737,\n",
              " 'fed': 738,\n",
              " 'era': 739,\n",
              " 'mexican': 740,\n",
              " 'cancel': 741,\n",
              " 'munro': 742,\n",
              " 'buy': 743,\n",
              " 'chao': 744,\n",
              " 'millenni': 745,\n",
              " 'kim': 746,\n",
              " 'florida': 747,\n",
              " 'howard': 748,\n",
              " 'collect': 749,\n",
              " 'reopen': 750,\n",
              " 'octob': 751,\n",
              " 'cooper': 752,\n",
              " 'messag': 753,\n",
              " 'itali': 754,\n",
              " 'commun': 755,\n",
              " 'sexual': 756,\n",
              " 'space': 757,\n",
              " 'riehl': 758,\n",
              " 'ron': 759,\n",
              " 'chicago': 760,\n",
              " 'stack': 761,\n",
              " 'brown': 762,\n",
              " 'savag': 763,\n",
              " 'challeng': 764,\n",
              " 'intellig': 765,\n",
              " 'rick': 766,\n",
              " 'much': 767,\n",
              " 'thought': 768,\n",
              " 'wednesday': 769,\n",
              " 'well': 770,\n",
              " 'oil': 771,\n",
              " 'coward': 772,\n",
              " 'boy': 773,\n",
              " 'speak': 774,\n",
              " 'transgend': 775,\n",
              " 'anthoni': 776,\n",
              " 'adel': 777,\n",
              " 'told': 778,\n",
              " 'art': 779,\n",
              " 'special': 780,\n",
              " 'zraick': 781,\n",
              " 'oper': 782,\n",
              " 'pass': 783,\n",
              " 'resist': 784,\n",
              " 'privat': 785,\n",
              " 'spi': 786,\n",
              " 'chozick': 787,\n",
              " 'flynn': 788,\n",
              " 'emili': 789,\n",
              " 'brandon': 790,\n",
              " 'respons': 791,\n",
              " 'fact': 792,\n",
              " 'march': 793,\n",
              " 'fli': 794,\n",
              " 'jonah': 795,\n",
              " 'join': 796,\n",
              " 'h': 797,\n",
              " 'olymp': 798,\n",
              " 'host': 799,\n",
              " 'drive': 800,\n",
              " 'action': 801,\n",
              " 'lost': 802,\n",
              " 'explain': 803,\n",
              " 'share': 804,\n",
              " 'wmw': 805,\n",
              " 'journalist': 806,\n",
              " 'dikran': 807,\n",
              " 'arakelian': 808,\n",
              " 'gain': 809,\n",
              " 'arm': 810,\n",
              " 'thousand': 811,\n",
              " 'soon': 812,\n",
              " 'germani': 813,\n",
              " 'britain': 814,\n",
              " 'east': 815,\n",
              " 'isra': 816,\n",
              " 'blue': 817,\n",
              " 'effort': 818,\n",
              " 'sen': 819,\n",
              " 'away': 820,\n",
              " 'steinhauer': 821,\n",
              " 'abort': 822,\n",
              " 'wong': 823,\n",
              " 'jane': 824,\n",
              " 'percent': 825,\n",
              " 'colin': 826,\n",
              " 'doj': 827,\n",
              " 'earth': 828,\n",
              " 'anglin': 829,\n",
              " 'nazarian': 830,\n",
              " 'sport': 831,\n",
              " 'walk': 832,\n",
              " 'doctor': 833,\n",
              " 'predict': 834,\n",
              " 'patriot': 835,\n",
              " 'central': 836,\n",
              " 'middl': 837,\n",
              " 'christin': 838,\n",
              " 'ice': 839,\n",
              " 'mcphate': 840,\n",
              " 'morn': 841,\n",
              " 'kevin': 842,\n",
              " 'prove': 843,\n",
              " 'around': 844,\n",
              " 'busi': 845,\n",
              " 'jail': 846,\n",
              " 'hale': 847,\n",
              " 'biggest': 848,\n",
              " 'simon': 849,\n",
              " 'financi': 850,\n",
              " 'concern': 851,\n",
              " 'place': 852,\n",
              " 'realiti': 853,\n",
              " 'lo': 854,\n",
              " 'berkeley': 855,\n",
              " 'pope': 856,\n",
              " 'reach': 857,\n",
              " 'blast': 858,\n",
              " 'elit': 859,\n",
              " 'littl': 860,\n",
              " 'endors': 861,\n",
              " 'budget': 862,\n",
              " 'view': 863,\n",
              " 'class': 864,\n",
              " 'ken': 865,\n",
              " 'emerg': 866,\n",
              " 'jr': 867,\n",
              " 'eastern': 868,\n",
              " 'babi': 869,\n",
              " 'voic': 870,\n",
              " 'tip': 871,\n",
              " 'internet': 872,\n",
              " 'gwinn': 873,\n",
              " 'moreno': 874,\n",
              " 'learn': 875,\n",
              " 'includ': 876,\n",
              " 'japan': 877,\n",
              " 'past': 878,\n",
              " 'mchugh': 879,\n",
              " 'compani': 880,\n",
              " 'fals': 881,\n",
              " 'flag': 882,\n",
              " 'green': 883,\n",
              " 'front': 884,\n",
              " 'beat': 885,\n",
              " 'noth': 886,\n",
              " 'iraqi': 887,\n",
              " 'abus': 888,\n",
              " 'jewish': 889,\n",
              " 'hard': 890,\n",
              " 'depart': 891,\n",
              " 'dollar': 892,\n",
              " 'vow': 893,\n",
              " 'revolut': 894,\n",
              " 'guilti': 895,\n",
              " 'probe': 896,\n",
              " 'resign': 897,\n",
              " 'moor': 898,\n",
              " 'riot': 899,\n",
              " 'western': 900,\n",
              " 'defens': 901,\n",
              " 'greenfield': 902,\n",
              " 'trip': 903,\n",
              " 'arabia': 904,\n",
              " 'ahead': 905,\n",
              " 'attempt': 906,\n",
              " 'role': 907,\n",
              " 'earli': 908,\n",
              " 'plane': 909,\n",
              " 'age': 910,\n",
              " 'base': 911,\n",
              " 'broadcast': 912,\n",
              " 'contribut': 913,\n",
              " 'airport': 914,\n",
              " 'heart': 915,\n",
              " 'cost': 916,\n",
              " 'german': 917,\n",
              " 'abedin': 918,\n",
              " 'self': 919,\n",
              " 'rebel': 920,\n",
              " 'far': 921,\n",
              " 'earthquak': 922,\n",
              " 'bromwich': 923,\n",
              " 'repeal': 924,\n",
              " 'miller': 925,\n",
              " 'dyer': 926,\n",
              " 'attorney': 927,\n",
              " 'dump': 928,\n",
              " 'paper': 929,\n",
              " 'appear': 930,\n",
              " 'bombshel': 931,\n",
              " 'expert': 932,\n",
              " 'mason': 933,\n",
              " 'tomlinson': 934,\n",
              " 'senior': 935,\n",
              " 'discuss': 936,\n",
              " 'arriv': 937,\n",
              " 'ignor': 938,\n",
              " 'duke': 939,\n",
              " 'vladimir': 940,\n",
              " 'carolina': 941,\n",
              " 'train': 942,\n",
              " 'v': 943,\n",
              " 'honor': 944,\n",
              " 'silver': 945,\n",
              " 'differ': 946,\n",
              " 'believ': 947,\n",
              " 'better': 948,\n",
              " 'stevew': 949,\n",
              " 'governor': 950,\n",
              " 'industri': 951,\n",
              " 'rebecca': 952,\n",
              " 'liptak': 953,\n",
              " 'portnoy': 954,\n",
              " 'discov': 955,\n",
              " 'donor': 956,\n",
              " 'alert': 957,\n",
              " 'ali': 958,\n",
              " 'zone': 959,\n",
              " 'award': 960,\n",
              " 'femal': 961,\n",
              " 'gorafi': 962,\n",
              " 'reject': 963,\n",
              " 'indian': 964,\n",
              " 'schmidt': 965,\n",
              " 'elizabeth': 966,\n",
              " 'shut': 967,\n",
              " 'jafe': 968,\n",
              " 'arnoldski': 969,\n",
              " 'thank': 970,\n",
              " 'sam': 971,\n",
              " 'engel': 972,\n",
              " 'coup': 973,\n",
              " 'racist': 974,\n",
              " 'para': 975,\n",
              " 'establish': 976,\n",
              " 'outlook': 977,\n",
              " 'alli': 978,\n",
              " 'damag': 979,\n",
              " 'film': 980,\n",
              " 'alleg': 981,\n",
              " 'rez': 982,\n",
              " 'pe': 983,\n",
              " 'joseph': 984,\n",
              " 'halloween': 985,\n",
              " 'dream': 986,\n",
              " 'paid': 987,\n",
              " 'intern': 988,\n",
              " 'collaps': 989,\n",
              " 'season': 990,\n",
              " 'settlement': 991,\n",
              " 'taylor': 992,\n",
              " 'sell': 993,\n",
              " 'alreadi': 994,\n",
              " 'carl': 995,\n",
              " 'frank': 996,\n",
              " 'spicer': 997,\n",
              " 'search': 998,\n",
              " 'sue': 999,\n",
              " 'choic': 1000,\n",
              " ...}"
            ]
          },
          "metadata": {},
          "execution_count": 22
        }
      ]
    },
    {
      "cell_type": "code",
      "source": [
        "nos=np.array([len(X) for x in X])\n",
        "len(nos[nos>1000])"
      ],
      "metadata": {
        "colab": {
          "base_uri": "https://localhost:8080/"
        },
        "id": "9bFX2QFnPa-_",
        "outputId": "de143e59-1317-4eb3-cd27-e40872af07be"
      },
      "execution_count": null,
      "outputs": [
        {
          "output_type": "execute_result",
          "data": {
            "text/plain": [
              "20800"
            ]
          },
          "metadata": {},
          "execution_count": 23
        }
      ]
    },
    {
      "cell_type": "code",
      "source": [
        "from tensorflow.keras.preprocessing.sequence import pad_sequences"
      ],
      "metadata": {
        "id": "WDsSHiMLPkBD"
      },
      "execution_count": null,
      "outputs": []
    },
    {
      "cell_type": "code",
      "source": [
        "maxlen=1000\n",
        "X=pad_sequences(X,maxlen=maxlen)"
      ],
      "metadata": {
        "id": "VWs-mWnCPfjH"
      },
      "execution_count": null,
      "outputs": []
    },
    {
      "cell_type": "code",
      "source": [
        "len(X[101])"
      ],
      "metadata": {
        "colab": {
          "base_uri": "https://localhost:8080/"
        },
        "id": "6Yv-DWrtP20J",
        "outputId": "ad95e814-233a-4b46-db22-f6e1c6c9547c"
      },
      "execution_count": null,
      "outputs": [
        {
          "output_type": "execute_result",
          "data": {
            "text/plain": [
              "1000"
            ]
          },
          "metadata": {},
          "execution_count": 26
        }
      ]
    },
    {
      "cell_type": "code",
      "source": [
        "vocab_size=len(tokenizer.word_index) +1\n",
        "vocab=tokenizer.word_index"
      ],
      "metadata": {
        "id": "m7IbaOvPP9Yt"
      },
      "execution_count": null,
      "outputs": []
    },
    {
      "cell_type": "code",
      "source": [
        "def get_weight_matrix(model):\n",
        "    weight_matrix=np.zeros((vocab_size,DIM))\n",
        "\n",
        "    for word, i in vocab.items():\n",
        "      weight_matrix[i]=model.wv[word]\n",
        "\n",
        "    return weight_matrix"
      ],
      "metadata": {
        "id": "6qAZByYpQC59"
      },
      "execution_count": null,
      "outputs": []
    },
    {
      "cell_type": "code",
      "source": [
        "embedding_vectors=get_weight_matrix(w2v_model)"
      ],
      "metadata": {
        "id": "V-cvCFE7QJrD"
      },
      "execution_count": null,
      "outputs": []
    },
    {
      "cell_type": "code",
      "source": [
        "embedding_vectors.shape"
      ],
      "metadata": {
        "colab": {
          "base_uri": "https://localhost:8080/"
        },
        "id": "ABrUiaBSQN5o",
        "outputId": "626976a4-ab35-486c-e4e5-dbc1bc8c6204"
      },
      "execution_count": null,
      "outputs": [
        {
          "output_type": "execute_result",
          "data": {
            "text/plain": [
              "(17147, 100)"
            ]
          },
          "metadata": {},
          "execution_count": 30
        }
      ]
    },
    {
      "cell_type": "code",
      "source": [
        "from tensorflow.keras.models import Sequential\n",
        "from tensorflow.keras.layers import Dense,Embedding,LSTM,Conv1D,MaxPool1D\n",
        "from sklearn.model_selection import train_test_split\n",
        "from sklearn.metrics import classification_report,accuracy_score"
      ],
      "metadata": {
        "id": "h2mWXdDRQZkf"
      },
      "execution_count": null,
      "outputs": []
    },
    {
      "cell_type": "code",
      "source": [
        ""
      ],
      "metadata": {
        "id": "x01nN2NeQb39"
      },
      "execution_count": null,
      "outputs": []
    },
    {
      "cell_type": "markdown",
      "source": [
        "1. LSTM (Long Short Term Mermory) Algorithm"
      ],
      "metadata": {
        "id": "kWxUUanHQfDV"
      }
    },
    {
      "cell_type": "code",
      "source": [
        "# build model\n",
        "model=Sequential()\n",
        "model.add(Embedding(vocab_size,output_dim=DIM,weights=[embedding_vectors],input_length=maxlen,trainable=False))\n",
        "model.add(LSTM(units=128))\n",
        "model.add(Dense(1,activation='sigmoid'))\n",
        "model.compile(optimizer='adam',loss='binary_crossentropy',metrics=['acc'])"
      ],
      "metadata": {
        "id": "vkUNxlcVQom2"
      },
      "execution_count": null,
      "outputs": []
    },
    {
      "cell_type": "code",
      "source": [
        "model.summary()"
      ],
      "metadata": {
        "colab": {
          "base_uri": "https://localhost:8080/"
        },
        "id": "rEFIIMSiQ0tq",
        "outputId": "6daeafdc-3067-4bd8-a242-f83e62578958"
      },
      "execution_count": null,
      "outputs": [
        {
          "output_type": "stream",
          "name": "stdout",
          "text": [
            "Model: \"sequential\"\n",
            "_________________________________________________________________\n",
            " Layer (type)                Output Shape              Param #   \n",
            "=================================================================\n",
            " embedding (Embedding)       (None, 1000, 100)         1714700   \n",
            "                                                                 \n",
            " lstm (LSTM)                 (None, 128)               117248    \n",
            "                                                                 \n",
            " dense (Dense)               (None, 1)                 129       \n",
            "                                                                 \n",
            "=================================================================\n",
            "Total params: 1,832,077\n",
            "Trainable params: 117,377\n",
            "Non-trainable params: 1,714,700\n",
            "_________________________________________________________________\n"
          ]
        }
      ]
    },
    {
      "cell_type": "code",
      "source": [
        "X_train,X_test,Y_train,Y_test=train_test_split(X,Y)"
      ],
      "metadata": {
        "id": "OVOCYKShQ708"
      },
      "execution_count": null,
      "outputs": []
    },
    {
      "cell_type": "code",
      "source": [
        "model.fit(X_train,Y_train,validation_split=0.3,epochs=6)"
      ],
      "metadata": {
        "colab": {
          "base_uri": "https://localhost:8080/"
        },
        "id": "9oOrqXTqQ_ji",
        "outputId": "74836593-178c-4a17-e4f3-31341e747802"
      },
      "execution_count": null,
      "outputs": [
        {
          "output_type": "stream",
          "name": "stdout",
          "text": [
            "Epoch 1/6\n",
            "342/342 [==============================] - 414s 1s/step - loss: 0.2426 - acc: 0.8976 - val_loss: 0.1619 - val_acc: 0.9393\n",
            "Epoch 2/6\n",
            "342/342 [==============================] - 460s 1s/step - loss: 0.1618 - acc: 0.9368 - val_loss: 0.1539 - val_acc: 0.9359\n",
            "Epoch 3/6\n",
            "342/342 [==============================] - 444s 1s/step - loss: 0.1372 - acc: 0.9465 - val_loss: 0.1358 - val_acc: 0.9447\n",
            "Epoch 4/6\n",
            "342/342 [==============================] - 374s 1s/step - loss: 0.1299 - acc: 0.9506 - val_loss: 0.1266 - val_acc: 0.9513\n",
            "Epoch 5/6\n",
            "342/342 [==============================] - 374s 1s/step - loss: 0.1130 - acc: 0.9582 - val_loss: 0.1238 - val_acc: 0.9489\n",
            "Epoch 6/6\n",
            "342/342 [==============================] - 372s 1s/step - loss: 0.1098 - acc: 0.9567 - val_loss: 0.0963 - val_acc: 0.9665\n"
          ]
        },
        {
          "output_type": "execute_result",
          "data": {
            "text/plain": [
              "<keras.callbacks.History at 0x7f6762c84dd0>"
            ]
          },
          "metadata": {},
          "execution_count": 101
        }
      ]
    },
    {
      "cell_type": "code",
      "source": [
        "Y_pred=(model.predict(X_test) >= 0.5).astype(int)"
      ],
      "metadata": {
        "id": "EywJla2hRGCs"
      },
      "execution_count": null,
      "outputs": []
    },
    {
      "cell_type": "code",
      "source": [
        "#check accuracy\n",
        "accuracy_score(Y_test,Y_pred)"
      ],
      "metadata": {
        "colab": {
          "base_uri": "https://localhost:8080/"
        },
        "id": "U_3ZZ1GhRI52",
        "outputId": "7e4f21c5-cf6a-4ff5-a357-0f815be1b55a"
      },
      "execution_count": null,
      "outputs": [
        {
          "output_type": "execute_result",
          "data": {
            "text/plain": [
              "0.9663461538461539"
            ]
          },
          "metadata": {},
          "execution_count": 103
        }
      ]
    },
    {
      "cell_type": "code",
      "source": [
        "print(classification_report(Y_test,Y_pred))"
      ],
      "metadata": {
        "colab": {
          "base_uri": "https://localhost:8080/"
        },
        "id": "xp_LInsfRPA4",
        "outputId": "28fa17c6-4ab5-4715-aca4-79bbd6e0ce0a"
      },
      "execution_count": null,
      "outputs": [
        {
          "output_type": "stream",
          "name": "stdout",
          "text": [
            "              precision    recall  f1-score   support\n",
            "\n",
            "           0       0.99      0.95      0.97      2601\n",
            "           1       0.95      0.99      0.97      2599\n",
            "\n",
            "    accuracy                           0.97      5200\n",
            "   macro avg       0.97      0.97      0.97      5200\n",
            "weighted avg       0.97      0.97      0.97      5200\n",
            "\n"
          ]
        }
      ]
    },
    {
      "cell_type": "code",
      "source": [
        ""
      ],
      "metadata": {
        "id": "tR7p8Z3URP9w"
      },
      "execution_count": null,
      "outputs": []
    },
    {
      "cell_type": "code",
      "source": [
        "from sklearn.metrics import confusion_matrix\n",
        "cm=confusion_matrix(Y_test,Y_pred)\n",
        "print(cm)"
      ],
      "metadata": {
        "colab": {
          "base_uri": "https://localhost:8080/"
        },
        "id": "Ds3fJZkRRVU4",
        "outputId": "de5a636e-ad80-440f-fda1-6cdb2752616e"
      },
      "execution_count": null,
      "outputs": [
        {
          "output_type": "stream",
          "name": "stdout",
          "text": [
            "[[2461  140]\n",
            " [  35 2564]]\n"
          ]
        }
      ]
    },
    {
      "cell_type": "code",
      "source": [
        "# Calculate Precision\n",
        "precision=(2461)/(2461+35)\n",
        "print(\"Precision = \",precision)"
      ],
      "metadata": {
        "colab": {
          "base_uri": "https://localhost:8080/"
        },
        "id": "I4Ye8aIKReNc",
        "outputId": "01f03805-21a1-490e-aa4f-7c7a95fc090b"
      },
      "execution_count": null,
      "outputs": [
        {
          "output_type": "stream",
          "name": "stdout",
          "text": [
            "Precision =  0.9859775641025641\n"
          ]
        }
      ]
    },
    {
      "cell_type": "code",
      "source": [
        "# Calculate Recall\n",
        "recall=(2461)/(35+2564)\n",
        "print(\"Recall = \",recall)"
      ],
      "metadata": {
        "colab": {
          "base_uri": "https://localhost:8080/"
        },
        "id": "VYwNn4zKTGT8",
        "outputId": "f70aaf36-3d11-4a77-a120-1943359fafba"
      },
      "execution_count": null,
      "outputs": [
        {
          "output_type": "stream",
          "name": "stdout",
          "text": [
            "Recall =  0.9469026548672567\n"
          ]
        }
      ]
    },
    {
      "cell_type": "code",
      "source": [
        "#Calculate F1-score\n",
        "F1= 2 * (precision * recall) / (precision + recall)\n",
        "print(\"F1-Score = \",F1)"
      ],
      "metadata": {
        "colab": {
          "base_uri": "https://localhost:8080/"
        },
        "id": "Y9ovRQOcTTCK",
        "outputId": "da5ad9ac-0026-4e22-df10-e6e55cd2160c"
      },
      "execution_count": null,
      "outputs": [
        {
          "output_type": "stream",
          "name": "stdout",
          "text": [
            "F1-Score =  0.9660451422963688\n"
          ]
        }
      ]
    },
    {
      "cell_type": "markdown",
      "source": [
        "2. ANN (Artifical Neural Networks) Algorithm"
      ],
      "metadata": {
        "id": "vECyiy9aUKvM"
      }
    },
    {
      "cell_type": "code",
      "source": [
        "from sklearn.neural_network import MLPRegressor\n",
        "from sklearn.preprocessing import StandardScaler\n",
        "import matplotlib.pyplot as plt\n",
        "import seaborn as sns"
      ],
      "metadata": {
        "id": "y1nq4_qzUU6T"
      },
      "execution_count": null,
      "outputs": []
    },
    {
      "cell_type": "code",
      "source": [
        "X_train,X_test,Y_train,Y_test=train_test_split(X,Y)"
      ],
      "metadata": {
        "id": "-aZFV2IvUaQ9"
      },
      "execution_count": null,
      "outputs": []
    },
    {
      "cell_type": "code",
      "source": [
        "ANN=MLPRegressor(hidden_layer_sizes=(64,64,64),activation='relu',alpha=0.0001,batch_size='auto',learning_rate='constant',learning_rate_init=0.001,\n",
        "                 random_state=1,max_iter=2000).fit(X_train,Y_train)"
      ],
      "metadata": {
        "id": "w5Rv8zbTCFua"
      },
      "execution_count": null,
      "outputs": []
    },
    {
      "cell_type": "code",
      "source": [
        "Y_pred=(ANN.predict(X_test) >= 0.5).astype(int)"
      ],
      "metadata": {
        "id": "8cVk4snOUekh"
      },
      "execution_count": null,
      "outputs": []
    },
    {
      "cell_type": "code",
      "source": [
        "#check accuracy\n",
        "accuracy_score(Y_test,Y_pred)"
      ],
      "metadata": {
        "id": "90bzhAqBUqiZ",
        "colab": {
          "base_uri": "https://localhost:8080/"
        },
        "outputId": "ee5314ec-0d2c-4834-c802-f1b581f9afcf"
      },
      "execution_count": null,
      "outputs": [
        {
          "output_type": "execute_result",
          "data": {
            "text/plain": [
              "0.6176923076923077"
            ]
          },
          "metadata": {},
          "execution_count": 37
        }
      ]
    },
    {
      "cell_type": "code",
      "source": [
        "print(classification_report(Y_test,Y_pred))"
      ],
      "metadata": {
        "id": "gGzWKLx8UzEu",
        "colab": {
          "base_uri": "https://localhost:8080/"
        },
        "outputId": "a8c1e50b-4b38-4b3a-823a-4937992356a9"
      },
      "execution_count": null,
      "outputs": [
        {
          "output_type": "stream",
          "name": "stdout",
          "text": [
            "              precision    recall  f1-score   support\n",
            "\n",
            "           0       0.79      0.32      0.45      2586\n",
            "           1       0.58      0.92      0.71      2614\n",
            "\n",
            "    accuracy                           0.62      5200\n",
            "   macro avg       0.68      0.62      0.58      5200\n",
            "weighted avg       0.68      0.62      0.58      5200\n",
            "\n"
          ]
        }
      ]
    },
    {
      "cell_type": "code",
      "source": [
        "# Comfusion Matrix of ANN\n",
        "from sklearn.metrics import confusion_matrix\n",
        "cm=confusion_matrix(Y_test,Y_pred)\n",
        "print(cm)"
      ],
      "metadata": {
        "id": "u13X2OsdU6zi",
        "colab": {
          "base_uri": "https://localhost:8080/"
        },
        "outputId": "06cb23f3-6aed-427a-f617-93ad53c3cf1b"
      },
      "execution_count": null,
      "outputs": [
        {
          "output_type": "stream",
          "name": "stdout",
          "text": [
            "[[ 816 1770]\n",
            " [ 218 2396]]\n"
          ]
        }
      ]
    },
    {
      "cell_type": "code",
      "source": [
        "# Calculate Precision\n",
        "precision=(816)/(218+816)\n",
        "print(\"Precision = \",precision)"
      ],
      "metadata": {
        "id": "14gLvaXjVBuH",
        "colab": {
          "base_uri": "https://localhost:8080/"
        },
        "outputId": "923e7857-99fe-484d-8ce0-5888ab5680b5"
      },
      "execution_count": null,
      "outputs": [
        {
          "output_type": "stream",
          "name": "stdout",
          "text": [
            "Precision =  0.7891682785299806\n"
          ]
        }
      ]
    },
    {
      "cell_type": "code",
      "source": [
        "# Calculate Recall\n",
        "recall=(816)/(218+2396)\n",
        "print(\"Recall = \",recall)"
      ],
      "metadata": {
        "id": "i7dL6oRqVLba",
        "colab": {
          "base_uri": "https://localhost:8080/"
        },
        "outputId": "baae814c-359c-41a5-cf82-52e5aa8440b1"
      },
      "execution_count": null,
      "outputs": [
        {
          "output_type": "stream",
          "name": "stdout",
          "text": [
            "Recall =  0.31216526396327465\n"
          ]
        }
      ]
    },
    {
      "cell_type": "code",
      "source": [
        "#Calculate F1-score\n",
        "F1= 2 * (precision * recall) / (precision + recall)\n",
        "print(\"F1-Score = \",F1)"
      ],
      "metadata": {
        "id": "ksHsCqpWVMRP",
        "colab": {
          "base_uri": "https://localhost:8080/"
        },
        "outputId": "adb84663-ce25-4792-9572-4f48ba3b266a"
      },
      "execution_count": null,
      "outputs": [
        {
          "output_type": "stream",
          "name": "stdout",
          "text": [
            "F1-Score =  0.4473684210526315\n"
          ]
        }
      ]
    },
    {
      "cell_type": "code",
      "source": [
        ""
      ],
      "metadata": {
        "id": "snv3dBllFB44"
      },
      "execution_count": null,
      "outputs": []
    },
    {
      "cell_type": "markdown",
      "source": [
        "Graph of Precision,Recall,F1-score for ML and DL algoes"
      ],
      "metadata": {
        "id": "Rbb0KiYVHNK-"
      }
    },
    {
      "cell_type": "code",
      "source": [
        "import matplotlib.pyplot as plt"
      ],
      "metadata": {
        "id": "77X4NM1SHX3f"
      },
      "execution_count": 1,
      "outputs": []
    },
    {
      "cell_type": "code",
      "source": [
        "x=['LR','DT','GB','RF','NB','SVM','KNN','XB','LSTM','ANN']\n",
        "\n",
        "y1=[0.957690,0.993594,0.933453,0.989825,0.982091,0.989162,0.545073,0.920757,0.985977,0.789168]\n",
        "y2=[0.992638,0.992958,0.996799,0.996479,0.983035,0.993278,0.998720,0.996799,0.946902,0.312165]\n",
        "y3=[0.974851,0.993276,0.964087,0.993141,0.982563,0.991215,0.705244,0.957270,0.966045,0.447368]"
      ],
      "metadata": {
        "id": "Cdjmpc9SHg4p"
      },
      "execution_count": 2,
      "outputs": []
    },
    {
      "cell_type": "code",
      "source": [
        "\n",
        "fig=plt.figure(figsize=(10,6))\n",
        "ax=fig.add_subplot()\n",
        "ax.set_xlabel('Algorithm',fontsize=18,fontweight='bold')\n",
        "ax.set_ylabel('Score',fontsize=18,fontweight='bold')\n",
        "ax.xaxis.label.set_color('red')\n",
        "ax.yaxis.label.set_color('red')\n",
        "ax.set_title('Evaluation Metrics',fontsize=18,fontweight='bold')\n",
        "plt.xticks(fontsize=10,fontweight='bold')\n",
        "plt.yticks(fontsize=10,fontweight='bold')\n",
        "plt.plot(x,y1)\n",
        "plt.plot(x,y2)\n",
        "plt.plot(x,y3)\n",
        "plt.legend([\"Precision\",\"Recall\",\"F1_Score\"],fontsize=18)\n",
        "plt.show()"
      ],
      "metadata": {
        "colab": {
          "base_uri": "https://localhost:8080/",
          "height": 416
        },
        "id": "1BNgZDK8PyLd",
        "outputId": "32bc267e-57b4-4837-da52-eb565fe51ec9"
      },
      "execution_count": 4,
      "outputs": [
        {
          "output_type": "display_data",
          "data": {
            "text/plain": [
              "<Figure size 720x432 with 1 Axes>"
            ],
            "image/png": "[encoded data removed]"
          },
          "metadata": {
            "needs_background": "light"
          }
        }
      ]
    },
    {
      "cell_type": "code",
      "source": [
        "y4=[97.90,99.20,96.75,99.27,98.29,99.13,58.70,95.31,96.63,61.76]\n",
        "\n",
        "fig=plt.figure(figsize=(10,6))\n",
        "ax=fig.add_subplot()\n",
        "ax.set_xlabel('Algorithm',fontsize=18,fontweight='bold')\n",
        "ax.set_ylabel('Score',fontsize=18,fontweight='bold')\n",
        "ax.xaxis.label.set_color('red')\n",
        "ax.yaxis.label.set_color('red')\n",
        "ax.set_title('Accuracy',fontsize=18,fontweight='bold')\n",
        "plt.xticks(fontsize=10,fontweight='bold')\n",
        "plt.yticks(fontsize=10,fontweight='bold')\n",
        "plt.plot(x,y1)\n",
        "\n",
        "\n",
        "plt.show()"
      ],
      "metadata": {
        "colab": {
          "base_uri": "https://localhost:8080/",
          "height": 416
        },
        "id": "t49a2eC4Qsk0",
        "outputId": "e91b47c8-6aee-44bf-8a74-52e33b8aff8c"
      },
      "execution_count": 5,
      "outputs": [
        {
          "output_type": "display_data",
          "data": {
            "text/plain": [
              "<Figure size 720x432 with 1 Axes>"
            ],
            "image/png": "[encoded data removed]"
          },
          "metadata": {
            "needs_background": "light"
          }
        }
      ]
    }
  ],
  "metadata": {
    "colab": {
      "collapsed_sections": [],
      "name": "Fake News Detection G22.ipynb",
      "provenance": [],
      "include_colab_link": true
    },
    "kernelspec": {
      "display_name": "Python 3",
      "name": "python3"
    },
    "language_info": {
      "name": "python"
    },
    "accelerator": "GPU"
  },
  "nbformat": 4,
  "nbformat_minor": 0
}