{
  "cells": [
    {
      "cell_type": "markdown",
      "metadata": {
        "id": "view-in-github",
        "colab_type": "text"
      },
      "source": [
        "<a href=\"https://colab.research.google.com/github/SUBHAM830/Fake-News-Detection/blob/main/Fake_News_Detection_G22.ipynb\" target=\"_parent\"><img src=\"https://colab.research.google.com/assets/colab-badge.svg\" alt=\"Open In Colab\"/></a>"
      ]
    },
    {
      "cell_type": "code",
      "execution_count": 1,
      "metadata": {
        "id": "dpHd11tTTi0n"
      },
      "outputs": [],
      "source": [
        "# Let us import the required libraries\n",
        "import numpy as np\n",
        "import pandas as pd\n",
        "import re\n",
        "from nltk.corpus import stopwords\n",
        "from nltk.stem.porter import PorterStemmer\n",
        "from sklearn.feature_extraction.text import TfidfVectorizer\n",
        "from sklearn.model_selection import train_test_split\n",
        "from sklearn.linear_model import LogisticRegression\n",
        "from sklearn.metrics import accuracy_score"
      ]
    },
    {
      "cell_type": "code",
      "execution_count": 2,
      "metadata": {
        "colab": {
          "base_uri": "https://localhost:8080/"
        },
        "id": "pc2A2o3vtJRe",
        "outputId": "e653cb4e-5879-4db4-8864-bccc20431305"
      },
      "outputs": [
        {
          "output_type": "stream",
          "name": "stdout",
          "text": [
            "[nltk_data] Downloading package stopwords to /root/nltk_data...\n",
            "[nltk_data]   Unzipping corpora/stopwords.zip.\n"
          ]
        },
        {
          "output_type": "execute_result",
          "data": {
            "text/plain": [
              "True"
            ]
          },
          "metadata": {},
          "execution_count": 2
        }
      ],
      "source": [
        "# Stopwords\n",
        "import nltk\n",
        "nltk.download('stopwords')"
      ]
    },
    {
      "cell_type": "code",
      "execution_count": null,
      "metadata": {
        "id": "tyoqoQ7_tRWi"
      },
      "outputs": [],
      "source": [
        ""
      ]
    },
    {
      "cell_type": "markdown",
      "metadata": {
        "id": "IVRvZVbjtd53"
      },
      "source": [
        "About the Dataset:\n",
        "\n",
        "1.id: unique id for a news article\n",
        "\n",
        "2.title: the title of a news article\n",
        "\n",
        "3.author: author of the news article\n",
        "\n",
        "4.text: the text of the article; could be incomplete\n",
        "\n",
        "5.label: a label that marks whether the news article is real or fake:\n",
        "\n",
        "1 For Fake News \n",
        "\n",
        "0 For True News\n"
      ]
    },
    {
      "cell_type": "code",
      "execution_count": 3,
      "metadata": {
        "colab": {
          "base_uri": "https://localhost:8080/"
        },
        "id": "04gu6rHR04lg",
        "outputId": "06707dee-b80c-498e-c93e-94100f074832"
      },
      "outputs": [
        {
          "output_type": "stream",
          "name": "stdout",
          "text": [
            "Mounted at /content/drive\n"
          ]
        }
      ],
      "source": [
        "#mount\n",
        "from google.colab import drive\n",
        "drive.mount('/content/drive')"
      ]
    },
    {
      "cell_type": "code",
      "execution_count": 4,
      "metadata": {
        "colab": {
          "base_uri": "https://localhost:8080/"
        },
        "id": "Jpm5aC1Zt6c7",
        "outputId": "e4e5558b-6eb3-4b6a-e0d7-3c38af21e728"
      },
      "outputs": [
        {
          "output_type": "stream",
          "name": "stdout",
          "text": [
            "['i', 'me', 'my', 'myself', 'we', 'our', 'ours', 'ourselves', 'you', \"you're\", \"you've\", \"you'll\", \"you'd\", 'your', 'yours', 'yourself', 'yourselves', 'he', 'him', 'his', 'himself', 'she', \"she's\", 'her', 'hers', 'herself', 'it', \"it's\", 'its', 'itself', 'they', 'them', 'their', 'theirs', 'themselves', 'what', 'which', 'who', 'whom', 'this', 'that', \"that'll\", 'these', 'those', 'am', 'is', 'are', 'was', 'were', 'be', 'been', 'being', 'have', 'has', 'had', 'having', 'do', 'does', 'did', 'doing', 'a', 'an', 'the', 'and', 'but', 'if', 'or', 'because', 'as', 'until', 'while', 'of', 'at', 'by', 'for', 'with', 'about', 'against', 'between', 'into', 'through', 'during', 'before', 'after', 'above', 'below', 'to', 'from', 'up', 'down', 'in', 'out', 'on', 'off', 'over', 'under', 'again', 'further', 'then', 'once', 'here', 'there', 'when', 'where', 'why', 'how', 'all', 'any', 'both', 'each', 'few', 'more', 'most', 'other', 'some', 'such', 'no', 'nor', 'not', 'only', 'own', 'same', 'so', 'than', 'too', 'very', 's', 't', 'can', 'will', 'just', 'don', \"don't\", 'should', \"should've\", 'now', 'd', 'll', 'm', 'o', 're', 've', 'y', 'ain', 'aren', \"aren't\", 'couldn', \"couldn't\", 'didn', \"didn't\", 'doesn', \"doesn't\", 'hadn', \"hadn't\", 'hasn', \"hasn't\", 'haven', \"haven't\", 'isn', \"isn't\", 'ma', 'mightn', \"mightn't\", 'mustn', \"mustn't\", 'needn', \"needn't\", 'shan', \"shan't\", 'shouldn', \"shouldn't\", 'wasn', \"wasn't\", 'weren', \"weren't\", 'won', \"won't\", 'wouldn', \"wouldn't\"]\n"
          ]
        }
      ],
      "source": [
        "# printing the stopwords in English\n",
        "print(stopwords.words('english'))"
      ]
    },
    {
      "cell_type": "code",
      "execution_count": null,
      "metadata": {
        "id": "J_5sRP6Vt2ua"
      },
      "outputs": [],
      "source": [
        "\n",
        "\n"
      ]
    },
    {
      "cell_type": "code",
      "execution_count": 5,
      "metadata": {
        "id": "NlDTW9LTFDap"
      },
      "outputs": [],
      "source": [
        "# Now Loading the dataset\n",
        "DataSet=pd.read_csv('/content/drive/My Drive/FakeNewsDetection/Dataset/train.csv')"
      ]
    },
    {
      "cell_type": "code",
      "execution_count": 6,
      "metadata": {
        "colab": {
          "base_uri": "https://localhost:8080/"
        },
        "id": "hu2dPDwatwRl",
        "outputId": "4cfb04f5-9e06-452b-baa8-16efef0cae19"
      },
      "outputs": [
        {
          "output_type": "execute_result",
          "data": {
            "text/plain": [
              "(20800, 5)"
            ]
          },
          "metadata": {},
          "execution_count": 6
        }
      ],
      "source": [
        "# Let us check the shape of the dataset\n",
        "DataSet.shape"
      ]
    },
    {
      "cell_type": "code",
      "execution_count": 7,
      "metadata": {
        "colab": {
          "base_uri": "https://localhost:8080/",
          "height": 563
        },
        "id": "CISCsyhavsDK",
        "outputId": "277143ef-8bd5-4477-9a02-0557c8a971e5"
      },
      "outputs": [
        {
          "output_type": "execute_result",
          "data": {
            "text/plain": [
              "   id                                              title  \\\n",
              "0   0  House Dem Aide: We Didn’t Even See Comey’s Let...   \n",
              "1   1  FLYNN: Hillary Clinton, Big Woman on Campus - ...   \n",
              "2   2                  Why the Truth Might Get You Fired   \n",
              "3   3  15 Civilians Killed In Single US Airstrike Hav...   \n",
              "4   4  Iranian woman jailed for fictional unpublished...   \n",
              "5   5  Jackie Mason: Hollywood Would Love Trump if He...   \n",
              "6   6  Life: Life Of Luxury: Elton John’s 6 Favorite ...   \n",
              "7   7  Benoît Hamon Wins French Socialist Party’s Pre...   \n",
              "8   8  Excerpts From a Draft Script for Donald Trump’...   \n",
              "9   9  A Back-Channel Plan for Ukraine and Russia, Co...   \n",
              "\n",
              "                         author  \\\n",
              "0                 Darrell Lucus   \n",
              "1               Daniel J. Flynn   \n",
              "2            Consortiumnews.com   \n",
              "3               Jessica Purkiss   \n",
              "4                Howard Portnoy   \n",
              "5               Daniel Nussbaum   \n",
              "6                           NaN   \n",
              "7               Alissa J. Rubin   \n",
              "8                           NaN   \n",
              "9  Megan Twohey and Scott Shane   \n",
              "\n",
              "                                                text  label  \n",
              "0  House Dem Aide: We Didn’t Even See Comey’s Let...      1  \n",
              "1  Ever get the feeling your life circles the rou...      0  \n",
              "2  Why the Truth Might Get You Fired October 29, ...      1  \n",
              "3  Videos 15 Civilians Killed In Single US Airstr...      1  \n",
              "4  Print \\nAn Iranian woman has been sentenced to...      1  \n",
              "5  In these trying times, Jackie Mason is the Voi...      0  \n",
              "6  Ever wonder how Britain’s most iconic pop pian...      1  \n",
              "7  PARIS  —   France chose an idealistic, traditi...      0  \n",
              "8  Donald J. Trump is scheduled to make a highly ...      0  \n",
              "9  A week before Michael T. Flynn resigned as nat...      0  "
            ],
            "text/html": [
              "\n",
              "  <div id=\"df-50c0b2f6-94d9-4a43-adb8-4f2735ab6107\">\n",
              "    <div class=\"colab-df-container\">\n",
              "      <div>\n",
              "<style scoped>\n",
              "    .dataframe tbody tr th:only-of-type {\n",
              "        vertical-align: middle;\n",
              "    }\n",
              "\n",
              "    .dataframe tbody tr th {\n",
              "        vertical-align: top;\n",
              "    }\n",
              "\n",
              "    .dataframe thead th {\n",
              "        text-align: right;\n",
              "    }\n",
              "</style>\n",
              "<table border=\"1\" class=\"dataframe\">\n",
              "  <thead>\n",
              "    <tr style=\"text-align: right;\">\n",
              "      <th></th>\n",
              "      <th>id</th>\n",
              "      <th>title</th>\n",
              "      <th>author</th>\n",
              "      <th>text</th>\n",
              "      <th>label</th>\n",
              "    </tr>\n",
              "  </thead>\n",
              "  <tbody>\n",
              "    <tr>\n",
              "      <th>0</th>\n",
              "      <td>0</td>\n",
              "      <td>House Dem Aide: We Didn’t Even See Comey’s Let...</td>\n",
              "      <td>Darrell Lucus</td>\n",
              "      <td>House Dem Aide: We Didn’t Even See Comey’s Let...</td>\n",
              "      <td>1</td>\n",
              "    </tr>\n",
              "    <tr>\n",
              "      <th>1</th>\n",
              "      <td>1</td>\n",
              "      <td>FLYNN: Hillary Clinton, Big Woman on Campus - ...</td>\n",
              "      <td>Daniel J. Flynn</td>\n",
              "      <td>Ever get the feeling your life circles the rou...</td>\n",
              "      <td>0</td>\n",
              "    </tr>\n",
              "    <tr>\n",
              "      <th>2</th>\n",
              "      <td>2</td>\n",
              "      <td>Why the Truth Might Get You Fired</td>\n",
              "      <td>Consortiumnews.com</td>\n",
              "      <td>Why the Truth Might Get You Fired October 29, ...</td>\n",
              "      <td>1</td>\n",
              "    </tr>\n",
              "    <tr>\n",
              "      <th>3</th>\n",
              "      <td>3</td>\n",
              "      <td>15 Civilians Killed In Single US Airstrike Hav...</td>\n",
              "      <td>Jessica Purkiss</td>\n",
              "      <td>Videos 15 Civilians Killed In Single US Airstr...</td>\n",
              "      <td>1</td>\n",
              "    </tr>\n",
              "    <tr>\n",
              "      <th>4</th>\n",
              "      <td>4</td>\n",
              "      <td>Iranian woman jailed for fictional unpublished...</td>\n",
              "      <td>Howard Portnoy</td>\n",
              "      <td>Print \\nAn Iranian woman has been sentenced to...</td>\n",
              "      <td>1</td>\n",
              "    </tr>\n",
              "    <tr>\n",
              "      <th>5</th>\n",
              "      <td>5</td>\n",
              "      <td>Jackie Mason: Hollywood Would Love Trump if He...</td>\n",
              "      <td>Daniel Nussbaum</td>\n",
              "      <td>In these trying times, Jackie Mason is the Voi...</td>\n",
              "      <td>0</td>\n",
              "    </tr>\n",
              "    <tr>\n",
              "      <th>6</th>\n",
              "      <td>6</td>\n",
              "      <td>Life: Life Of Luxury: Elton John’s 6 Favorite ...</td>\n",
              "      <td>NaN</td>\n",
              "      <td>Ever wonder how Britain’s most iconic pop pian...</td>\n",
              "      <td>1</td>\n",
              "    </tr>\n",
              "    <tr>\n",
              "      <th>7</th>\n",
              "      <td>7</td>\n",
              "      <td>Benoît Hamon Wins French Socialist Party’s Pre...</td>\n",
              "      <td>Alissa J. Rubin</td>\n",
              "      <td>PARIS  —   France chose an idealistic, traditi...</td>\n",
              "      <td>0</td>\n",
              "    </tr>\n",
              "    <tr>\n",
              "      <th>8</th>\n",
              "      <td>8</td>\n",
              "      <td>Excerpts From a Draft Script for Donald Trump’...</td>\n",
              "      <td>NaN</td>\n",
              "      <td>Donald J. Trump is scheduled to make a highly ...</td>\n",
              "      <td>0</td>\n",
              "    </tr>\n",
              "    <tr>\n",
              "      <th>9</th>\n",
              "      <td>9</td>\n",
              "      <td>A Back-Channel Plan for Ukraine and Russia, Co...</td>\n",
              "      <td>Megan Twohey and Scott Shane</td>\n",
              "      <td>A week before Michael T. Flynn resigned as nat...</td>\n",
              "      <td>0</td>\n",
              "    </tr>\n",
              "  </tbody>\n",
              "</table>\n",
              "</div>\n",
              "      <button class=\"colab-df-convert\" onclick=\"convertToInteractive('df-50c0b2f6-94d9-4a43-adb8-4f2735ab6107')\"\n",
              "              title=\"Convert this dataframe to an interactive table.\"\n",
              "              style=\"display:none;\">\n",
              "        \n",
              "  <svg xmlns=\"http://www.w3.org/2000/svg\" height=\"24px\"viewBox=\"0 0 24 24\"\n",
              "       width=\"24px\">\n",
              "    <path d=\"M0 0h24v24H0V0z\" fill=\"none\"/>\n",
              "    <path d=\"M18.56 5.44l.94 2.06.94-2.06 2.06-.94-2.06-.94-.94-2.06-.94 2.06-2.06.94zm-11 1L8.5 8.5l.94-2.06 2.06-.94-2.06-.94L8.5 2.5l-.94 2.06-2.06.94zm10 10l.94 2.06.94-2.06 2.06-.94-2.06-.94-.94-2.06-.94 2.06-2.06.94z\"/><path d=\"M17.41 7.96l-1.37-1.37c-.4-.4-.92-.59-1.43-.59-.52 0-1.04.2-1.43.59L10.3 9.45l-7.72 7.72c-.78.78-.78 2.05 0 2.83L4 21.41c.39.39.9.59 1.41.59.51 0 1.02-.2 1.41-.59l7.78-7.78 2.81-2.81c.8-.78.8-2.07 0-2.86zM5.41 20L4 18.59l7.72-7.72 1.47 1.35L5.41 20z\"/>\n",
              "  </svg>\n",
              "      </button>\n",
              "      \n",
              "  <style>\n",
              "    .colab-df-container {\n",
              "      display:flex;\n",
              "      flex-wrap:wrap;\n",
              "      gap: 12px;\n",
              "    }\n",
              "\n",
              "    .colab-df-convert {\n",
              "      background-color: #E8F0FE;\n",
              "      border: none;\n",
              "      border-radius: 50%;\n",
              "      cursor: pointer;\n",
              "      display: none;\n",
              "      fill: #1967D2;\n",
              "      height: 32px;\n",
              "      padding: 0 0 0 0;\n",
              "      width: 32px;\n",
              "    }\n",
              "\n",
              "    .colab-df-convert:hover {\n",
              "      background-color: #E2EBFA;\n",
              "      box-shadow: 0px 1px 2px rgba(60, 64, 67, 0.3), 0px 1px 3px 1px rgba(60, 64, 67, 0.15);\n",
              "      fill: #174EA6;\n",
              "    }\n",
              "\n",
              "    [theme=dark] .colab-df-convert {\n",
              "      background-color: #3B4455;\n",
              "      fill: #D2E3FC;\n",
              "    }\n",
              "\n",
              "    [theme=dark] .colab-df-convert:hover {\n",
              "      background-color: #434B5C;\n",
              "      box-shadow: 0px 1px 3px 1px rgba(0, 0, 0, 0.15);\n",
              "      filter: drop-shadow(0px 1px 2px rgba(0, 0, 0, 0.3));\n",
              "      fill: #FFFFFF;\n",
              "    }\n",
              "  </style>\n",
              "\n",
              "      <script>\n",
              "        const buttonEl =\n",
              "          document.querySelector('#df-50c0b2f6-94d9-4a43-adb8-4f2735ab6107 button.colab-df-convert');\n",
              "        buttonEl.style.display =\n",
              "          google.colab.kernel.accessAllowed ? 'block' : 'none';\n",
              "\n",
              "        async function convertToInteractive(key) {\n",
              "          const element = document.querySelector('#df-50c0b2f6-94d9-4a43-adb8-4f2735ab6107');\n",
              "          const dataTable =\n",
              "            await google.colab.kernel.invokeFunction('convertToInteractive',\n",
              "                                                     [key], {});\n",
              "          if (!dataTable) return;\n",
              "\n",
              "          const docLinkHtml = 'Like what you see? Visit the ' +\n",
              "            '<a target=\"_blank\" href=https://colab.research.google.com/notebooks/data_table.ipynb>data table notebook</a>'\n",
              "            + ' to learn more about interactive tables.';\n",
              "          element.innerHTML = '';\n",
              "          dataTable['output_type'] = 'display_data';\n",
              "          await google.colab.output.renderOutput(dataTable, element);\n",
              "          const docLink = document.createElement('div');\n",
              "          docLink.innerHTML = docLinkHtml;\n",
              "          element.appendChild(docLink);\n",
              "        }\n",
              "      </script>\n",
              "    </div>\n",
              "  </div>\n",
              "  "
            ]
          },
          "metadata": {},
          "execution_count": 7
        }
      ],
      "source": [
        "#Let us check first 10 records of the dataset\n",
        "DataSet.head(10)"
      ]
    },
    {
      "cell_type": "markdown",
      "metadata": {
        "id": "IrRAWJWmxZHl"
      },
      "source": [
        "Data Pre-processing"
      ]
    },
    {
      "cell_type": "code",
      "execution_count": 8,
      "metadata": {
        "colab": {
          "base_uri": "https://localhost:8080/",
          "height": 300
        },
        "id": "-sAWEmyaVdEy",
        "outputId": "78a0d27d-2417-40dc-aa95-846c2f99ddd2"
      },
      "outputs": [
        {
          "output_type": "execute_result",
          "data": {
            "text/plain": [
              "                 id         label\n",
              "count  20800.000000  20800.000000\n",
              "mean   10399.500000      0.500625\n",
              "std     6004.587135      0.500012\n",
              "min        0.000000      0.000000\n",
              "25%     5199.750000      0.000000\n",
              "50%    10399.500000      1.000000\n",
              "75%    15599.250000      1.000000\n",
              "max    20799.000000      1.000000"
            ],
            "text/html": [
              "\n",
              "  <div id=\"df-aa6581d2-9430-4383-88ac-296a40fb71f4\">\n",
              "    <div class=\"colab-df-container\">\n",
              "      <div>\n",
              "<style scoped>\n",
              "    .dataframe tbody tr th:only-of-type {\n",
              "        vertical-align: middle;\n",
              "    }\n",
              "\n",
              "    .dataframe tbody tr th {\n",
              "        vertical-align: top;\n",
              "    }\n",
              "\n",
              "    .dataframe thead th {\n",
              "        text-align: right;\n",
              "    }\n",
              "</style>\n",
              "<table border=\"1\" class=\"dataframe\">\n",
              "  <thead>\n",
              "    <tr style=\"text-align: right;\">\n",
              "      <th></th>\n",
              "      <th>id</th>\n",
              "      <th>label</th>\n",
              "    </tr>\n",
              "  </thead>\n",
              "  <tbody>\n",
              "    <tr>\n",
              "      <th>count</th>\n",
              "      <td>20800.000000</td>\n",
              "      <td>20800.000000</td>\n",
              "    </tr>\n",
              "    <tr>\n",
              "      <th>mean</th>\n",
              "      <td>10399.500000</td>\n",
              "      <td>0.500625</td>\n",
              "    </tr>\n",
              "    <tr>\n",
              "      <th>std</th>\n",
              "      <td>6004.587135</td>\n",
              "      <td>0.500012</td>\n",
              "    </tr>\n",
              "    <tr>\n",
              "      <th>min</th>\n",
              "      <td>0.000000</td>\n",
              "      <td>0.000000</td>\n",
              "    </tr>\n",
              "    <tr>\n",
              "      <th>25%</th>\n",
              "      <td>5199.750000</td>\n",
              "      <td>0.000000</td>\n",
              "    </tr>\n",
              "    <tr>\n",
              "      <th>50%</th>\n",
              "      <td>10399.500000</td>\n",
              "      <td>1.000000</td>\n",
              "    </tr>\n",
              "    <tr>\n",
              "      <th>75%</th>\n",
              "      <td>15599.250000</td>\n",
              "      <td>1.000000</td>\n",
              "    </tr>\n",
              "    <tr>\n",
              "      <th>max</th>\n",
              "      <td>20799.000000</td>\n",
              "      <td>1.000000</td>\n",
              "    </tr>\n",
              "  </tbody>\n",
              "</table>\n",
              "</div>\n",
              "      <button class=\"colab-df-convert\" onclick=\"convertToInteractive('df-aa6581d2-9430-4383-88ac-296a40fb71f4')\"\n",
              "              title=\"Convert this dataframe to an interactive table.\"\n",
              "              style=\"display:none;\">\n",
              "        \n",
              "  <svg xmlns=\"http://www.w3.org/2000/svg\" height=\"24px\"viewBox=\"0 0 24 24\"\n",
              "       width=\"24px\">\n",
              "    <path d=\"M0 0h24v24H0V0z\" fill=\"none\"/>\n",
              "    <path d=\"M18.56 5.44l.94 2.06.94-2.06 2.06-.94-2.06-.94-.94-2.06-.94 2.06-2.06.94zm-11 1L8.5 8.5l.94-2.06 2.06-.94-2.06-.94L8.5 2.5l-.94 2.06-2.06.94zm10 10l.94 2.06.94-2.06 2.06-.94-2.06-.94-.94-2.06-.94 2.06-2.06.94z\"/><path d=\"M17.41 7.96l-1.37-1.37c-.4-.4-.92-.59-1.43-.59-.52 0-1.04.2-1.43.59L10.3 9.45l-7.72 7.72c-.78.78-.78 2.05 0 2.83L4 21.41c.39.39.9.59 1.41.59.51 0 1.02-.2 1.41-.59l7.78-7.78 2.81-2.81c.8-.78.8-2.07 0-2.86zM5.41 20L4 18.59l7.72-7.72 1.47 1.35L5.41 20z\"/>\n",
              "  </svg>\n",
              "      </button>\n",
              "      \n",
              "  <style>\n",
              "    .colab-df-container {\n",
              "      display:flex;\n",
              "      flex-wrap:wrap;\n",
              "      gap: 12px;\n",
              "    }\n",
              "\n",
              "    .colab-df-convert {\n",
              "      background-color: #E8F0FE;\n",
              "      border: none;\n",
              "      border-radius: 50%;\n",
              "      cursor: pointer;\n",
              "      display: none;\n",
              "      fill: #1967D2;\n",
              "      height: 32px;\n",
              "      padding: 0 0 0 0;\n",
              "      width: 32px;\n",
              "    }\n",
              "\n",
              "    .colab-df-convert:hover {\n",
              "      background-color: #E2EBFA;\n",
              "      box-shadow: 0px 1px 2px rgba(60, 64, 67, 0.3), 0px 1px 3px 1px rgba(60, 64, 67, 0.15);\n",
              "      fill: #174EA6;\n",
              "    }\n",
              "\n",
              "    [theme=dark] .colab-df-convert {\n",
              "      background-color: #3B4455;\n",
              "      fill: #D2E3FC;\n",
              "    }\n",
              "\n",
              "    [theme=dark] .colab-df-convert:hover {\n",
              "      background-color: #434B5C;\n",
              "      box-shadow: 0px 1px 3px 1px rgba(0, 0, 0, 0.15);\n",
              "      filter: drop-shadow(0px 1px 2px rgba(0, 0, 0, 0.3));\n",
              "      fill: #FFFFFF;\n",
              "    }\n",
              "  </style>\n",
              "\n",
              "      <script>\n",
              "        const buttonEl =\n",
              "          document.querySelector('#df-aa6581d2-9430-4383-88ac-296a40fb71f4 button.colab-df-convert');\n",
              "        buttonEl.style.display =\n",
              "          google.colab.kernel.accessAllowed ? 'block' : 'none';\n",
              "\n",
              "        async function convertToInteractive(key) {\n",
              "          const element = document.querySelector('#df-aa6581d2-9430-4383-88ac-296a40fb71f4');\n",
              "          const dataTable =\n",
              "            await google.colab.kernel.invokeFunction('convertToInteractive',\n",
              "                                                     [key], {});\n",
              "          if (!dataTable) return;\n",
              "\n",
              "          const docLinkHtml = 'Like what you see? Visit the ' +\n",
              "            '<a target=\"_blank\" href=https://colab.research.google.com/notebooks/data_table.ipynb>data table notebook</a>'\n",
              "            + ' to learn more about interactive tables.';\n",
              "          element.innerHTML = '';\n",
              "          dataTable['output_type'] = 'display_data';\n",
              "          await google.colab.output.renderOutput(dataTable, element);\n",
              "          const docLink = document.createElement('div');\n",
              "          docLink.innerHTML = docLinkHtml;\n",
              "          element.appendChild(docLink);\n",
              "        }\n",
              "      </script>\n",
              "    </div>\n",
              "  </div>\n",
              "  "
            ]
          },
          "metadata": {},
          "execution_count": 8
        }
      ],
      "source": [
        "#descriptive statistics\n",
        "DataSet.describe()"
      ]
    },
    {
      "cell_type": "code",
      "execution_count": 9,
      "metadata": {
        "colab": {
          "base_uri": "https://localhost:8080/"
        },
        "id": "BHqdcLp3v8Pj",
        "outputId": "6f157d4d-a230-4b43-8bff-6d5941d0dc56"
      },
      "outputs": [
        {
          "output_type": "execute_result",
          "data": {
            "text/plain": [
              "id           0\n",
              "title      558\n",
              "author    1957\n",
              "text        39\n",
              "label        0\n",
              "dtype: int64"
            ]
          },
          "metadata": {},
          "execution_count": 9
        }
      ],
      "source": [
        "#Now check the missing values\n",
        "DataSet.isnull().sum()"
      ]
    },
    {
      "cell_type": "code",
      "execution_count": 10,
      "metadata": {
        "id": "uzLJCw9OwA1w"
      },
      "outputs": [],
      "source": [
        "#Now let us replace the null values with empty string\n",
        "DataSet=DataSet.fillna('')"
      ]
    },
    {
      "cell_type": "code",
      "execution_count": 11,
      "metadata": {
        "colab": {
          "base_uri": "https://localhost:8080/"
        },
        "id": "u5rBtxtCwH0b",
        "outputId": "8eddb7bc-dd1e-40cb-a696-5e213c34fb0d"
      },
      "outputs": [
        {
          "output_type": "execute_result",
          "data": {
            "text/plain": [
              "id        0\n",
              "title     0\n",
              "author    0\n",
              "text      0\n",
              "label     0\n",
              "dtype: int64"
            ]
          },
          "metadata": {},
          "execution_count": 11
        }
      ],
      "source": [
        "#Now let us check null value again \n",
        "DataSet.isnull().sum()"
      ]
    },
    {
      "cell_type": "code",
      "execution_count": null,
      "metadata": {
        "id": "xHxfN5V4wO8s"
      },
      "outputs": [],
      "source": [
        ""
      ]
    },
    {
      "cell_type": "code",
      "execution_count": null,
      "metadata": {
        "id": "KqVdC0k2w9hH"
      },
      "outputs": [],
      "source": [
        ""
      ]
    },
    {
      "cell_type": "code",
      "execution_count": null,
      "metadata": {
        "id": "mGlEWiKfxBxg"
      },
      "outputs": [],
      "source": [
        ""
      ]
    },
    {
      "cell_type": "markdown",
      "metadata": {
        "id": "hxKWMAE6xrE_"
      },
      "source": [
        "Now Performing Stemming"
      ]
    },
    {
      "cell_type": "code",
      "execution_count": 12,
      "metadata": {
        "id": "-KdlL9aJxvCM"
      },
      "outputs": [],
      "source": [
        "port_stem = PorterStemmer()"
      ]
    },
    {
      "cell_type": "code",
      "execution_count": 13,
      "metadata": {
        "id": "nmvAy4MXxzyQ"
      },
      "outputs": [],
      "source": [
        "def stemming(content):\n",
        "    stemmed_content = re.sub('[^a-zA-Z]',' ',content)\n",
        "    stemmed_content = stemmed_content.lower()\n",
        "    stemmed_content = stemmed_content.split()\n",
        "    stemmed_content = [port_stem.stem(word) for word in stemmed_content if not word in stopwords.words('english')]\n",
        "    stemmed_content = ' '.join(stemmed_content)\n",
        "    return stemmed_content"
      ]
    },
    {
      "cell_type": "code",
      "execution_count": 14,
      "metadata": {
        "id": "xPvMmxA3x5ZT"
      },
      "outputs": [],
      "source": [
        "DataSet['title'] = DataSet['title'].apply(stemming)"
      ]
    },
    {
      "cell_type": "code",
      "execution_count": 15,
      "metadata": {
        "colab": {
          "base_uri": "https://localhost:8080/"
        },
        "id": "CSp4UsmhyEXw",
        "outputId": "8ac71dcf-e6d6-4004-9b9f-f188ed7f9880"
      },
      "outputs": [
        {
          "output_type": "stream",
          "name": "stdout",
          "text": [
            "0        hous dem aid even see comey letter jason chaff...\n",
            "1          flynn hillari clinton big woman campu breitbart\n",
            "2                                     truth might get fire\n",
            "3                 civilian kill singl us airstrik identifi\n",
            "4        iranian woman jail fiction unpublish stori wom...\n",
            "                               ...                        \n",
            "20795            rapper trump poster child white supremaci\n",
            "20796      n f l playoff schedul matchup odd new york time\n",
            "20797    maci said receiv takeov approach hudson bay ne...\n",
            "20798             nato russia hold parallel exercis balkan\n",
            "20799                                          keep f aliv\n",
            "Name: title, Length: 20800, dtype: object\n"
          ]
        }
      ],
      "source": [
        "print(DataSet['title'])"
      ]
    },
    {
      "cell_type": "code",
      "execution_count": 16,
      "metadata": {
        "id": "E5AYVMG1yU-6"
      },
      "outputs": [],
      "source": [
        "#separating the data and label\n",
        "X = DataSet['title'].values\n",
        "Y = DataSet['label'].values"
      ]
    },
    {
      "cell_type": "code",
      "execution_count": 17,
      "metadata": {
        "id": "LSgoc-NVyapX"
      },
      "outputs": [],
      "source": [
        "# converting the textual data to numerical data\n",
        "vectorizer = TfidfVectorizer()\n",
        "vectorizer.fit(X)\n",
        "\n",
        "X = vectorizer.transform(X)"
      ]
    },
    {
      "cell_type": "markdown",
      "metadata": {
        "id": "wvQy_Vsyym1N"
      },
      "source": [
        "Split the dataset in Train Test form"
      ]
    },
    {
      "cell_type": "code",
      "execution_count": 18,
      "metadata": {
        "id": "mNBDV70JyrRA"
      },
      "outputs": [],
      "source": [
        "X_train, X_test, Y_train, Y_test = train_test_split(X, Y, test_size = 0.3, stratify=Y, random_state=2)"
      ]
    },
    {
      "cell_type": "code",
      "execution_count": null,
      "metadata": {
        "id": "o88D9jyqywRJ"
      },
      "outputs": [],
      "source": [
        ""
      ]
    },
    {
      "cell_type": "markdown",
      "metadata": {
        "id": "8FZg3G8YzAfp"
      },
      "source": [
        "Appliying Algoes\n",
        "1. Logistic Regression"
      ]
    },
    {
      "cell_type": "code",
      "execution_count": 19,
      "metadata": {
        "id": "2pliMSnBzBuo"
      },
      "outputs": [],
      "source": [
        "LR = LogisticRegression()"
      ]
    },
    {
      "cell_type": "code",
      "execution_count": 20,
      "metadata": {
        "colab": {
          "base_uri": "https://localhost:8080/"
        },
        "id": "YSqhG4bkzIFQ",
        "outputId": "283a2b49-b2d3-47e4-b19d-b09b87548018"
      },
      "outputs": [
        {
          "output_type": "execute_result",
          "data": {
            "text/plain": [
              "LogisticRegression()"
            ]
          },
          "metadata": {},
          "execution_count": 20
        }
      ],
      "source": [
        "# Fit the model\n",
        "LR.fit(X_train, Y_train)"
      ]
    },
    {
      "cell_type": "code",
      "execution_count": 21,
      "metadata": {
        "id": "QpqhCxrMzQmC"
      },
      "outputs": [],
      "source": [
        "# accuracy score on the training data\n",
        "X_train_prediction = LR.predict(X_train)\n",
        "training_data_accuracy = accuracy_score(X_train_prediction, Y_train)"
      ]
    },
    {
      "cell_type": "code",
      "execution_count": 22,
      "metadata": {
        "colab": {
          "base_uri": "https://localhost:8080/"
        },
        "id": "IDE5xPfHy9aR",
        "outputId": "29d26e1d-6e8b-4eec-8af2-8b3888d333f0"
      },
      "outputs": [
        {
          "output_type": "stream",
          "name": "stdout",
          "text": [
            "Accuracy score of the training data :  0.9392857142857143\n"
          ]
        }
      ],
      "source": [
        "print('Accuracy score of the training data : ', training_data_accuracy)"
      ]
    },
    {
      "cell_type": "code",
      "execution_count": 23,
      "metadata": {
        "id": "Fv1HOexlzfK3"
      },
      "outputs": [],
      "source": [
        "# accuracy score on the test data\n",
        "X_test_prediction = LR.predict(X_test)\n",
        "test_data_accuracy = accuracy_score(X_test_prediction, Y_test)"
      ]
    },
    {
      "cell_type": "code",
      "execution_count": 24,
      "metadata": {
        "colab": {
          "base_uri": "https://localhost:8080/"
        },
        "id": "CrQjLrE7zk2n",
        "outputId": "85916984-2ad9-4705-adc6-58a9fe5ff652"
      },
      "outputs": [
        {
          "output_type": "stream",
          "name": "stdout",
          "text": [
            "Accuracy score of the test data :  0.9253205128205129\n"
          ]
        }
      ],
      "source": [
        "print('Accuracy score of the test data : ', test_data_accuracy)"
      ]
    },
    {
      "cell_type": "markdown",
      "metadata": {
        "id": "NC8JjonR0ABY"
      },
      "source": [
        "2. Decision Tree Classifier"
      ]
    },
    {
      "cell_type": "code",
      "execution_count": 25,
      "metadata": {
        "id": "kF3zSvZt0FPb"
      },
      "outputs": [],
      "source": [
        "from sklearn.tree import DecisionTreeClassifier"
      ]
    },
    {
      "cell_type": "code",
      "execution_count": 26,
      "metadata": {
        "colab": {
          "base_uri": "https://localhost:8080/"
        },
        "id": "KgsbOYuC0NCf",
        "outputId": "9dd78477-1a42-4489-ecab-dc2fb47df2be"
      },
      "outputs": [
        {
          "output_type": "execute_result",
          "data": {
            "text/plain": [
              "DecisionTreeClassifier()"
            ]
          },
          "metadata": {},
          "execution_count": 26
        }
      ],
      "source": [
        "DT = DecisionTreeClassifier()\n",
        "DT.fit(X_train, Y_train)"
      ]
    },
    {
      "cell_type": "code",
      "execution_count": 27,
      "metadata": {
        "id": "b8ED4_nV0i2W"
      },
      "outputs": [],
      "source": [
        "# accuracy score on the training data\n",
        "X_train_prediction = DT.predict(X_train)\n",
        "training_data_accuracy = accuracy_score(X_train_prediction, Y_train)"
      ]
    },
    {
      "cell_type": "code",
      "execution_count": 28,
      "metadata": {
        "colab": {
          "base_uri": "https://localhost:8080/"
        },
        "id": "Y1req0w62E5W",
        "outputId": "b8bc2a2c-276e-4b04-85c2-42cbb14ca233"
      },
      "outputs": [
        {
          "output_type": "stream",
          "name": "stdout",
          "text": [
            "Accuracy score of the training data :  1.0\n"
          ]
        }
      ],
      "source": [
        "print('Accuracy score of the training data : ', training_data_accuracy)"
      ]
    },
    {
      "cell_type": "code",
      "execution_count": 29,
      "metadata": {
        "id": "TXfFSGqv2Jh1"
      },
      "outputs": [],
      "source": [
        "# accuracy score on the test data\n",
        "X_test_prediction = DT.predict(X_test)\n",
        "test_data_accuracy = accuracy_score(X_test_prediction, Y_test)"
      ]
    },
    {
      "cell_type": "code",
      "execution_count": 30,
      "metadata": {
        "colab": {
          "base_uri": "https://localhost:8080/"
        },
        "id": "4UgVDT_n2QF3",
        "outputId": "d59da4a3-113f-4928-b704-4c8c0faec2bc"
      },
      "outputs": [
        {
          "output_type": "stream",
          "name": "stdout",
          "text": [
            "Accuracy score of the test data :  0.9166666666666666\n"
          ]
        }
      ],
      "source": [
        "print('Accuracy score of the test data : ', test_data_accuracy)"
      ]
    },
    {
      "cell_type": "markdown",
      "metadata": {
        "id": "m19HMTgs2lbt"
      },
      "source": [
        "3. Gradient Boosting Classifier"
      ]
    },
    {
      "cell_type": "code",
      "execution_count": 31,
      "metadata": {
        "id": "Edfx9g3H2T4O"
      },
      "outputs": [],
      "source": [
        "from sklearn.ensemble import GradientBoostingClassifier"
      ]
    },
    {
      "cell_type": "code",
      "execution_count": 32,
      "metadata": {
        "colab": {
          "base_uri": "https://localhost:8080/"
        },
        "id": "IqKGKk4M20bN",
        "outputId": "7ea92f68-7560-4efc-f6d7-5fd58a24c8df"
      },
      "outputs": [
        {
          "output_type": "execute_result",
          "data": {
            "text/plain": [
              "GradientBoostingClassifier()"
            ]
          },
          "metadata": {},
          "execution_count": 32
        }
      ],
      "source": [
        "GB = GradientBoostingClassifier()\n",
        "GB.fit(X_train, Y_train)"
      ]
    },
    {
      "cell_type": "code",
      "execution_count": 33,
      "metadata": {
        "id": "qAB8XgWv29NO"
      },
      "outputs": [],
      "source": [
        "# accuracy score on the training data\n",
        "X_train_prediction = GB.predict(X_train)\n",
        "training_data_accuracy = accuracy_score(X_train_prediction, Y_train)"
      ]
    },
    {
      "cell_type": "code",
      "execution_count": 34,
      "metadata": {
        "colab": {
          "base_uri": "https://localhost:8080/"
        },
        "id": "oKINIMwd3GAj",
        "outputId": "1c8a848a-dced-4881-f897-58ed080dc452"
      },
      "outputs": [
        {
          "output_type": "stream",
          "name": "stdout",
          "text": [
            "Accuracy score of the training data :  0.9245192307692308\n"
          ]
        }
      ],
      "source": [
        "print('Accuracy score of the training data : ', training_data_accuracy)"
      ]
    },
    {
      "cell_type": "code",
      "execution_count": 35,
      "metadata": {
        "id": "PQC2XGV23Jwx"
      },
      "outputs": [],
      "source": [
        "# accuracy score on the test data\n",
        "X_test_prediction = GB.predict(X_test)\n",
        "test_data_accuracy = accuracy_score(X_test_prediction, Y_test)"
      ]
    },
    {
      "cell_type": "code",
      "execution_count": 36,
      "metadata": {
        "colab": {
          "base_uri": "https://localhost:8080/"
        },
        "id": "1ninXnrN3PU7",
        "outputId": "91684d19-d7b5-44b0-8bd8-2e17973b64d5"
      },
      "outputs": [
        {
          "output_type": "stream",
          "name": "stdout",
          "text": [
            "Accuracy score of the test data :  0.9211538461538461\n"
          ]
        }
      ],
      "source": [
        "print('Accuracy score of the test data : ', test_data_accuracy)"
      ]
    },
    {
      "cell_type": "markdown",
      "metadata": {
        "id": "RyL_Hqd23Ygs"
      },
      "source": [
        "4. Random Forest Classifier"
      ]
    },
    {
      "cell_type": "code",
      "execution_count": 37,
      "metadata": {
        "id": "OkrG53C13dP3"
      },
      "outputs": [],
      "source": [
        "from sklearn.ensemble import RandomForestClassifier"
      ]
    },
    {
      "cell_type": "code",
      "execution_count": 38,
      "metadata": {
        "colab": {
          "base_uri": "https://localhost:8080/"
        },
        "id": "OIzmkrpa3k2k",
        "outputId": "d3eb8a9d-5986-4622-bde5-b795e961a1e7"
      },
      "outputs": [
        {
          "output_type": "execute_result",
          "data": {
            "text/plain": [
              "RandomForestClassifier()"
            ]
          },
          "metadata": {},
          "execution_count": 38
        }
      ],
      "source": [
        "RF = RandomForestClassifier()\n",
        "RF.fit(X_train, Y_train)"
      ]
    },
    {
      "cell_type": "code",
      "execution_count": 39,
      "metadata": {
        "id": "hnqOhWJZ3sPc"
      },
      "outputs": [],
      "source": [
        "# accuracy score on the training data\n",
        "X_train_prediction = RF.predict(X_train)\n",
        "training_data_accuracy = accuracy_score(X_train_prediction, Y_train)"
      ]
    },
    {
      "cell_type": "code",
      "execution_count": 40,
      "metadata": {
        "colab": {
          "base_uri": "https://localhost:8080/"
        },
        "id": "Eggf_p7030PB",
        "outputId": "6d0f124b-f139-45e2-c4d9-155228a9c643"
      },
      "outputs": [
        {
          "output_type": "stream",
          "name": "stdout",
          "text": [
            "Accuracy score of the training data :  1.0\n"
          ]
        }
      ],
      "source": [
        "print('Accuracy score of the training data : ', training_data_accuracy)"
      ]
    },
    {
      "cell_type": "code",
      "execution_count": 41,
      "metadata": {
        "id": "a0OPXWuE3_U2"
      },
      "outputs": [],
      "source": [
        "# accuracy score on the test data\n",
        "X_test_prediction = RF.predict(X_test)\n",
        "test_data_accuracy = accuracy_score(X_test_prediction, Y_test)"
      ]
    },
    {
      "cell_type": "code",
      "execution_count": 42,
      "metadata": {
        "colab": {
          "base_uri": "https://localhost:8080/"
        },
        "id": "bZ-YCmKG4FIK",
        "outputId": "d9055e6b-90b5-41e2-983d-6b646a1ffabc"
      },
      "outputs": [
        {
          "output_type": "stream",
          "name": "stdout",
          "text": [
            "Accuracy score of the test data :  0.9395833333333333\n"
          ]
        }
      ],
      "source": [
        "print('Accuracy score of the test data : ', test_data_accuracy)"
      ]
    },
    {
      "cell_type": "markdown",
      "metadata": {
        "id": "HPLlXEp54jM0"
      },
      "source": [
        "5. Naive Bayes Classifier"
      ]
    },
    {
      "cell_type": "code",
      "execution_count": 43,
      "metadata": {
        "id": "p8X8I2n34I6j"
      },
      "outputs": [],
      "source": [
        "from sklearn.naive_bayes import BernoulliNB"
      ]
    },
    {
      "cell_type": "code",
      "execution_count": 44,
      "metadata": {
        "colab": {
          "base_uri": "https://localhost:8080/"
        },
        "id": "6wa1xWKi4qrm",
        "outputId": "6bb541d2-a426-4acc-f422-4f9801df847a"
      },
      "outputs": [
        {
          "output_type": "execute_result",
          "data": {
            "text/plain": [
              "BernoulliNB()"
            ]
          },
          "metadata": {},
          "execution_count": 44
        }
      ],
      "source": [
        "NB = BernoulliNB()\n",
        "NB.fit(X_train, Y_train)"
      ]
    },
    {
      "cell_type": "code",
      "execution_count": 45,
      "metadata": {
        "id": "tm59d4bn4wEt"
      },
      "outputs": [],
      "source": [
        "# accuracy score on the training data\n",
        "X_train_prediction = NB.predict(X_train)\n",
        "training_data_accuracy = accuracy_score(X_train_prediction, Y_train)"
      ]
    },
    {
      "cell_type": "code",
      "execution_count": 46,
      "metadata": {
        "colab": {
          "base_uri": "https://localhost:8080/"
        },
        "id": "ckpYxkkG460_",
        "outputId": "58241d7e-fd18-48ae-9b2a-dc4238b31536"
      },
      "outputs": [
        {
          "output_type": "stream",
          "name": "stdout",
          "text": [
            "Accuracy score of the training data :  0.948489010989011\n"
          ]
        }
      ],
      "source": [
        "print('Accuracy score of the training data : ', training_data_accuracy)"
      ]
    },
    {
      "cell_type": "code",
      "execution_count": 47,
      "metadata": {
        "id": "57RxGVTe4-n1"
      },
      "outputs": [],
      "source": [
        "# accuracy score on the test data\n",
        "X_test_prediction = NB.predict(X_test)\n",
        "test_data_accuracy = accuracy_score(X_test_prediction, Y_test)"
      ]
    },
    {
      "cell_type": "code",
      "execution_count": 48,
      "metadata": {
        "colab": {
          "base_uri": "https://localhost:8080/"
        },
        "id": "mxfX_tOz5DsY",
        "outputId": "086083b3-f7c6-4f1c-8360-b7b4974d8c43"
      },
      "outputs": [
        {
          "output_type": "stream",
          "name": "stdout",
          "text": [
            "Accuracy score of the test data :  0.9254807692307693\n"
          ]
        }
      ],
      "source": [
        "print('Accuracy score of the test data : ', test_data_accuracy)"
      ]
    },
    {
      "cell_type": "markdown",
      "metadata": {
        "id": "GNCsilAP5eME"
      },
      "source": [
        "6. Support Vector Machine"
      ]
    },
    {
      "cell_type": "code",
      "execution_count": 49,
      "metadata": {
        "id": "8eBjUAHD5HNi"
      },
      "outputs": [],
      "source": [
        "from sklearn.svm import SVC"
      ]
    },
    {
      "cell_type": "code",
      "execution_count": 50,
      "metadata": {
        "colab": {
          "base_uri": "https://localhost:8080/"
        },
        "id": "Y7diulLF5heS",
        "outputId": "f76966c3-d698-48cf-ecce-e0c7035d3247"
      },
      "outputs": [
        {
          "output_type": "execute_result",
          "data": {
            "text/plain": [
              "SVC(kernel='linear')"
            ]
          },
          "metadata": {},
          "execution_count": 50
        }
      ],
      "source": [
        "SV = SVC(kernel='linear')\n",
        "SV.fit(X_train, Y_train)"
      ]
    },
    {
      "cell_type": "code",
      "execution_count": 51,
      "metadata": {
        "id": "Sre_9v3M5rVV"
      },
      "outputs": [],
      "source": [
        "# accuracy score on the training data\n",
        "X_train_prediction = SV.predict(X_train)\n",
        "training_data_accuracy = accuracy_score(X_train_prediction, Y_train)"
      ]
    },
    {
      "cell_type": "code",
      "execution_count": 52,
      "metadata": {
        "colab": {
          "base_uri": "https://localhost:8080/"
        },
        "id": "XXc8T4fp5v9v",
        "outputId": "0d0f5f9a-89d8-4fb1-ef1e-b466fff35d15"
      },
      "outputs": [
        {
          "output_type": "stream",
          "name": "stdout",
          "text": [
            "Accuracy score of the training data :  0.9666895604395604\n"
          ]
        }
      ],
      "source": [
        "print('Accuracy score of the training data : ', training_data_accuracy)"
      ]
    },
    {
      "cell_type": "code",
      "execution_count": 53,
      "metadata": {
        "id": "yOELmyq65zWx"
      },
      "outputs": [],
      "source": [
        "# accuracy score on the test data\n",
        "X_test_prediction = SV.predict(X_test)\n",
        "test_data_accuracy = accuracy_score(X_test_prediction, Y_test)"
      ]
    },
    {
      "cell_type": "code",
      "execution_count": 54,
      "metadata": {
        "colab": {
          "base_uri": "https://localhost:8080/"
        },
        "id": "TqMRnzfH549r",
        "outputId": "991a9557-9fa0-4776-e206-b84dfc8b0426"
      },
      "outputs": [
        {
          "output_type": "stream",
          "name": "stdout",
          "text": [
            "Accuracy score of the test data :  0.9370192307692308\n"
          ]
        }
      ],
      "source": [
        "print('Accuracy score of the test data : ', test_data_accuracy)"
      ]
    },
    {
      "cell_type": "markdown",
      "metadata": {
        "id": "vNdkURBq6NhC"
      },
      "source": [
        "7. K-Nearest Neighbour"
      ]
    },
    {
      "cell_type": "code",
      "execution_count": 55,
      "metadata": {
        "id": "e-d_IwJQ58eq"
      },
      "outputs": [],
      "source": [
        "from sklearn.neighbors import KNeighborsClassifier"
      ]
    },
    {
      "cell_type": "code",
      "execution_count": 56,
      "metadata": {
        "colab": {
          "base_uri": "https://localhost:8080/"
        },
        "id": "p6c8MBzv6XaZ",
        "outputId": "ff60160e-f8be-4ead-dc15-c0e2a6887005"
      },
      "outputs": [
        {
          "output_type": "execute_result",
          "data": {
            "text/plain": [
              "KNeighborsClassifier(n_neighbors=2)"
            ]
          },
          "metadata": {},
          "execution_count": 56
        }
      ],
      "source": [
        "KN = KNeighborsClassifier(n_neighbors=2)\n",
        "KN.fit(X_train, Y_train)"
      ]
    },
    {
      "cell_type": "code",
      "execution_count": 57,
      "metadata": {
        "id": "wd3fqUlZ6fIY"
      },
      "outputs": [],
      "source": [
        "# accuracy score on the training data\n",
        "X_train_prediction = KN.predict(X_train)\n",
        "training_data_accuracy = accuracy_score(X_train_prediction, Y_train)"
      ]
    },
    {
      "cell_type": "code",
      "execution_count": 58,
      "metadata": {
        "colab": {
          "base_uri": "https://localhost:8080/"
        },
        "id": "XW6w0h576muw",
        "outputId": "f0d348e2-4d24-481d-e4ca-2e2d7412b638"
      },
      "outputs": [
        {
          "output_type": "stream",
          "name": "stdout",
          "text": [
            "Accuracy score of the training data :  0.9951923076923077\n"
          ]
        }
      ],
      "source": [
        "print('Accuracy score of the training data : ', training_data_accuracy)"
      ]
    },
    {
      "cell_type": "code",
      "execution_count": 59,
      "metadata": {
        "id": "OFNNa9dQ6qH_"
      },
      "outputs": [],
      "source": [
        "# accuracy score on the test data\n",
        "X_test_prediction = KN.predict(X_test)\n",
        "test_data_accuracy = accuracy_score(X_test_prediction, Y_test)"
      ]
    },
    {
      "cell_type": "code",
      "execution_count": 60,
      "metadata": {
        "colab": {
          "base_uri": "https://localhost:8080/"
        },
        "id": "F-oEaDEG6v_Z",
        "outputId": "7eabc17c-8126-4560-e4be-b2ee0ad19592"
      },
      "outputs": [
        {
          "output_type": "stream",
          "name": "stdout",
          "text": [
            "Accuracy score of the test data :  0.5543269230769231\n"
          ]
        }
      ],
      "source": [
        "print('Accuracy score of the test data : ', test_data_accuracy)"
      ]
    },
    {
      "cell_type": "markdown",
      "metadata": {
        "id": "0-r6HuVe7Pru"
      },
      "source": [
        "8. XG-Boosting Classifier"
      ]
    },
    {
      "cell_type": "code",
      "execution_count": 61,
      "metadata": {
        "colab": {
          "base_uri": "https://localhost:8080/"
        },
        "id": "gMc8c7bv6yro",
        "outputId": "55f62dfb-843a-4492-fced-7dbe100ecdf4"
      },
      "outputs": [
        {
          "output_type": "execute_result",
          "data": {
            "text/plain": [
              "XGBClassifier()"
            ]
          },
          "metadata": {},
          "execution_count": 61
        }
      ],
      "source": [
        "# Fitting XGBoost to the training data\n",
        "import xgboost as xgb\n",
        "XGB = xgb.XGBClassifier()\n",
        "XGB.fit(X_train, Y_train)\n",
        "   "
      ]
    },
    {
      "cell_type": "code",
      "execution_count": 62,
      "metadata": {
        "id": "ArVBIBJtBBTN"
      },
      "outputs": [],
      "source": [
        "# accuracy score on the training data\n",
        "X_train_prediction = XGB.predict(X_train)\n",
        "training_data_accuracy = accuracy_score(X_train_prediction, Y_train)"
      ]
    },
    {
      "cell_type": "code",
      "execution_count": 63,
      "metadata": {
        "colab": {
          "base_uri": "https://localhost:8080/"
        },
        "id": "mdCNzW_qBaCv",
        "outputId": "b10513c2-8a31-4975-fa9e-c58b00eb0ecd"
      },
      "outputs": [
        {
          "output_type": "stream",
          "name": "stdout",
          "text": [
            "Accuracy score of the training data :  0.9195741758241758\n"
          ]
        }
      ],
      "source": [
        "print('Accuracy score of the training data : ', training_data_accuracy)"
      ]
    },
    {
      "cell_type": "code",
      "execution_count": 64,
      "metadata": {
        "id": "YBEWLOOMBkTL"
      },
      "outputs": [],
      "source": [
        "# accuracy score on the test data\n",
        "X_test_prediction = XGB.predict(X_test)\n",
        "test_data_accuracy = accuracy_score(X_test_prediction, Y_test)"
      ]
    },
    {
      "cell_type": "code",
      "execution_count": 65,
      "metadata": {
        "colab": {
          "base_uri": "https://localhost:8080/"
        },
        "id": "E8JeqGCuBuQm",
        "outputId": "8c5b11d7-4333-413d-e722-3fc9a545c0f9"
      },
      "outputs": [
        {
          "output_type": "stream",
          "name": "stdout",
          "text": [
            "Accuracy score of the test data :  0.9177884615384615\n"
          ]
        }
      ],
      "source": [
        "print('Accuracy score of the test data : ', test_data_accuracy)"
      ]
    },
    {
      "cell_type": "code",
      "execution_count": null,
      "metadata": {
        "id": "_1fzMzAlFHb9"
      },
      "outputs": [],
      "source": [
        ""
      ]
    },
    {
      "cell_type": "markdown",
      "metadata": {
        "id": "2KtFujIaFJO5"
      },
      "source": [
        "Now Comparing The Algoes In Other Parameters"
      ]
    },
    {
      "cell_type": "code",
      "execution_count": 66,
      "metadata": {
        "id": "H6izbKnTFYoO"
      },
      "outputs": [],
      "source": [
        "# Define a function to compute Precision, Recall and F1 score\n",
        "\n",
        "from sklearn.metrics import confusion_matrix\n",
        "\n",
        "def get_pre_rec_f1(model_name, model,x_test,y_test):\n",
        "    y_pred = model.predict(x_test)\n",
        "    tn, fp, fn, tp = confusion_matrix(y_test, y_pred).ravel()\n",
        "    \n",
        "    precision = tp / (tp + fp)\n",
        "    recall = tp / (tp + fn)\n",
        "    F1 = 2 * (precision * recall) / (precision + recall)\n",
        "    \n",
        "    return [model_name, precision, recall, F1]\n"
      ]
    },
    {
      "cell_type": "code",
      "execution_count": 67,
      "metadata": {
        "colab": {
          "base_uri": "https://localhost:8080/",
          "height": 300
        },
        "id": "eW0xH6XAFdC6",
        "outputId": "88d730ea-cb01-4a36-fe76-a98faed91235"
      },
      "outputs": [
        {
          "output_type": "execute_result",
          "data": {
            "text/plain": [
              "                           Model  Precision    Recall        F1\n",
              "0            Logistic Regression   0.878417  0.987516  0.929777\n",
              "1        Decision Tree Classifer   0.904851  0.931498  0.917981\n",
              "2   Gradient Boosting Classifier   0.867803  0.993918  0.926589\n",
              "3       Random Forest Classifier   0.902668  0.985595  0.942311\n",
              "4         Naive Bayes Classifier   0.900814  0.956466  0.927806\n",
              "5         Support Vector Machine   0.899854  0.983675  0.939899\n",
              "6            K-Nearest Neighbour   0.529382  0.989117  0.689655\n",
              "7         XG Boosting Classifier   0.862337  0.994558  0.923740"
            ],
            "text/html": [
              "\n",
              "  <div id=\"df-7ee027ac-115f-491e-9deb-17c5ea8778f1\">\n",
              "    <div class=\"colab-df-container\">\n",
              "      <div>\n",
              "<style scoped>\n",
              "    .dataframe tbody tr th:only-of-type {\n",
              "        vertical-align: middle;\n",
              "    }\n",
              "\n",
              "    .dataframe tbody tr th {\n",
              "        vertical-align: top;\n",
              "    }\n",
              "\n",
              "    .dataframe thead th {\n",
              "        text-align: right;\n",
              "    }\n",
              "</style>\n",
              "<table border=\"1\" class=\"dataframe\">\n",
              "  <thead>\n",
              "    <tr style=\"text-align: right;\">\n",
              "      <th></th>\n",
              "      <th>Model</th>\n",
              "      <th>Precision</th>\n",
              "      <th>Recall</th>\n",
              "      <th>F1</th>\n",
              "    </tr>\n",
              "  </thead>\n",
              "  <tbody>\n",
              "    <tr>\n",
              "      <th>0</th>\n",
              "      <td>Logistic Regression</td>\n",
              "      <td>0.878417</td>\n",
              "      <td>0.987516</td>\n",
              "      <td>0.929777</td>\n",
              "    </tr>\n",
              "    <tr>\n",
              "      <th>1</th>\n",
              "      <td>Decision Tree Classifer</td>\n",
              "      <td>0.904851</td>\n",
              "      <td>0.931498</td>\n",
              "      <td>0.917981</td>\n",
              "    </tr>\n",
              "    <tr>\n",
              "      <th>2</th>\n",
              "      <td>Gradient Boosting Classifier</td>\n",
              "      <td>0.867803</td>\n",
              "      <td>0.993918</td>\n",
              "      <td>0.926589</td>\n",
              "    </tr>\n",
              "    <tr>\n",
              "      <th>3</th>\n",
              "      <td>Random Forest Classifier</td>\n",
              "      <td>0.902668</td>\n",
              "      <td>0.985595</td>\n",
              "      <td>0.942311</td>\n",
              "    </tr>\n",
              "    <tr>\n",
              "      <th>4</th>\n",
              "      <td>Naive Bayes Classifier</td>\n",
              "      <td>0.900814</td>\n",
              "      <td>0.956466</td>\n",
              "      <td>0.927806</td>\n",
              "    </tr>\n",
              "    <tr>\n",
              "      <th>5</th>\n",
              "      <td>Support Vector Machine</td>\n",
              "      <td>0.899854</td>\n",
              "      <td>0.983675</td>\n",
              "      <td>0.939899</td>\n",
              "    </tr>\n",
              "    <tr>\n",
              "      <th>6</th>\n",
              "      <td>K-Nearest Neighbour</td>\n",
              "      <td>0.529382</td>\n",
              "      <td>0.989117</td>\n",
              "      <td>0.689655</td>\n",
              "    </tr>\n",
              "    <tr>\n",
              "      <th>7</th>\n",
              "      <td>XG Boosting Classifier</td>\n",
              "      <td>0.862337</td>\n",
              "      <td>0.994558</td>\n",
              "      <td>0.923740</td>\n",
              "    </tr>\n",
              "  </tbody>\n",
              "</table>\n",
              "</div>\n",
              "      <button class=\"colab-df-convert\" onclick=\"convertToInteractive('df-7ee027ac-115f-491e-9deb-17c5ea8778f1')\"\n",
              "              title=\"Convert this dataframe to an interactive table.\"\n",
              "              style=\"display:none;\">\n",
              "        \n",
              "  <svg xmlns=\"http://www.w3.org/2000/svg\" height=\"24px\"viewBox=\"0 0 24 24\"\n",
              "       width=\"24px\">\n",
              "    <path d=\"M0 0h24v24H0V0z\" fill=\"none\"/>\n",
              "    <path d=\"M18.56 5.44l.94 2.06.94-2.06 2.06-.94-2.06-.94-.94-2.06-.94 2.06-2.06.94zm-11 1L8.5 8.5l.94-2.06 2.06-.94-2.06-.94L8.5 2.5l-.94 2.06-2.06.94zm10 10l.94 2.06.94-2.06 2.06-.94-2.06-.94-.94-2.06-.94 2.06-2.06.94z\"/><path d=\"M17.41 7.96l-1.37-1.37c-.4-.4-.92-.59-1.43-.59-.52 0-1.04.2-1.43.59L10.3 9.45l-7.72 7.72c-.78.78-.78 2.05 0 2.83L4 21.41c.39.39.9.59 1.41.59.51 0 1.02-.2 1.41-.59l7.78-7.78 2.81-2.81c.8-.78.8-2.07 0-2.86zM5.41 20L4 18.59l7.72-7.72 1.47 1.35L5.41 20z\"/>\n",
              "  </svg>\n",
              "      </button>\n",
              "      \n",
              "  <style>\n",
              "    .colab-df-container {\n",
              "      display:flex;\n",
              "      flex-wrap:wrap;\n",
              "      gap: 12px;\n",
              "    }\n",
              "\n",
              "    .colab-df-convert {\n",
              "      background-color: #E8F0FE;\n",
              "      border: none;\n",
              "      border-radius: 50%;\n",
              "      cursor: pointer;\n",
              "      display: none;\n",
              "      fill: #1967D2;\n",
              "      height: 32px;\n",
              "      padding: 0 0 0 0;\n",
              "      width: 32px;\n",
              "    }\n",
              "\n",
              "    .colab-df-convert:hover {\n",
              "      background-color: #E2EBFA;\n",
              "      box-shadow: 0px 1px 2px rgba(60, 64, 67, 0.3), 0px 1px 3px 1px rgba(60, 64, 67, 0.15);\n",
              "      fill: #174EA6;\n",
              "    }\n",
              "\n",
              "    [theme=dark] .colab-df-convert {\n",
              "      background-color: #3B4455;\n",
              "      fill: #D2E3FC;\n",
              "    }\n",
              "\n",
              "    [theme=dark] .colab-df-convert:hover {\n",
              "      background-color: #434B5C;\n",
              "      box-shadow: 0px 1px 3px 1px rgba(0, 0, 0, 0.15);\n",
              "      filter: drop-shadow(0px 1px 2px rgba(0, 0, 0, 0.3));\n",
              "      fill: #FFFFFF;\n",
              "    }\n",
              "  </style>\n",
              "\n",
              "      <script>\n",
              "        const buttonEl =\n",
              "          document.querySelector('#df-7ee027ac-115f-491e-9deb-17c5ea8778f1 button.colab-df-convert');\n",
              "        buttonEl.style.display =\n",
              "          google.colab.kernel.accessAllowed ? 'block' : 'none';\n",
              "\n",
              "        async function convertToInteractive(key) {\n",
              "          const element = document.querySelector('#df-7ee027ac-115f-491e-9deb-17c5ea8778f1');\n",
              "          const dataTable =\n",
              "            await google.colab.kernel.invokeFunction('convertToInteractive',\n",
              "                                                     [key], {});\n",
              "          if (!dataTable) return;\n",
              "\n",
              "          const docLinkHtml = 'Like what you see? Visit the ' +\n",
              "            '<a target=\"_blank\" href=https://colab.research.google.com/notebooks/data_table.ipynb>data table notebook</a>'\n",
              "            + ' to learn more about interactive tables.';\n",
              "          element.innerHTML = '';\n",
              "          dataTable['output_type'] = 'display_data';\n",
              "          await google.colab.output.renderOutput(dataTable, element);\n",
              "          const docLink = document.createElement('div');\n",
              "          docLink.innerHTML = docLinkHtml;\n",
              "          element.appendChild(docLink);\n",
              "        }\n",
              "      </script>\n",
              "    </div>\n",
              "  </div>\n",
              "  "
            ]
          },
          "metadata": {},
          "execution_count": 67
        }
      ],
      "source": [
        "   # Logistic Regression model performance on validation data:\n",
        "col_1 = get_pre_rec_f1(\"Logistic Regression\", LR, X_test, Y_test)\n",
        "\n",
        "# Decision Tree Classifer model performance on validation data:\n",
        "col_2 = get_pre_rec_f1(\"Decision Tree Classifer\", DT, X_test, Y_test)\n",
        "\n",
        "# Gradient Boosting Classifier model performance on validation data:\n",
        "col_3 = get_pre_rec_f1(\" Gradient Boosting Classifier\",GB, X_test, Y_test)\n",
        "\n",
        "\n",
        "\n",
        "# Random Forest Classifier model performance on validation data:\n",
        "col_4 = get_pre_rec_f1(\"Random Forest Classifier\",RF, X_test, Y_test)\n",
        "\n",
        "# Naive Bayes Classifier model performance on validation data:\n",
        "col_5 = get_pre_rec_f1(\"Naive Bayes Classifier\",NB, X_test, Y_test)\n",
        "\n",
        "# Support Vector Machine model performance on validation data:\n",
        "col_6 = get_pre_rec_f1(\"Support Vector Machine\",SV, X_test, Y_test)\n",
        "\n",
        "# K-Nearest Neighbour model performance on validation data:\n",
        "col_7 = get_pre_rec_f1(\"K-Nearest Neighbour\",KN, X_test, Y_test)\n",
        "\n",
        "# XG Boosting Classifier model performance on validation data:\n",
        "col_8 = get_pre_rec_f1(\"XG Boosting Classifier\",XGB, X_test, Y_test)\n",
        "\n",
        "result = []\n",
        "result.append(col_1)\n",
        "result.append(col_2)\n",
        "result.append(col_3)\n",
        "result.append(col_4)\n",
        "result.append(col_5)\n",
        "result.append(col_6)\n",
        "result.append(col_7)\n",
        "result.append(col_8)\n",
        "\n",
        "\n",
        "pd.DataFrame(result, columns = [\"Model\", \"Precision\", \"Recall\", \"F1\"]) \n",
        "    \n"
      ]
    },
    {
      "cell_type": "code",
      "source": [
        "import matplotlib.pyplot as plt\n"
      ],
      "metadata": {
        "id": "vlCdCH0LSyy1"
      },
      "execution_count": 68,
      "outputs": []
    },
    {
      "cell_type": "code",
      "execution_count": 69,
      "metadata": {
        "id": "8el47qKfOvkI",
        "colab": {
          "base_uri": "https://localhost:8080/",
          "height": 665
        },
        "outputId": "e6888434-ca24-4a0a-cd6e-a85ad65e1f00"
      },
      "outputs": [
        {
          "output_type": "stream",
          "name": "stderr",
          "text": [
            "/usr/local/lib/python3.7/dist-packages/sklearn/utils/deprecation.py:87: FutureWarning: Function plot_roc_curve is deprecated; Function :func:`plot_roc_curve` is deprecated in 1.0 and will be removed in 1.2. Use one of the class methods: :meth:`sklearn.metric.RocCurveDisplay.from_predictions` or :meth:`sklearn.metric.RocCurveDisplay.from_estimator`.\n",
            "  warnings.warn(msg, category=FutureWarning)\n",
            "/usr/local/lib/python3.7/dist-packages/sklearn/utils/deprecation.py:87: FutureWarning: Function plot_roc_curve is deprecated; Function :func:`plot_roc_curve` is deprecated in 1.0 and will be removed in 1.2. Use one of the class methods: :meth:`sklearn.metric.RocCurveDisplay.from_predictions` or :meth:`sklearn.metric.RocCurveDisplay.from_estimator`.\n",
            "  warnings.warn(msg, category=FutureWarning)\n",
            "/usr/local/lib/python3.7/dist-packages/sklearn/utils/deprecation.py:87: FutureWarning: Function plot_roc_curve is deprecated; Function :func:`plot_roc_curve` is deprecated in 1.0 and will be removed in 1.2. Use one of the class methods: :meth:`sklearn.metric.RocCurveDisplay.from_predictions` or :meth:`sklearn.metric.RocCurveDisplay.from_estimator`.\n",
            "  warnings.warn(msg, category=FutureWarning)\n",
            "/usr/local/lib/python3.7/dist-packages/sklearn/utils/deprecation.py:87: FutureWarning: Function plot_roc_curve is deprecated; Function :func:`plot_roc_curve` is deprecated in 1.0 and will be removed in 1.2. Use one of the class methods: :meth:`sklearn.metric.RocCurveDisplay.from_predictions` or :meth:`sklearn.metric.RocCurveDisplay.from_estimator`.\n",
            "  warnings.warn(msg, category=FutureWarning)\n",
            "/usr/local/lib/python3.7/dist-packages/sklearn/utils/deprecation.py:87: FutureWarning: Function plot_roc_curve is deprecated; Function :func:`plot_roc_curve` is deprecated in 1.0 and will be removed in 1.2. Use one of the class methods: :meth:`sklearn.metric.RocCurveDisplay.from_predictions` or :meth:`sklearn.metric.RocCurveDisplay.from_estimator`.\n",
            "  warnings.warn(msg, category=FutureWarning)\n",
            "/usr/local/lib/python3.7/dist-packages/sklearn/utils/deprecation.py:87: FutureWarning: Function plot_roc_curve is deprecated; Function :func:`plot_roc_curve` is deprecated in 1.0 and will be removed in 1.2. Use one of the class methods: :meth:`sklearn.metric.RocCurveDisplay.from_predictions` or :meth:`sklearn.metric.RocCurveDisplay.from_estimator`.\n",
            "  warnings.warn(msg, category=FutureWarning)\n",
            "/usr/local/lib/python3.7/dist-packages/sklearn/utils/deprecation.py:87: FutureWarning: Function plot_roc_curve is deprecated; Function :func:`plot_roc_curve` is deprecated in 1.0 and will be removed in 1.2. Use one of the class methods: :meth:`sklearn.metric.RocCurveDisplay.from_predictions` or :meth:`sklearn.metric.RocCurveDisplay.from_estimator`.\n",
            "  warnings.warn(msg, category=FutureWarning)\n",
            "/usr/local/lib/python3.7/dist-packages/sklearn/utils/deprecation.py:87: FutureWarning: Function plot_roc_curve is deprecated; Function :func:`plot_roc_curve` is deprecated in 1.0 and will be removed in 1.2. Use one of the class methods: :meth:`sklearn.metric.RocCurveDisplay.from_predictions` or :meth:`sklearn.metric.RocCurveDisplay.from_estimator`.\n",
            "  warnings.warn(msg, category=FutureWarning)\n"
          ]
        },
        {
          "output_type": "execute_result",
          "data": {
            "text/plain": [
              "Text(0.5, 1.0, 'ROC/AUC of 8 ML models')"
            ]
          },
          "metadata": {},
          "execution_count": 69
        },
        {
          "output_type": "display_data",
          "data": {
            "text/plain": [
              "<Figure size 720x360 with 1 Axes>"
            ],
            "image/png": "[encoded data removed]"
          },
          "metadata": {
            "needs_background": "light"
          }
        }
      ],
      "source": [
        "# Plot ROC_AUC curve of 8 ML models\n",
        "\n",
        "from sklearn.metrics import roc_auc_score\n",
        "from sklearn.metrics import plot_roc_curve\n",
        "\n",
        "fig,ax=plt.subplots(figsize=(10,5))\n",
        "\n",
        "plot_roc_curve(LR, X_test, Y_test,ax=ax, color=\"blue\",label='Logitic Regression')\n",
        "plot_roc_curve(DT, X_test, Y_test,ax=ax, color=\"black\",label='Decision Tree Classifier')\n",
        "plot_roc_curve(GB, X_test, Y_test,ax=ax, color=\"red\",label='Gradient Boosting Classifier')\n",
        "plot_roc_curve(RF, X_test, Y_test,ax=ax, color=\"green\",label='Random Forest Classifier')\n",
        "plot_roc_curve(NB, X_test, Y_test,ax=ax, color=\"pink\",label='Naive Bayes Classifier')\n",
        "plot_roc_curve(SV, X_test, Y_test,ax=ax, color=\"yellow\",label='Support Vector Machine')\n",
        "plot_roc_curve(KN, X_test, Y_test,ax=ax, color=\"purple\",label='K Neighbour Classifier')\n",
        "plot_roc_curve(XGB, X_test, Y_test,ax=ax, color=\"purple\",label='XG Boosting Classifier')\n",
        "plt.title('ROC/AUC of 8 ML models')\n"
      ]
    },
    {
      "cell_type": "code",
      "source": [
        ""
      ],
      "metadata": {
        "id": "yO0rz5GQE_iI"
      },
      "execution_count": null,
      "outputs": []
    },
    {
      "cell_type": "markdown",
      "source": [
        "Now Performming Deep Learning Algoes"
      ],
      "metadata": {
        "id": "xkVh-oBDN42x"
      }
    },
    {
      "cell_type": "code",
      "source": [
        ""
      ],
      "metadata": {
        "id": "_m7-uuj_N_eN"
      },
      "execution_count": null,
      "outputs": []
    },
    {
      "cell_type": "markdown",
      "source": [
        "Some Preprocessing for DL"
      ],
      "metadata": {
        "id": "HNCTs6XFOBt7"
      }
    },
    {
      "cell_type": "code",
      "source": [
        "Y = DataSet['label'].values"
      ],
      "metadata": {
        "id": "OgMuJjtQOF4h"
      },
      "execution_count": 70,
      "outputs": []
    },
    {
      "cell_type": "code",
      "source": [
        "import gensim\n",
        "#it is a python library which is used for represent "
      ],
      "metadata": {
        "id": "DDXW9G1-OWTH"
      },
      "execution_count": 71,
      "outputs": []
    },
    {
      "cell_type": "code",
      "source": [
        "X=[d.split() for d in DataSet['title'].tolist()]"
      ],
      "metadata": {
        "id": "vjJsVxCoOZ3_"
      },
      "execution_count": 72,
      "outputs": []
    },
    {
      "cell_type": "code",
      "source": [
        "print(X[0])"
      ],
      "metadata": {
        "colab": {
          "base_uri": "https://localhost:8080/"
        },
        "id": "em9rAjmcOdk4",
        "outputId": "c283061a-1a38-49a0-c5ab-bf12fb5de6d3"
      },
      "execution_count": 73,
      "outputs": [
        {
          "output_type": "stream",
          "name": "stdout",
          "text": [
            "['hous', 'dem', 'aid', 'even', 'see', 'comey', 'letter', 'jason', 'chaffetz', 'tweet']\n"
          ]
        }
      ]
    },
    {
      "cell_type": "code",
      "source": [
        "# Build w2c model\n",
        "DIM=100\n",
        "w2v_model=gensim.models.Word2Vec(sentences=X,size=DIM,window=10,min_count=1)"
      ],
      "metadata": {
        "id": "Jq3bZX3NOj38"
      },
      "execution_count": 74,
      "outputs": []
    },
    {
      "cell_type": "code",
      "source": [
        "len(w2v_model.wv.vocab)"
      ],
      "metadata": {
        "colab": {
          "base_uri": "https://localhost:8080/"
        },
        "id": "-2TX2OUsOq4_",
        "outputId": "330de362-82d2-4ce2-90cc-c05325faebe8"
      },
      "execution_count": 75,
      "outputs": [
        {
          "output_type": "execute_result",
          "data": {
            "text/plain": [
              "14881"
            ]
          },
          "metadata": {},
          "execution_count": 75
        }
      ]
    },
    {
      "cell_type": "code",
      "source": [
        "# for Tokenization\n",
        "from tensorflow.keras.preprocessing.text import Tokenizer"
      ],
      "metadata": {
        "id": "rlT1mgP7O2J7"
      },
      "execution_count": 76,
      "outputs": []
    },
    {
      "cell_type": "code",
      "source": [
        "#convert into tokens\n",
        "tokenizer=Tokenizer()\n",
        "tokenizer.fit_on_texts(X)"
      ],
      "metadata": {
        "id": "vufsyRhHOuH4"
      },
      "execution_count": 77,
      "outputs": []
    },
    {
      "cell_type": "code",
      "source": [
        "X=tokenizer.texts_to_sequences(X)"
      ],
      "metadata": {
        "id": "nUzSBVwYPNPo"
      },
      "execution_count": 78,
      "outputs": []
    },
    {
      "cell_type": "code",
      "source": [
        "tokenizer.word_index"
      ],
      "metadata": {
        "colab": {
          "base_uri": "https://localhost:8080/"
        },
        "id": "WQ7neeVfPRdJ",
        "outputId": "4e0f8cc5-e267-4aff-9610-3d1b9ea95af0"
      },
      "execution_count": null,
      "outputs": [
        {
          "output_type": "execute_result",
          "data": {
            "text/plain": [
              "{'new': 1,\n",
              " 'time': 2,\n",
              " 'york': 3,\n",
              " 'trump': 4,\n",
              " 'breitbart': 5,\n",
              " 'clinton': 6,\n",
              " 'hillari': 7,\n",
              " 'donald': 8,\n",
              " 'elect': 9,\n",
              " 'u': 10,\n",
              " 'say': 11,\n",
              " 'obama': 12,\n",
              " 'news': 13,\n",
              " 'russia': 14,\n",
              " 'us': 15,\n",
              " 'video': 16,\n",
              " 'presid': 17,\n",
              " 'war': 18,\n",
              " 'state': 19,\n",
              " 'vote': 20,\n",
              " 'america': 21,\n",
              " 'report': 22,\n",
              " 'american': 23,\n",
              " 'world': 24,\n",
              " 'day': 25,\n",
              " 'year': 26,\n",
              " 'attack': 27,\n",
              " 'fbi': 28,\n",
              " 'email': 29,\n",
              " 'comment': 30,\n",
              " 'call': 31,\n",
              " 'hous': 32,\n",
              " 'get': 33,\n",
              " 'kill': 34,\n",
              " 'white': 35,\n",
              " 'media': 36,\n",
              " 'polic': 37,\n",
              " 'campaign': 38,\n",
              " 'plan': 39,\n",
              " 'support': 40,\n",
              " 'protest': 41,\n",
              " 'democrat': 42,\n",
              " 'russian': 43,\n",
              " 'syria': 44,\n",
              " 'bill': 45,\n",
              " 'one': 46,\n",
              " 'make': 47,\n",
              " 'first': 48,\n",
              " 'black': 49,\n",
              " 'win': 50,\n",
              " 'show': 51,\n",
              " 'break': 52,\n",
              " 'right': 53,\n",
              " 'brief': 54,\n",
              " 'man': 55,\n",
              " 'take': 56,\n",
              " 'back': 57,\n",
              " 'anti': 58,\n",
              " 'peopl': 59,\n",
              " 'even': 60,\n",
              " 'nation': 61,\n",
              " 'watch': 62,\n",
              " 'go': 63,\n",
              " 'like': 64,\n",
              " 'use': 65,\n",
              " 'investig': 66,\n",
              " 'de': 67,\n",
              " 'may': 68,\n",
              " 'million': 69,\n",
              " 'die': 70,\n",
              " 'putin': 71,\n",
              " 'polit': 72,\n",
              " 'wikileak': 73,\n",
              " 'life': 74,\n",
              " 'voter': 75,\n",
              " 'could': 76,\n",
              " 'muslim': 77,\n",
              " 'want': 78,\n",
              " 'immigr': 79,\n",
              " 'find': 80,\n",
              " 'end': 81,\n",
              " 'n': 82,\n",
              " 'ban': 83,\n",
              " 'offic': 84,\n",
              " 'fire': 85,\n",
              " 'isi': 86,\n",
              " 'china': 87,\n",
              " 'case': 88,\n",
              " 'fight': 89,\n",
              " 'come': 90,\n",
              " 'border': 91,\n",
              " 'fake': 92,\n",
              " 'women': 93,\n",
              " 'govern': 94,\n",
              " 'court': 95,\n",
              " 'republican': 96,\n",
              " 'illeg': 97,\n",
              " 'chang': 98,\n",
              " 'face': 99,\n",
              " 'warn': 100,\n",
              " 'comey': 101,\n",
              " 'live': 102,\n",
              " 'offici': 103,\n",
              " 'law': 104,\n",
              " 'order': 105,\n",
              " 'health': 106,\n",
              " 'arrest': 107,\n",
              " 'leader': 108,\n",
              " 'top': 109,\n",
              " 'obamacar': 110,\n",
              " 'la': 111,\n",
              " 'big': 112,\n",
              " 'work': 113,\n",
              " 'open': 114,\n",
              " 'forc': 115,\n",
              " 'power': 116,\n",
              " 'help': 117,\n",
              " 'parti': 118,\n",
              " 'rule': 119,\n",
              " 'claim': 120,\n",
              " 'deal': 121,\n",
              " 'citi': 122,\n",
              " 'reveal': 123,\n",
              " 'tri': 124,\n",
              " 'way': 125,\n",
              " 'terror': 126,\n",
              " 'look': 127,\n",
              " 'death': 128,\n",
              " 'north': 129,\n",
              " 'f': 130,\n",
              " 'wall': 131,\n",
              " 'paul': 132,\n",
              " 'israel': 133,\n",
              " 'stand': 134,\n",
              " 'need': 135,\n",
              " 'un': 136,\n",
              " 'poll': 137,\n",
              " 'woman': 138,\n",
              " 'islam': 139,\n",
              " 'california': 140,\n",
              " 'know': 141,\n",
              " 'home': 142,\n",
              " 'migrant': 143,\n",
              " 'famili': 144,\n",
              " 'charg': 145,\n",
              " 'two': 146,\n",
              " 'stop': 147,\n",
              " 'run': 148,\n",
              " 'turn': 149,\n",
              " 'see': 150,\n",
              " 'meet': 151,\n",
              " 'john': 152,\n",
              " 'tell': 153,\n",
              " 'leak': 154,\n",
              " 'speech': 155,\n",
              " 'post': 156,\n",
              " 'found': 157,\n",
              " 'move': 158,\n",
              " 'real': 159,\n",
              " 'gun': 160,\n",
              " 'senat': 161,\n",
              " 'give': 162,\n",
              " 'leav': 163,\n",
              " 'student': 164,\n",
              " 'ask': 165,\n",
              " 'control': 166,\n",
              " 'school': 167,\n",
              " 'shoot': 168,\n",
              " 'presidenti': 169,\n",
              " 'polici': 170,\n",
              " 'aleppo': 171,\n",
              " 'texa': 172,\n",
              " 'review': 173,\n",
              " 'global': 174,\n",
              " 'syrian': 175,\n",
              " 'would': 176,\n",
              " 'job': 177,\n",
              " 'race': 178,\n",
              " 'expos': 179,\n",
              " 'old': 180,\n",
              " 'secur': 181,\n",
              " 'saudi': 182,\n",
              " 'iran': 183,\n",
              " 'human': 184,\n",
              " 'releas': 185,\n",
              " 'brexit': 186,\n",
              " 'talk': 187,\n",
              " 'fund': 188,\n",
              " 'public': 189,\n",
              " 'lose': 190,\n",
              " 'still': 191,\n",
              " 'thing': 192,\n",
              " 'mosul': 193,\n",
              " 'chief': 194,\n",
              " 'lead': 195,\n",
              " 'accus': 196,\n",
              " 'terrorist': 197,\n",
              " 'cnn': 198,\n",
              " 'secret': 199,\n",
              " 'nuclear': 200,\n",
              " 'dead': 201,\n",
              " 'sourc': 202,\n",
              " 'strike': 203,\n",
              " 'game': 204,\n",
              " 'sex': 205,\n",
              " 'happen': 206,\n",
              " 'today': 207,\n",
              " 'ryan': 208,\n",
              " 'crime': 209,\n",
              " 'daili': 210,\n",
              " 'star': 211,\n",
              " 'hit': 212,\n",
              " 'c': 213,\n",
              " 'set': 214,\n",
              " 'last': 215,\n",
              " 'le': 216,\n",
              " 'care': 217,\n",
              " 'question': 218,\n",
              " 'foreign': 219,\n",
              " 'water': 220,\n",
              " 'bomb': 221,\n",
              " 'refuge': 222,\n",
              " 'think': 223,\n",
              " 'gener': 224,\n",
              " 'lie': 225,\n",
              " 'keep': 226,\n",
              " 'money': 227,\n",
              " 'congress': 228,\n",
              " 'free': 229,\n",
              " 'celebr': 230,\n",
              " 'rig': 231,\n",
              " 'militari': 232,\n",
              " 'anoth': 233,\n",
              " 'put': 234,\n",
              " 'facebook': 235,\n",
              " 'victori': 236,\n",
              " 'former': 237,\n",
              " 'christian': 238,\n",
              " 'rise': 239,\n",
              " 'feder': 240,\n",
              " 'g': 241,\n",
              " 'p': 242,\n",
              " 'gold': 243,\n",
              " 'pay': 244,\n",
              " 'ralli': 245,\n",
              " 'high': 246,\n",
              " 'children': 247,\n",
              " 'dem': 248,\n",
              " 'aid': 249,\n",
              " 'left': 250,\n",
              " 'tax': 251,\n",
              " 'fear': 252,\n",
              " 'execut': 253,\n",
              " 'push': 254,\n",
              " 'head': 255,\n",
              " 'stori': 256,\n",
              " 'close': 257,\n",
              " 'scandal': 258,\n",
              " 'fail': 259,\n",
              " 'alien': 260,\n",
              " 'test': 261,\n",
              " 'rock': 262,\n",
              " 'part': 263,\n",
              " 'south': 264,\n",
              " 'gop': 265,\n",
              " 'director': 266,\n",
              " 'group': 267,\n",
              " 'debat': 268,\n",
              " 'judg': 269,\n",
              " 'washington': 270,\n",
              " 'threat': 271,\n",
              " 'insid': 272,\n",
              " 'love': 273,\n",
              " 'photo': 274,\n",
              " 'confirm': 275,\n",
              " 'final': 276,\n",
              " 'l': 277,\n",
              " 'podesta': 278,\n",
              " 'hack': 279,\n",
              " 'exclus': 280,\n",
              " 'next': 281,\n",
              " 'play': 282,\n",
              " 'child': 283,\n",
              " 'sign': 284,\n",
              " 'liber': 285,\n",
              " 'soro': 286,\n",
              " 'histori': 287,\n",
              " 'start': 288,\n",
              " 'al': 289,\n",
              " 'e': 290,\n",
              " 'milo': 291,\n",
              " 'fraud': 292,\n",
              " 'must': 293,\n",
              " 'pipelin': 294,\n",
              " 'press': 295,\n",
              " 'countri': 296,\n",
              " 'veteran': 297,\n",
              " 'korea': 298,\n",
              " 'food': 299,\n",
              " 'shock': 300,\n",
              " 'b': 301,\n",
              " 'record': 302,\n",
              " 'suspect': 303,\n",
              " 'drug': 304,\n",
              " 'turkey': 305,\n",
              " 'threaten': 306,\n",
              " 'jame': 307,\n",
              " 'rape': 308,\n",
              " 'foundat': 309,\n",
              " 'cut': 310,\n",
              " 'hope': 311,\n",
              " 'week': 312,\n",
              " 'return': 313,\n",
              " 'suprem': 314,\n",
              " 'twitter': 315,\n",
              " 'critic': 316,\n",
              " 'becom': 317,\n",
              " 'behind': 318,\n",
              " 'violenc': 319,\n",
              " 'tv': 320,\n",
              " 'team': 321,\n",
              " 'street': 322,\n",
              " 'market': 323,\n",
              " 'truth': 324,\n",
              " 'long': 325,\n",
              " 'best': 326,\n",
              " 'good': 327,\n",
              " 'justic': 328,\n",
              " 'hate': 329,\n",
              " 'great': 330,\n",
              " 'tie': 331,\n",
              " 'seek': 332,\n",
              " 'demand': 333,\n",
              " 'full': 334,\n",
              " 'pick': 335,\n",
              " 'murder': 336,\n",
              " 'michael': 337,\n",
              " 'unit': 338,\n",
              " 'destroy': 339,\n",
              " 'reason': 340,\n",
              " 'interview': 341,\n",
              " 'k': 342,\n",
              " 'let': 343,\n",
              " 'climat': 344,\n",
              " 'cop': 345,\n",
              " 'conserv': 346,\n",
              " 'car': 347,\n",
              " 'machin': 348,\n",
              " 'cancer': 349,\n",
              " 'prepar': 350,\n",
              " 'onion': 351,\n",
              " 'act': 352,\n",
              " 'said': 353,\n",
              " 'step': 354,\n",
              " 'europ': 355,\n",
              " 'crisi': 356,\n",
              " 'pro': 357,\n",
              " 'mani': 358,\n",
              " 'announc': 359,\n",
              " 'finest': 360,\n",
              " 'name': 361,\n",
              " 'prison': 362,\n",
              " 'link': 363,\n",
              " 'blame': 364,\n",
              " 'girl': 365,\n",
              " 'bank': 366,\n",
              " 'goe': 367,\n",
              " 'system': 368,\n",
              " 'save': 369,\n",
              " 'dakota': 370,\n",
              " 'caught': 371,\n",
              " 'session': 372,\n",
              " 'candid': 373,\n",
              " 'got': 374,\n",
              " 'inform': 375,\n",
              " 'hollywood': 376,\n",
              " 'crash': 377,\n",
              " 'billion': 378,\n",
              " 'futur': 379,\n",
              " 'launch': 380,\n",
              " 'mike': 381,\n",
              " 'colleg': 382,\n",
              " 'men': 383,\n",
              " 'target': 384,\n",
              " 'line': 385,\n",
              " 'legal': 386,\n",
              " 'caus': 387,\n",
              " 'major': 388,\n",
              " 'weiner': 389,\n",
              " 'replac': 390,\n",
              " 'agent': 391,\n",
              " 'administr': 392,\n",
              " 'block': 393,\n",
              " 'air': 394,\n",
              " 'univers': 395,\n",
              " 'mexico': 396,\n",
              " 'continu': 397,\n",
              " 'fox': 398,\n",
              " 'book': 399,\n",
              " 'googl': 400,\n",
              " 'build': 401,\n",
              " 'truthfe': 402,\n",
              " 'battl': 403,\n",
              " 'peac': 404,\n",
              " 'near': 405,\n",
              " 'troop': 406,\n",
              " 'bannon': 407,\n",
              " 'corrupt': 408,\n",
              " 'french': 409,\n",
              " 'access': 410,\n",
              " 'rais': 411,\n",
              " 'shot': 412,\n",
              " 'inaugur': 413,\n",
              " 'hand': 414,\n",
              " 'armi': 415,\n",
              " 'west': 416,\n",
              " 'follow': 417,\n",
              " 'kelli': 418,\n",
              " 'worker': 419,\n",
              " 'never': 420,\n",
              " 'admit': 421,\n",
              " 'travel': 422,\n",
              " 'nato': 423,\n",
              " 'palestinian': 424,\n",
              " 'night': 425,\n",
              " 'novemb': 426,\n",
              " 'issu': 427,\n",
              " 'made': 428,\n",
              " 'evid': 429,\n",
              " 'tweet': 430,\n",
              " 'miss': 431,\n",
              " 'georg': 432,\n",
              " 'franc': 433,\n",
              " 'social': 434,\n",
              " 'weapon': 435,\n",
              " 'mark': 436,\n",
              " 'point': 437,\n",
              " 'protect': 438,\n",
              " 'ever': 439,\n",
              " 'refus': 440,\n",
              " 'ex': 441,\n",
              " 'pari': 442,\n",
              " 'list': 443,\n",
              " 'bad': 444,\n",
              " 'month': 445,\n",
              " 'offer': 446,\n",
              " 'trade': 447,\n",
              " 'london': 448,\n",
              " 'civil': 449,\n",
              " 'assang': 450,\n",
              " 'secretari': 451,\n",
              " 'uk': 452,\n",
              " 'en': 453,\n",
              " 'readi': 454,\n",
              " 'minist': 455,\n",
              " 'studi': 456,\n",
              " 'econom': 457,\n",
              " 'send': 458,\n",
              " 'possibl': 459,\n",
              " 'begin': 460,\n",
              " 'realli': 461,\n",
              " 'grow': 462,\n",
              " 'penc': 463,\n",
              " 'promis': 464,\n",
              " 'assault': 465,\n",
              " 'vs': 466,\n",
              " 'member': 467,\n",
              " 'danger': 468,\n",
              " 'mother': 469,\n",
              " 'gorsuch': 470,\n",
              " 'rep': 471,\n",
              " 'wrong': 472,\n",
              " 'word': 473,\n",
              " 'deep': 474,\n",
              " 'slam': 475,\n",
              " 'without': 476,\n",
              " 'eu': 477,\n",
              " 'bring': 478,\n",
              " 'sander': 479,\n",
              " 'mean': 480,\n",
              " 'dog': 481,\n",
              " 'friday': 482,\n",
              " 'surpris': 483,\n",
              " 'hold': 484,\n",
              " 'scientist': 485,\n",
              " 'victim': 486,\n",
              " 'network': 487,\n",
              " 'robert': 488,\n",
              " 'zika': 489,\n",
              " 'th': 490,\n",
              " 'ad': 491,\n",
              " 'visit': 492,\n",
              " 'person': 493,\n",
              " 'defeat': 494,\n",
              " 'rate': 495,\n",
              " 'read': 496,\n",
              " 'everi': 497,\n",
              " 'latest': 498,\n",
              " 'chines': 499,\n",
              " 'creat': 500,\n",
              " 'declar': 501,\n",
              " 'young': 502,\n",
              " 'iraq': 503,\n",
              " 'son': 504,\n",
              " 'town': 505,\n",
              " 'fall': 506,\n",
              " 'letter': 507,\n",
              " 'avoid': 508,\n",
              " 'usa': 509,\n",
              " 'massiv': 510,\n",
              " 'camp': 511,\n",
              " 'cover': 512,\n",
              " 'event': 513,\n",
              " 'deport': 514,\n",
              " 'hear': 515,\n",
              " 'amid': 516,\n",
              " 'sinc': 517,\n",
              " 'project': 518,\n",
              " 'bodi': 519,\n",
              " 'british': 520,\n",
              " 'india': 521,\n",
              " 'three': 522,\n",
              " 'defend': 523,\n",
              " 'fan': 524,\n",
              " 'megyn': 525,\n",
              " 'four': 526,\n",
              " 'mass': 527,\n",
              " 'surviv': 528,\n",
              " 'problem': 529,\n",
              " 'economi': 530,\n",
              " 'missil': 531,\n",
              " 'hour': 532,\n",
              " 'risk': 533,\n",
              " 'feel': 534,\n",
              " 'carri': 535,\n",
              " 'civilian': 536,\n",
              " 'urg': 537,\n",
              " 'huma': 538,\n",
              " 'allow': 539,\n",
              " 'expect': 540,\n",
              " 'david': 541,\n",
              " 'interest': 542,\n",
              " 'crimin': 543,\n",
              " 'steal': 544,\n",
              " 'red': 545,\n",
              " 'second': 546,\n",
              " 'remov': 547,\n",
              " 'freedom': 548,\n",
              " 'matter': 549,\n",
              " 'drop': 550,\n",
              " 'land': 551,\n",
              " 'era': 552,\n",
              " 'mexican': 553,\n",
              " 'cancel': 554,\n",
              " 'buy': 555,\n",
              " 'florida': 556,\n",
              " 'reopen': 557,\n",
              " 'berni': 558,\n",
              " 'el': 559,\n",
              " 'dr': 560,\n",
              " 'messag': 561,\n",
              " 'itali': 562,\n",
              " 'sexual': 563,\n",
              " 'space': 564,\n",
              " 'chicago': 565,\n",
              " 'eye': 566,\n",
              " 'challeng': 567,\n",
              " 'intellig': 568,\n",
              " 'much': 569,\n",
              " 'movi': 570,\n",
              " 'wednesday': 571,\n",
              " 'oil': 572,\n",
              " 'mind': 573,\n",
              " 'speak': 574,\n",
              " 'art': 575,\n",
              " 'commun': 576,\n",
              " 'gay': 577,\n",
              " 'oper': 578,\n",
              " 'pass': 579,\n",
              " 'resist': 580,\n",
              " 'privat': 581,\n",
              " 'spi': 582,\n",
              " 'activist': 583,\n",
              " 'boy': 584,\n",
              " 'transgend': 585,\n",
              " 'told': 586,\n",
              " 'march': 587,\n",
              " 'join': 588,\n",
              " 'olymp': 589,\n",
              " 'host': 590,\n",
              " 'drive': 591,\n",
              " 'action': 592,\n",
              " 'price': 593,\n",
              " 'lost': 594,\n",
              " 'explain': 595,\n",
              " 'share': 596,\n",
              " 'octob': 597,\n",
              " 'journalist': 598,\n",
              " 'gain': 599,\n",
              " 'arm': 600,\n",
              " 'thousand': 601,\n",
              " 'steve': 602,\n",
              " 'germani': 603,\n",
              " 'britain': 604,\n",
              " 'isra': 605,\n",
              " 'blue': 606,\n",
              " 'away': 607,\n",
              " 'abort': 608,\n",
              " 'percent': 609,\n",
              " 'respons': 610,\n",
              " 'doj': 611,\n",
              " 'fact': 612,\n",
              " 'soon': 613,\n",
              " 'sport': 614,\n",
              " 'walk': 615,\n",
              " 'doctor': 616,\n",
              " 'predict': 617,\n",
              " 'key': 618,\n",
              " 'central': 619,\n",
              " 'effort': 620,\n",
              " 'prove': 621,\n",
              " 'around': 622,\n",
              " 'busi': 623,\n",
              " 'jail': 624,\n",
              " 'biggest': 625,\n",
              " 'place': 626,\n",
              " 'lo': 627,\n",
              " 'reach': 628,\n",
              " 'blast': 629,\n",
              " 'elit': 630,\n",
              " 'littl': 631,\n",
              " 'endors': 632,\n",
              " 'budget': 633,\n",
              " 'class': 634,\n",
              " 'morn': 635,\n",
              " 'emerg': 636,\n",
              " 'eastern': 637,\n",
              " 'voic': 638,\n",
              " 'internet': 639,\n",
              " 'concern': 640,\n",
              " 'includ': 641,\n",
              " 'japan': 642,\n",
              " 'realiti': 643,\n",
              " 'berkeley': 644,\n",
              " 'pope': 645,\n",
              " 'compani': 646,\n",
              " 'fals': 647,\n",
              " 'flag': 648,\n",
              " 'view': 649,\n",
              " 'beat': 650,\n",
              " 'noth': 651,\n",
              " 'iraqi': 652,\n",
              " 'abus': 653,\n",
              " 'special': 654,\n",
              " 'jewish': 655,\n",
              " 'hard': 656,\n",
              " 'depart': 657,\n",
              " 'dollar': 658,\n",
              " 'vow': 659,\n",
              " 'revolut': 660,\n",
              " 'guilti': 661,\n",
              " 'probe': 662,\n",
              " 'resign': 663,\n",
              " 'financi': 664,\n",
              " 'past': 665,\n",
              " 'western': 666,\n",
              " 'east': 667,\n",
              " 'defens': 668,\n",
              " 'arabia': 669,\n",
              " 'ahead': 670,\n",
              " 'attempt': 671,\n",
              " 'role': 672,\n",
              " 'earli': 673,\n",
              " 'plane': 674,\n",
              " 'age': 675,\n",
              " 'church': 676,\n",
              " 'base': 677,\n",
              " 'babi': 678,\n",
              " 'riot': 679,\n",
              " 'learn': 680,\n",
              " 'fed': 681,\n",
              " 'airport': 682,\n",
              " 'cost': 683,\n",
              " 'abedin': 684,\n",
              " 'patriot': 685,\n",
              " 'self': 686,\n",
              " 'far': 687,\n",
              " 'earthquak': 688,\n",
              " 'repeal': 689,\n",
              " 'middl': 690,\n",
              " 'attorney': 691,\n",
              " 'dump': 692,\n",
              " 'appear': 693,\n",
              " 'bombshel': 694,\n",
              " 'sen': 695,\n",
              " 'expert': 696,\n",
              " 'tip': 697,\n",
              " 'discuss': 698,\n",
              " 'arriv': 699,\n",
              " 'earth': 700,\n",
              " 'ignor': 701,\n",
              " 'german': 702,\n",
              " 'carolina': 703,\n",
              " 'train': 704,\n",
              " 'honor': 705,\n",
              " 'believ': 706,\n",
              " 'light': 707,\n",
              " 'paper': 708,\n",
              " 'governor': 709,\n",
              " 'donor': 710,\n",
              " 'zone': 711,\n",
              " 'king': 712,\n",
              " 'award': 713,\n",
              " 'femal': 714,\n",
              " 'gorafi': 715,\n",
              " 'reject': 716,\n",
              " 'indian': 717,\n",
              " 'heart': 718,\n",
              " 'shut': 719,\n",
              " 'rebel': 720,\n",
              " 'thank': 721,\n",
              " 'coup': 722,\n",
              " 'racist': 723,\n",
              " 'differ': 724,\n",
              " 'establish': 725,\n",
              " 'outlook': 726,\n",
              " 'rt': 727,\n",
              " 'better': 728,\n",
              " 'chao': 729,\n",
              " 'industri': 730,\n",
              " 'film': 731,\n",
              " 'alleg': 732,\n",
              " 'halloween': 733,\n",
              " 'discov': 734,\n",
              " 'paid': 735,\n",
              " 'alert': 736,\n",
              " 'johnson': 737,\n",
              " 'collaps': 738,\n",
              " 'settlement': 739,\n",
              " 'sell': 740,\n",
              " 'alreadi': 741,\n",
              " 'spicer': 742,\n",
              " 'search': 743,\n",
              " 'alli': 744,\n",
              " 'damag': 745,\n",
              " 'chri': 746,\n",
              " 'result': 747,\n",
              " 'worri': 748,\n",
              " 'intern': 749,\n",
              " 'chemic': 750,\n",
              " 'tuesday': 751,\n",
              " 'ga': 752,\n",
              " 'propos': 753,\n",
              " 'jerusalem': 754,\n",
              " 'wors': 755,\n",
              " 'total': 756,\n",
              " 'vladimir': 757,\n",
              " 'advis': 758,\n",
              " 'silver': 759,\n",
              " 'sue': 760,\n",
              " 'choic': 761,\n",
              " 'add': 762,\n",
              " 'mayor': 763,\n",
              " 'super': 764,\n",
              " 'stage': 765,\n",
              " 'brazil': 766,\n",
              " 'check': 767,\n",
              " 'joe': 768,\n",
              " 'least': 769,\n",
              " 'updat': 770,\n",
              " 'rio': 771,\n",
              " 'inquiri': 772,\n",
              " 'collect': 773,\n",
              " 'nyt': 774,\n",
              " 'cultur': 775,\n",
              " 'document': 776,\n",
              " 'activ': 777,\n",
              " 'monday': 778,\n",
              " 'violent': 779,\n",
              " 'fli': 780,\n",
              " 'sanctuari': 781,\n",
              " 'coulter': 782,\n",
              " 'michel': 783,\n",
              " 'receiv': 784,\n",
              " 'relat': 785,\n",
              " 'storm': 786,\n",
              " 'ice': 787,\n",
              " 'sentenc': 788,\n",
              " 'consid': 789,\n",
              " 'plot': 790,\n",
              " 'less': 791,\n",
              " 'file': 792,\n",
              " 'effect': 793,\n",
              " 'increas': 794,\n",
              " 'season': 795,\n",
              " 'servic': 796,\n",
              " 'path': 797,\n",
              " 'nfl': 798,\n",
              " 'elector': 799,\n",
              " 'soldier': 800,\n",
              " 'side': 801,\n",
              " 'jeff': 802,\n",
              " 'trial': 803,\n",
              " 'enter': 804,\n",
              " 'appl': 805,\n",
              " 'sea': 806,\n",
              " 'thought': 807,\n",
              " 'melania': 808,\n",
              " 'sean': 809,\n",
              " 'author': 810,\n",
              " 'flight': 811,\n",
              " 'well': 812,\n",
              " 'wife': 813,\n",
              " 'struggl': 814,\n",
              " 'anthoni': 815,\n",
              " 'despit': 816,\n",
              " 'agenc': 817,\n",
              " 'mock': 818,\n",
              " 'welcom': 819,\n",
              " 'nbc': 820,\n",
              " 'five': 821,\n",
              " 'friend': 822,\n",
              " 'ann': 823,\n",
              " 'philippin': 824,\n",
              " 'employe': 825,\n",
              " 'program': 826,\n",
              " 'kushner': 827,\n",
              " 'profit': 828,\n",
              " 'ukrain': 829,\n",
              " 'agenda': 830,\n",
              " 'everyon': 831,\n",
              " 'favor': 832,\n",
              " 'true': 833,\n",
              " 'union': 834,\n",
              " 'spend': 835,\n",
              " 'speaker': 836,\n",
              " 'brain': 837,\n",
              " 'mysteri': 838,\n",
              " 'suicid': 839,\n",
              " 'deni': 840,\n",
              " 'trust': 841,\n",
              " 'african': 842,\n",
              " 'tank': 843,\n",
              " 'island': 844,\n",
              " 'brother': 845,\n",
              " 'thursday': 846,\n",
              " 'fatal': 847,\n",
              " 'yemen': 848,\n",
              " 'apolog': 849,\n",
              " 'safe': 850,\n",
              " 'moment': 851,\n",
              " 'toward': 852,\n",
              " 'nearli': 853,\n",
              " 'lawyer': 854,\n",
              " 'european': 855,\n",
              " 'number': 856,\n",
              " 'benefit': 857,\n",
              " 'scott': 858,\n",
              " 'clear': 859,\n",
              " 'import': 860,\n",
              " 'prosecutor': 861,\n",
              " 'daughter': 862,\n",
              " 'cartel': 863,\n",
              " 'airstrik': 864,\n",
              " 'mental': 865,\n",
              " 'moor': 866,\n",
              " 'loss': 867,\n",
              " 'pull': 868,\n",
              " 'assassin': 869,\n",
              " 'agre': 870,\n",
              " 'drone': 871,\n",
              " 'father': 872,\n",
              " 'donat': 873,\n",
              " 'data': 874,\n",
              " 'liberti': 875,\n",
              " 'store': 876,\n",
              " 'shift': 877,\n",
              " 'suggest': 878,\n",
              " 'account': 879,\n",
              " 'hire': 880,\n",
              " 'cross': 881,\n",
              " 'front': 882,\n",
              " 'address': 883,\n",
              " 'hacker': 884,\n",
              " 'chart': 885,\n",
              " 'lawsuit': 886,\n",
              " 'dream': 887,\n",
              " 'might': 888,\n",
              " 'organ': 889,\n",
              " 'bust': 890,\n",
              " 'oregon': 891,\n",
              " 'teacher': 892,\n",
              " 'suspend': 893,\n",
              " 'seri': 894,\n",
              " 'burn': 895,\n",
              " 'cash': 896,\n",
              " 'minut': 897,\n",
              " 'democraci': 898,\n",
              " 'design': 899,\n",
              " 'suit': 900,\n",
              " 'someth': 901,\n",
              " 'approv': 902,\n",
              " 'constitut': 903,\n",
              " 'r': 904,\n",
              " 'aim': 905,\n",
              " 'promot': 906,\n",
              " 'jew': 907,\n",
              " 'wire': 908,\n",
              " 'green': 909,\n",
              " 'door': 910,\n",
              " 'posit': 911,\n",
              " 'decis': 912,\n",
              " 'navi': 913,\n",
              " 'wear': 914,\n",
              " 'oscar': 915,\n",
              " 'crowd': 916,\n",
              " 'st': 917,\n",
              " 'com': 918,\n",
              " 'area': 919,\n",
              " 'six': 920,\n",
              " 'h': 921,\n",
              " 'site': 922,\n",
              " 'progress': 923,\n",
              " 'indict': 924,\n",
              " 'tom': 925,\n",
              " 'clash': 926,\n",
              " 'flynn': 927,\n",
              " 'venezuela': 928,\n",
              " 'retir': 929,\n",
              " 'sale': 930,\n",
              " 'low': 931,\n",
              " 'duke': 932,\n",
              " 'troubl': 933,\n",
              " 'teen': 934,\n",
              " 'parent': 935,\n",
              " 'failur': 936,\n",
              " 'audio': 937,\n",
              " 'propaganda': 938,\n",
              " 'stock': 939,\n",
              " 'chelsea': 940,\n",
              " 'dutert': 941,\n",
              " 'hidden': 942,\n",
              " 'insur': 943,\n",
              " 'sweden': 944,\n",
              " 'delay': 945,\n",
              " 'altern': 946,\n",
              " 'answer': 947,\n",
              " 'took': 948,\n",
              " 'pentagon': 949,\n",
              " 'pictur': 950,\n",
              " 'nomin': 951,\n",
              " 'success': 952,\n",
              " 'roger': 953,\n",
              " 'unveil': 954,\n",
              " 'pressur': 955,\n",
              " 'potenti': 956,\n",
              " 'across': 957,\n",
              " 'prime': 958,\n",
              " 'wing': 959,\n",
              " 'gang': 960,\n",
              " 'council': 961,\n",
              " 'natur': 962,\n",
              " 'orlando': 963,\n",
              " 'cold': 964,\n",
              " 'seen': 965,\n",
              " 'ring': 966,\n",
              " 'god': 967,\n",
              " 'yet': 968,\n",
              " 'arab': 969,\n",
              " 'kid': 970,\n",
              " 'reform': 971,\n",
              " 'tillerson': 972,\n",
              " 'limit': 973,\n",
              " 'blow': 974,\n",
              " 'fix': 975,\n",
              " 'medic': 976,\n",
              " 'dnc': 977,\n",
              " 'ambassador': 978,\n",
              " 'longer': 979,\n",
              " 'develop': 980,\n",
              " 'bridg': 981,\n",
              " 'corpor': 982,\n",
              " 'assad': 983,\n",
              " 'sick': 984,\n",
              " 'track': 985,\n",
              " 'afghan': 986,\n",
              " 'bid': 987,\n",
              " 'decad': 988,\n",
              " 'merkel': 989,\n",
              " 'michigan': 990,\n",
              " 'popul': 991,\n",
              " 'franci': 992,\n",
              " 'cabinet': 993,\n",
              " 'quit': 994,\n",
              " 'africa': 995,\n",
              " 'common': 996,\n",
              " 'afghanistan': 997,\n",
              " 'julian': 998,\n",
              " 'entir': 999,\n",
              " 'convict': 1000,\n",
              " ...}"
            ]
          },
          "metadata": {},
          "execution_count": 78
        }
      ]
    },
    {
      "cell_type": "code",
      "source": [
        "nos=np.array([len(X) for x in X])\n",
        "len(nos[nos>1000])"
      ],
      "metadata": {
        "colab": {
          "base_uri": "https://localhost:8080/"
        },
        "id": "9bFX2QFnPa-_",
        "outputId": "0bfe5522-6041-4374-f9dd-db4ef21ab05f"
      },
      "execution_count": 79,
      "outputs": [
        {
          "output_type": "execute_result",
          "data": {
            "text/plain": [
              "20800"
            ]
          },
          "metadata": {},
          "execution_count": 79
        }
      ]
    },
    {
      "cell_type": "code",
      "source": [
        "from tensorflow.keras.preprocessing.sequence import pad_sequences"
      ],
      "metadata": {
        "id": "WDsSHiMLPkBD"
      },
      "execution_count": 80,
      "outputs": []
    },
    {
      "cell_type": "code",
      "source": [
        "maxlen=1000\n",
        "X=pad_sequences(X,maxlen=maxlen)"
      ],
      "metadata": {
        "id": "VWs-mWnCPfjH"
      },
      "execution_count": 81,
      "outputs": []
    },
    {
      "cell_type": "code",
      "source": [
        "len(X[101])"
      ],
      "metadata": {
        "colab": {
          "base_uri": "https://localhost:8080/"
        },
        "id": "6Yv-DWrtP20J",
        "outputId": "db951270-4983-47d5-a940-59d888956da8"
      },
      "execution_count": 82,
      "outputs": [
        {
          "output_type": "execute_result",
          "data": {
            "text/plain": [
              "1000"
            ]
          },
          "metadata": {},
          "execution_count": 82
        }
      ]
    },
    {
      "cell_type": "code",
      "source": [
        "vocab_size=len(tokenizer.word_index) +1\n",
        "vocab=tokenizer.word_index"
      ],
      "metadata": {
        "id": "m7IbaOvPP9Yt"
      },
      "execution_count": 83,
      "outputs": []
    },
    {
      "cell_type": "code",
      "source": [
        "def get_weight_matrix(model):\n",
        "    weight_matrix=np.zeros((vocab_size,DIM))\n",
        "\n",
        "    for word, i in vocab.items():\n",
        "      weight_matrix[i]=model.wv[word]\n",
        "\n",
        "    return weight_matrix"
      ],
      "metadata": {
        "id": "6qAZByYpQC59"
      },
      "execution_count": 84,
      "outputs": []
    },
    {
      "cell_type": "code",
      "source": [
        "embedding_vectors=get_weight_matrix(w2v_model)"
      ],
      "metadata": {
        "id": "V-cvCFE7QJrD"
      },
      "execution_count": 85,
      "outputs": []
    },
    {
      "cell_type": "code",
      "source": [
        "embedding_vectors.shape"
      ],
      "metadata": {
        "colab": {
          "base_uri": "https://localhost:8080/"
        },
        "id": "ABrUiaBSQN5o",
        "outputId": "d4d22e49-4b31-4b57-d5c0-dd8ece464a9b"
      },
      "execution_count": 86,
      "outputs": [
        {
          "output_type": "execute_result",
          "data": {
            "text/plain": [
              "(14882, 100)"
            ]
          },
          "metadata": {},
          "execution_count": 86
        }
      ]
    },
    {
      "cell_type": "code",
      "source": [
        "from tensorflow.keras.models import Sequential\n",
        "from tensorflow.keras.layers import Dense,Embedding,LSTM,Conv1D,MaxPool1D\n",
        "from sklearn.model_selection import train_test_split\n",
        "from sklearn.metrics import classification_report,accuracy_score"
      ],
      "metadata": {
        "id": "h2mWXdDRQZkf"
      },
      "execution_count": 87,
      "outputs": []
    },
    {
      "cell_type": "code",
      "source": [
        ""
      ],
      "metadata": {
        "id": "x01nN2NeQb39"
      },
      "execution_count": null,
      "outputs": []
    },
    {
      "cell_type": "markdown",
      "source": [
        "1. LSTM (Long Short Term Mermory) Algorithm"
      ],
      "metadata": {
        "id": "kWxUUanHQfDV"
      }
    },
    {
      "cell_type": "code",
      "source": [
        "# build model\n",
        "model=Sequential()\n",
        "model.add(Embedding(vocab_size,output_dim=DIM,weights=[embedding_vectors],input_length=maxlen,trainable=False))\n",
        "model.add(LSTM(units=128))\n",
        "model.add(Dense(1,activation='sigmoid'))\n",
        "model.compile(optimizer='adam',loss='binary_crossentropy',metrics=['acc'])"
      ],
      "metadata": {
        "id": "vkUNxlcVQom2"
      },
      "execution_count": 88,
      "outputs": []
    },
    {
      "cell_type": "code",
      "source": [
        "model.summary()"
      ],
      "metadata": {
        "colab": {
          "base_uri": "https://localhost:8080/"
        },
        "id": "rEFIIMSiQ0tq",
        "outputId": "ba9ee0dd-d365-4db0-a93e-f95fcf23383b"
      },
      "execution_count": 89,
      "outputs": [
        {
          "output_type": "stream",
          "name": "stdout",
          "text": [
            "Model: \"sequential\"\n",
            "_________________________________________________________________\n",
            " Layer (type)                Output Shape              Param #   \n",
            "=================================================================\n",
            " embedding (Embedding)       (None, 1000, 100)         1488200   \n",
            "                                                                 \n",
            " lstm (LSTM)                 (None, 128)               117248    \n",
            "                                                                 \n",
            " dense (Dense)               (None, 1)                 129       \n",
            "                                                                 \n",
            "=================================================================\n",
            "Total params: 1,605,577\n",
            "Trainable params: 117,377\n",
            "Non-trainable params: 1,488,200\n",
            "_________________________________________________________________\n"
          ]
        }
      ]
    },
    {
      "cell_type": "code",
      "source": [
        "X_train,X_test,Y_train,Y_test=train_test_split(X,Y)"
      ],
      "metadata": {
        "id": "OVOCYKShQ708"
      },
      "execution_count": 90,
      "outputs": []
    },
    {
      "cell_type": "code",
      "source": [
        "model.fit(X_train,Y_train,validation_split=0.3,epochs=3)"
      ],
      "metadata": {
        "colab": {
          "base_uri": "https://localhost:8080/"
        },
        "id": "9oOrqXTqQ_ji",
        "outputId": "df5d1676-67db-42a5-b1d3-06d395d62799"
      },
      "execution_count": 91,
      "outputs": [
        {
          "output_type": "stream",
          "name": "stdout",
          "text": [
            "Epoch 1/3\n",
            "342/342 [==============================] - 62s 162ms/step - loss: 0.3123 - acc: 0.8675 - val_loss: 0.2561 - val_acc: 0.9026\n",
            "Epoch 2/3\n",
            "342/342 [==============================] - 54s 158ms/step - loss: 0.2502 - acc: 0.9021 - val_loss: 0.2344 - val_acc: 0.9109\n",
            "Epoch 3/3\n",
            "342/342 [==============================] - 54s 159ms/step - loss: 0.2353 - acc: 0.9072 - val_loss: 0.2197 - val_acc: 0.9137\n"
          ]
        },
        {
          "output_type": "execute_result",
          "data": {
            "text/plain": [
              "<keras.callbacks.History at 0x7ff902745290>"
            ]
          },
          "metadata": {},
          "execution_count": 91
        }
      ]
    },
    {
      "cell_type": "code",
      "source": [
        "Y_pred=(model.predict(X_test) >= 0.5).astype(int)"
      ],
      "metadata": {
        "id": "EywJla2hRGCs"
      },
      "execution_count": 92,
      "outputs": []
    },
    {
      "cell_type": "code",
      "source": [
        "#check accuracy\n",
        "accuracy_score(Y_test,Y_pred)"
      ],
      "metadata": {
        "colab": {
          "base_uri": "https://localhost:8080/"
        },
        "id": "U_3ZZ1GhRI52",
        "outputId": "7156308a-a8d2-4cd5-a673-4abd82743ca3"
      },
      "execution_count": 93,
      "outputs": [
        {
          "output_type": "execute_result",
          "data": {
            "text/plain": [
              "0.9011538461538462"
            ]
          },
          "metadata": {},
          "execution_count": 93
        }
      ]
    },
    {
      "cell_type": "code",
      "source": [
        "print(classification_report(Y_test,Y_pred))"
      ],
      "metadata": {
        "colab": {
          "base_uri": "https://localhost:8080/"
        },
        "id": "xp_LInsfRPA4",
        "outputId": "c8cfac72-dc4c-4b5e-d377-79afca46d7c0"
      },
      "execution_count": 94,
      "outputs": [
        {
          "output_type": "stream",
          "name": "stdout",
          "text": [
            "              precision    recall  f1-score   support\n",
            "\n",
            "           0       0.99      0.81      0.89      2605\n",
            "           1       0.84      0.99      0.91      2595\n",
            "\n",
            "    accuracy                           0.90      5200\n",
            "   macro avg       0.91      0.90      0.90      5200\n",
            "weighted avg       0.92      0.90      0.90      5200\n",
            "\n"
          ]
        }
      ]
    },
    {
      "cell_type": "code",
      "source": [
        ""
      ],
      "metadata": {
        "id": "tR7p8Z3URP9w"
      },
      "execution_count": null,
      "outputs": []
    },
    {
      "cell_type": "code",
      "source": [
        "from sklearn.metrics import confusion_matrix\n",
        "cm=confusion_matrix(Y_test,Y_pred)\n",
        "print(cm)"
      ],
      "metadata": {
        "colab": {
          "base_uri": "https://localhost:8080/"
        },
        "id": "Ds3fJZkRRVU4",
        "outputId": "07024e2d-d564-48ce-af62-7a3092b9654c"
      },
      "execution_count": 95,
      "outputs": [
        {
          "output_type": "stream",
          "name": "stdout",
          "text": [
            "[[2110  495]\n",
            " [  19 2576]]\n"
          ]
        }
      ]
    },
    {
      "cell_type": "code",
      "source": [
        "# Calculate Precision\n",
        "precision=(2461)/(2461+35)\n",
        "print(\"Precision = \",precision)"
      ],
      "metadata": {
        "colab": {
          "base_uri": "https://localhost:8080/"
        },
        "id": "I4Ye8aIKReNc",
        "outputId": "00c6cd1b-b8c7-4e9c-ceac-5b90c28f2824"
      },
      "execution_count": 96,
      "outputs": [
        {
          "output_type": "stream",
          "name": "stdout",
          "text": [
            "Precision =  0.9859775641025641\n"
          ]
        }
      ]
    },
    {
      "cell_type": "code",
      "source": [
        "# Calculate Recall\n",
        "recall=(2461)/(35+2564)\n",
        "print(\"Recall = \",recall)"
      ],
      "metadata": {
        "colab": {
          "base_uri": "https://localhost:8080/"
        },
        "id": "VYwNn4zKTGT8",
        "outputId": "9d128e63-10c4-4a96-8743-e235d8a5252c"
      },
      "execution_count": 97,
      "outputs": [
        {
          "output_type": "stream",
          "name": "stdout",
          "text": [
            "Recall =  0.9469026548672567\n"
          ]
        }
      ]
    },
    {
      "cell_type": "code",
      "source": [
        "#Calculate F1-score\n",
        "F1= 2 * (precision * recall) / (precision + recall)\n",
        "print(\"F1-Score = \",F1)"
      ],
      "metadata": {
        "colab": {
          "base_uri": "https://localhost:8080/"
        },
        "id": "Y9ovRQOcTTCK",
        "outputId": "8ce25e0f-e962-4b40-8e92-3b044a184c24"
      },
      "execution_count": 98,
      "outputs": [
        {
          "output_type": "stream",
          "name": "stdout",
          "text": [
            "F1-Score =  0.9660451422963688\n"
          ]
        }
      ]
    },
    {
      "cell_type": "markdown",
      "source": [
        "2. ANN (Artifical Neural Networks) Algorithm"
      ],
      "metadata": {
        "id": "vECyiy9aUKvM"
      }
    },
    {
      "cell_type": "code",
      "source": [
        "from sklearn.neural_network import MLPRegressor\n",
        "from sklearn.preprocessing import StandardScaler\n",
        "import matplotlib.pyplot as plt\n",
        "import seaborn as sns"
      ],
      "metadata": {
        "id": "y1nq4_qzUU6T"
      },
      "execution_count": 99,
      "outputs": []
    },
    {
      "cell_type": "code",
      "source": [
        "X_train,X_test,Y_train,Y_test=train_test_split(X,Y)"
      ],
      "metadata": {
        "id": "-aZFV2IvUaQ9"
      },
      "execution_count": 100,
      "outputs": []
    },
    {
      "cell_type": "code",
      "source": [
        "ANN=MLPRegressor(hidden_layer_sizes=(64,64,64),activation='relu',alpha=0.0001,batch_size='auto',learning_rate='constant',learning_rate_init=0.001,\n",
        "                 random_state=1,max_iter=2000).fit(X_train,Y_train)"
      ],
      "metadata": {
        "id": "w5Rv8zbTCFua"
      },
      "execution_count": 101,
      "outputs": []
    },
    {
      "cell_type": "code",
      "source": [
        "Y_pred=(ANN.predict(X_test) >= 0.5).astype(int)"
      ],
      "metadata": {
        "id": "8cVk4snOUekh"
      },
      "execution_count": 102,
      "outputs": []
    },
    {
      "cell_type": "code",
      "source": [
        "#check accuracy\n",
        "accuracy_score(Y_test,Y_pred)"
      ],
      "metadata": {
        "id": "90bzhAqBUqiZ",
        "colab": {
          "base_uri": "https://localhost:8080/"
        },
        "outputId": "03bba6ef-75b8-452a-c73a-130a028362c8"
      },
      "execution_count": 103,
      "outputs": [
        {
          "output_type": "execute_result",
          "data": {
            "text/plain": [
              "0.7321153846153846"
            ]
          },
          "metadata": {},
          "execution_count": 103
        }
      ]
    },
    {
      "cell_type": "code",
      "source": [
        "print(classification_report(Y_test,Y_pred))"
      ],
      "metadata": {
        "id": "gGzWKLx8UzEu",
        "colab": {
          "base_uri": "https://localhost:8080/"
        },
        "outputId": "79a78da3-44c6-46d3-eb25-1f27b2bf3c48"
      },
      "execution_count": 104,
      "outputs": [
        {
          "output_type": "stream",
          "name": "stdout",
          "text": [
            "              precision    recall  f1-score   support\n",
            "\n",
            "           0       0.83      0.59      0.69      2619\n",
            "           1       0.68      0.88      0.77      2581\n",
            "\n",
            "    accuracy                           0.73      5200\n",
            "   macro avg       0.75      0.73      0.73      5200\n",
            "weighted avg       0.76      0.73      0.73      5200\n",
            "\n"
          ]
        }
      ]
    },
    {
      "cell_type": "code",
      "source": [
        "# Comfusion Matrix of ANN\n",
        "from sklearn.metrics import confusion_matrix\n",
        "cm=confusion_matrix(Y_test,Y_pred)\n",
        "print(cm)"
      ],
      "metadata": {
        "id": "u13X2OsdU6zi",
        "colab": {
          "base_uri": "https://localhost:8080/"
        },
        "outputId": "00bc10a1-aeb7-42ea-9681-ec7684483100"
      },
      "execution_count": 105,
      "outputs": [
        {
          "output_type": "stream",
          "name": "stdout",
          "text": [
            "[[1537 1082]\n",
            " [ 311 2270]]\n"
          ]
        }
      ]
    },
    {
      "cell_type": "code",
      "source": [
        "# Calculate Precision\n",
        "precision=(816)/(218+816)\n",
        "print(\"Precision = \",precision)"
      ],
      "metadata": {
        "id": "14gLvaXjVBuH",
        "colab": {
          "base_uri": "https://localhost:8080/"
        },
        "outputId": "c883e6f4-2c08-4eab-a104-eada091948c0"
      },
      "execution_count": 106,
      "outputs": [
        {
          "output_type": "stream",
          "name": "stdout",
          "text": [
            "Precision =  0.7891682785299806\n"
          ]
        }
      ]
    },
    {
      "cell_type": "code",
      "source": [
        "# Calculate Recall\n",
        "recall=(816)/(218+2396)\n",
        "print(\"Recall = \",recall)"
      ],
      "metadata": {
        "id": "i7dL6oRqVLba",
        "colab": {
          "base_uri": "https://localhost:8080/"
        },
        "outputId": "794ee5f7-d859-4ae6-9340-2b0e10b6c6b8"
      },
      "execution_count": 107,
      "outputs": [
        {
          "output_type": "stream",
          "name": "stdout",
          "text": [
            "Recall =  0.31216526396327465\n"
          ]
        }
      ]
    },
    {
      "cell_type": "code",
      "source": [
        "#Calculate F1-score\n",
        "F1= 2 * (precision * recall) / (precision + recall)\n",
        "print(\"F1-Score = \",F1)"
      ],
      "metadata": {
        "id": "ksHsCqpWVMRP",
        "colab": {
          "base_uri": "https://localhost:8080/"
        },
        "outputId": "17b5e25b-e65a-4338-fed5-dfd2430b0906"
      },
      "execution_count": 108,
      "outputs": [
        {
          "output_type": "stream",
          "name": "stdout",
          "text": [
            "F1-Score =  0.4473684210526315\n"
          ]
        }
      ]
    },
    {
      "cell_type": "code",
      "source": [
        ""
      ],
      "metadata": {
        "id": "snv3dBllFB44"
      },
      "execution_count": null,
      "outputs": []
    },
    {
      "cell_type": "markdown",
      "source": [
        "Graph of Precision,Recall,F1-score for ML and DL algoes"
      ],
      "metadata": {
        "id": "Rbb0KiYVHNK-"
      }
    },
    {
      "cell_type": "code",
      "source": [
        "import matplotlib.pyplot as plt"
      ],
      "metadata": {
        "id": "77X4NM1SHX3f"
      },
      "execution_count": 109,
      "outputs": []
    },
    {
      "cell_type": "code",
      "source": [
        "x=['LR','DT','GB','RF','NB','SVM','KNN','XB','LSTM','ANN']\n",
        "\n",
        "y1=[0.878417,0.900707,0.867318,0.901582,0.900814,0.899854,0.529382,0.862337,0.985977,0.789168]\n",
        "y2=[0.987516,0.937900,0.993918,0.985275,0.956466,0.983675,0.989117,0.994558,0.946902,0.312165]\n",
        "y3=[0.929777,0.918927,0.926313,0.926313,0.927806,0.939899,0.689655,0.923740,0.966045,0.447368]"
      ],
      "metadata": {
        "id": "Cdjmpc9SHg4p"
      },
      "execution_count": 110,
      "outputs": []
    },
    {
      "cell_type": "code",
      "source": [
        "\n",
        "fig=plt.figure(figsize=(10,6))\n",
        "ax=fig.add_subplot()\n",
        "ax.set_xlabel('Algorithm',fontsize=18,fontweight='bold')\n",
        "ax.set_ylabel('Score',fontsize=18,fontweight='bold')\n",
        "ax.xaxis.label.set_color('red')\n",
        "ax.yaxis.label.set_color('red')\n",
        "ax.set_title('Evaluation Metrics',fontsize=18,fontweight='bold')\n",
        "plt.xticks(fontsize=10,fontweight='bold')\n",
        "plt.yticks(fontsize=10,fontweight='bold')\n",
        "plt.plot(x,y1)\n",
        "plt.plot(x,y2)\n",
        "plt.plot(x,y3)\n",
        "plt.legend([\"Precision\",\"Recall\",\"F1_Score\"],fontsize=18)\n",
        "plt.show()"
      ],
      "metadata": {
        "colab": {
          "base_uri": "https://localhost:8080/",
          "height": 416
        },
        "id": "1BNgZDK8PyLd",
        "outputId": "45a83e27-4c58-443d-a208-5d2e4c94e3b1"
      },
      "execution_count": 111,
      "outputs": [
        {
          "output_type": "display_data",
          "data": {
            "text/plain": [
              "<Figure size 720x432 with 1 Axes>"
            ],
            "image/png": "[encoded data removed]"
          },
          "metadata": {
            "needs_background": "light"
          }
        }
      ]
    },
    {
      "cell_type": "code",
      "source": [
        "y4=[92.53,91.71,92.08,93.87,92.54,93.70,55.43,91.77,90.57,78.86]\n",
        "\n",
        "fig=plt.figure(figsize=(10,6))\n",
        "ax=fig.add_subplot()\n",
        "ax.set_xlabel('Algorithm',fontsize=18,fontweight='bold')\n",
        "ax.set_ylabel('Score',fontsize=18,fontweight='bold')\n",
        "ax.xaxis.label.set_color('red')\n",
        "ax.yaxis.label.set_color('red')\n",
        "ax.set_title('Accuracy',fontsize=18,fontweight='bold')\n",
        "plt.xticks(fontsize=10,fontweight='bold')\n",
        "plt.yticks(fontsize=10,fontweight='bold')\n",
        "plt.plot(x,y1)\n",
        "\n",
        "\n",
        "plt.show()"
      ],
      "metadata": {
        "colab": {
          "base_uri": "https://localhost:8080/",
          "height": 416
        },
        "id": "t49a2eC4Qsk0",
        "outputId": "b19f7572-f88c-408e-e43e-b2826420e641"
      },
      "execution_count": 112,
      "outputs": [
        {
          "output_type": "display_data",
          "data": {
            "text/plain": [
              "<Figure size 720x432 with 1 Axes>"
            ],
            "image/png": "[encoded data removed]"
          },
          "metadata": {
            "needs_background": "light"
          }
        }
      ]
    },
    {
      "cell_type": "markdown",
      "source": [
        "Random Forest Classifier has highest accuracy with 93.87%\n",
        "\n",
        "---\n",
        "\n"
      ],
      "metadata": {
        "id": "5t73MMp380Kw"
      }
    },
    {
      "cell_type": "code",
      "source": [
        "#save model\n",
        "import pickle\n",
        "filename='finalized_model.pkl'\n",
        "pickle.dump(RF,open(filename,'wb'))"
      ],
      "metadata": {
        "id": "KxixT4X8880s"
      },
      "execution_count": 113,
      "outputs": []
    },
    {
      "cell_type": "code",
      "source": [
        "from sklearn.feature_extraction.text import TfidfVectorizer\n",
        "vector=TfidfVectorizer(stop_words='english',max_df=0.7)"
      ],
      "metadata": {
        "id": "BBGAA98VO8vx"
      },
      "execution_count": 114,
      "outputs": []
    },
    {
      "cell_type": "code",
      "source": [
        "#Save vectorizer\n",
        "filename=\"Vectorizer.pkl\"\n",
        "pickle.dump(vector,open(filename,'wb'))"
      ],
      "metadata": {
        "id": "o4tS5E6HPBRK"
      },
      "execution_count": 115,
      "outputs": []
    }
  ],
  "metadata": {
    "colab": {
      "collapsed_sections": [],
      "name": "Fake News Detection G22.ipynb",
      "provenance": [],
      "include_colab_link": true
    },
    "kernelspec": {
      "display_name": "Python 3",
      "name": "python3"
    },
    "language_info": {
      "name": "python"
    },
    "accelerator": "GPU"
  },
  "nbformat": 4,
  "nbformat_minor": 0
}